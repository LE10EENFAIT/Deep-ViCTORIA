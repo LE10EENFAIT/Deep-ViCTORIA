{
 "cells": [
  {
   "cell_type": "code",
   "execution_count": 1,
   "id": "satisfied-painting",
   "metadata": {},
   "outputs": [],
   "source": [
    "import sys\n",
    "sys.path.insert(1, 'Classes/')\n",
    "import pandas as pd\n",
    "import numpy as np\n",
    "import random\n",
    "from tqdm import tqdm\n",
    "from multiprocessing import current_process\n",
    "\n",
    "from ScoreGetter import ScoreGetter\n",
    "from dataset_utils import checkIfEarlyMidEnd\n",
    "from dataset_utils import encodeBoard\n",
    "from dataset_utils import getColumns\n",
    "\n",
    "MILLION = 1e6"
   ]
  },
  {
   "cell_type": "code",
   "execution_count": 2,
   "id": "81c44ccd-4763-45b8-a536-c424d87f32bb",
   "metadata": {},
   "outputs": [
    {
     "name": "stderr",
     "output_type": "stream",
     "text": [
      "Creating fens from pgn: 40000031it [1:36:56, 6877.26it/s]                                  \n"
     ]
    },
    {
     "name": "stdout",
     "output_type": "stream",
     "text": [
      "(34048083, 1)\n"
     ]
    },
    {
     "data": {
      "text/html": [
       "<div>\n",
       "<style scoped>\n",
       "    .dataframe tbody tr th:only-of-type {\n",
       "        vertical-align: middle;\n",
       "    }\n",
       "\n",
       "    .dataframe tbody tr th {\n",
       "        vertical-align: top;\n",
       "    }\n",
       "\n",
       "    .dataframe thead th {\n",
       "        text-align: right;\n",
       "    }\n",
       "</style>\n",
       "<table border=\"1\" class=\"dataframe\">\n",
       "  <thead>\n",
       "    <tr style=\"text-align: right;\">\n",
       "      <th></th>\n",
       "      <th>board</th>\n",
       "    </tr>\n",
       "  </thead>\n",
       "  <tbody>\n",
       "    <tr>\n",
       "      <th>40606094</th>\n",
       "      <td>8/2R1Rpkp/8/2p1n3/8/P1p1N1PP/P4q1K/8 w - - 0 37</td>\n",
       "    </tr>\n",
       "    <tr>\n",
       "      <th>40606095</th>\n",
       "      <td>8/2R1Rpkp/8/2p1n3/8/P1p3PP/P4qNK/8 b - - 1 37</td>\n",
       "    </tr>\n",
       "    <tr>\n",
       "      <th>40606096</th>\n",
       "      <td>8/2R1Rpkp/8/2p5/8/P1p2nPP/P4qNK/8 w - - 2 38</td>\n",
       "    </tr>\n",
       "    <tr>\n",
       "      <th>40606097</th>\n",
       "      <td>8/2R1Rpkp/8/2p5/8/P1p2nPP/P4qN1/7K b - - 3 38</td>\n",
       "    </tr>\n",
       "    <tr>\n",
       "      <th>40606098</th>\n",
       "      <td>8/2R1Rpkp/8/2p5/8/P1p2nPP/P5N1/6qK w - - 4 39</td>\n",
       "    </tr>\n",
       "  </tbody>\n",
       "</table>\n",
       "</div>"
      ],
      "text/plain": [
       "                                                    board\n",
       "40606094  8/2R1Rpkp/8/2p1n3/8/P1p1N1PP/P4q1K/8 w - - 0 37\n",
       "40606095    8/2R1Rpkp/8/2p1n3/8/P1p3PP/P4qNK/8 b - - 1 37\n",
       "40606096     8/2R1Rpkp/8/2p5/8/P1p2nPP/P4qNK/8 w - - 2 38\n",
       "40606097    8/2R1Rpkp/8/2p5/8/P1p2nPP/P4qN1/7K b - - 3 38\n",
       "40606098    8/2R1Rpkp/8/2p5/8/P1p2nPP/P5N1/6qK w - - 4 39"
      ]
     },
     "execution_count": 2,
     "metadata": {},
     "output_type": "execute_result"
    }
   ],
   "source": [
    "from PGNParser import parseFromPGN\n",
    "\n",
    "data = parseFromPGN('Datasets/lichess_db_standard_rated_2020-02.pgn', nb_fens=40 * MILLION)\n",
    "df = pd.DataFrame(data, columns=['board'])\n",
    "df = df.drop_duplicates(subset=['board'])\n",
    "df.to_csv('Datasets/raw_dataset.csv', index=False)\n",
    "\n",
    "print(df.shape)\n",
    "df.tail()"
   ]
  },
  {
   "cell_type": "code",
   "execution_count": 3,
   "id": "opponent-enzyme",
   "metadata": {},
   "outputs": [
    {
     "name": "stdout",
     "output_type": "stream",
     "text": [
      "(1000000, 1)\n"
     ]
    },
    {
     "data": {
      "text/html": [
       "<div>\n",
       "<style scoped>\n",
       "    .dataframe tbody tr th:only-of-type {\n",
       "        vertical-align: middle;\n",
       "    }\n",
       "\n",
       "    .dataframe tbody tr th {\n",
       "        vertical-align: top;\n",
       "    }\n",
       "\n",
       "    .dataframe thead th {\n",
       "        text-align: right;\n",
       "    }\n",
       "</style>\n",
       "<table border=\"1\" class=\"dataframe\">\n",
       "  <thead>\n",
       "    <tr style=\"text-align: right;\">\n",
       "      <th></th>\n",
       "      <th>board</th>\n",
       "    </tr>\n",
       "  </thead>\n",
       "  <tbody>\n",
       "    <tr>\n",
       "      <th>999995</th>\n",
       "      <td>rn1qkbnr/pp2pppp/8/3p4/3P2b1/3B1N2/PPP2PPP/RNB...</td>\n",
       "    </tr>\n",
       "    <tr>\n",
       "      <th>999996</th>\n",
       "      <td>rn1qkbnr/pp3ppp/4p3/3p4/3P2b1/3B1N2/PPP2PPP/RN...</td>\n",
       "    </tr>\n",
       "    <tr>\n",
       "      <th>999997</th>\n",
       "      <td>rn1qkbnr/pp3ppp/4p3/3p4/3P2b1/3B1N2/PPPN1PPP/R...</td>\n",
       "    </tr>\n",
       "    <tr>\n",
       "      <th>999998</th>\n",
       "      <td>r2qkbnr/pp3ppp/2n1p3/3p4/3P2b1/3B1N2/PPPN1PPP/...</td>\n",
       "    </tr>\n",
       "    <tr>\n",
       "      <th>999999</th>\n",
       "      <td>r2qkbnr/pp3ppp/2n1p3/3p4/3P2b1/2PB1N2/PP1N1PPP...</td>\n",
       "    </tr>\n",
       "  </tbody>\n",
       "</table>\n",
       "</div>"
      ],
      "text/plain": [
       "                                                    board\n",
       "999995  rn1qkbnr/pp2pppp/8/3p4/3P2b1/3B1N2/PPP2PPP/RNB...\n",
       "999996  rn1qkbnr/pp3ppp/4p3/3p4/3P2b1/3B1N2/PPP2PPP/RN...\n",
       "999997  rn1qkbnr/pp3ppp/4p3/3p4/3P2b1/3B1N2/PPPN1PPP/R...\n",
       "999998  r2qkbnr/pp3ppp/2n1p3/3p4/3P2b1/3B1N2/PPPN1PPP/...\n",
       "999999  r2qkbnr/pp3ppp/2n1p3/3p4/3P2b1/2PB1N2/PP1N1PPP..."
      ]
     },
     "execution_count": 3,
     "metadata": {},
     "output_type": "execute_result"
    }
   ],
   "source": [
    "df = pd.read_csv('Datasets/raw_dataset.csv')\n",
    "boards = df['board'].values\n",
    "print(df.shape)\n",
    "df.tail()"
   ]
  },
  {
   "cell_type": "markdown",
   "id": "radical-semester",
   "metadata": {},
   "source": [
    "#### We load an engine to get a score from the positions."
   ]
  },
  {
   "cell_type": "code",
   "execution_count": 4,
   "id": "balanced-queen",
   "metadata": {},
   "outputs": [],
   "source": [
    "score_getter = ScoreGetter('/usr/local/bin/stockfish', 'eval', 'go depth 1')"
   ]
  },
  {
   "cell_type": "markdown",
   "id": "lesser-balance",
   "metadata": {},
   "source": [
    "#### We create our dataset by getting an equal number of start, middle and end game positions and encoding them."
   ]
  },
  {
   "cell_type": "code",
   "execution_count": 5,
   "id": "funded-soundtrack",
   "metadata": {},
   "outputs": [
    {
     "name": "stderr",
     "output_type": "stream",
     "text": [
      "Splitting and encoding:   0%|          | 0/3000000 [00:00<?, ?it/s]"
     ]
    },
    {
     "name": "stdout",
     "output_type": "stream",
     "text": [
      "1\n"
     ]
    },
    {
     "name": "stderr",
     "output_type": "stream",
     "text": [
      "Splitting and encoding:   3%|▎         | 97072/3000000 [01:46<53:15, 908.36it/s]  "
     ]
    },
    {
     "ename": "KeyboardInterrupt",
     "evalue": "",
     "output_type": "error",
     "traceback": [
      "\u001b[0;31m---------------------------------------------------------------------------\u001b[0m",
      "\u001b[0;31mKeyboardInterrupt\u001b[0m                         Traceback (most recent call last)",
      "\u001b[0;32m<ipython-input-5-2b8c51663e9c>\u001b[0m in \u001b[0;36m<module>\u001b[0;34m\u001b[0m\n\u001b[1;32m     15\u001b[0m         \u001b[0mboard\u001b[0m \u001b[0;34m=\u001b[0m \u001b[0mboards\u001b[0m\u001b[0;34m[\u001b[0m\u001b[0mj\u001b[0m\u001b[0;34m]\u001b[0m\u001b[0;34m\u001b[0m\u001b[0;34m\u001b[0m\u001b[0m\n\u001b[1;32m     16\u001b[0m         \u001b[0;32mtry\u001b[0m\u001b[0;34m:\u001b[0m\u001b[0;34m\u001b[0m\u001b[0;34m\u001b[0m\u001b[0m\n\u001b[0;32m---> 17\u001b[0;31m             \u001b[0mdata\u001b[0m\u001b[0;34m.\u001b[0m\u001b[0mappend\u001b[0m\u001b[0;34m(\u001b[0m\u001b[0mnp\u001b[0m\u001b[0;34m.\u001b[0m\u001b[0mappend\u001b[0m\u001b[0;34m(\u001b[0m\u001b[0mencodeBoard\u001b[0m\u001b[0;34m(\u001b[0m\u001b[0mboard\u001b[0m\u001b[0;34m)\u001b[0m\u001b[0;34m,\u001b[0m \u001b[0mscore_getter\u001b[0m\u001b[0;34m.\u001b[0m\u001b[0mgetScore\u001b[0m\u001b[0;34m(\u001b[0m\u001b[0mboard\u001b[0m\u001b[0;34m)\u001b[0m\u001b[0;34m)\u001b[0m\u001b[0;34m)\u001b[0m\u001b[0;34m\u001b[0m\u001b[0;34m\u001b[0m\u001b[0m\n\u001b[0m\u001b[1;32m     18\u001b[0m             \u001b[0mpbar\u001b[0m\u001b[0;34m.\u001b[0m\u001b[0mupdate\u001b[0m\u001b[0;34m(\u001b[0m\u001b[0;36m1\u001b[0m\u001b[0;34m)\u001b[0m\u001b[0;34m\u001b[0m\u001b[0;34m\u001b[0m\u001b[0m\n\u001b[1;32m     19\u001b[0m         \u001b[0;32mexcept\u001b[0m \u001b[0mException\u001b[0m \u001b[0;32mas\u001b[0m \u001b[0me\u001b[0m\u001b[0;34m:\u001b[0m\u001b[0;34m\u001b[0m\u001b[0;34m\u001b[0m\u001b[0m\n",
      "\u001b[0;32m~/Documents/Projets/Chess/Engines/Deep-ViCTORIA/notebooks/Classes/ScoreGetter.py\u001b[0m in \u001b[0;36mgetScore\u001b[0;34m(self, fen)\u001b[0m\n\u001b[1;32m     35\u001b[0m                 \u001b[0;32mbreak\u001b[0m\u001b[0;34m\u001b[0m\u001b[0;34m\u001b[0m\u001b[0m\n\u001b[1;32m     36\u001b[0m \u001b[0;34m\u001b[0m\u001b[0m\n\u001b[0;32m---> 37\u001b[0;31m             \u001b[0mout\u001b[0m \u001b[0;34m=\u001b[0m \u001b[0mself\u001b[0m\u001b[0;34m.\u001b[0m\u001b[0mengine\u001b[0m\u001b[0;34m.\u001b[0m\u001b[0mstdout\u001b[0m\u001b[0;34m.\u001b[0m\u001b[0mreadline\u001b[0m\u001b[0;34m(\u001b[0m\u001b[0;34m)\u001b[0m\u001b[0;34m\u001b[0m\u001b[0;34m\u001b[0m\u001b[0m\n\u001b[0m\u001b[1;32m     38\u001b[0m         \u001b[0;32mreturn\u001b[0m \u001b[0mscore\u001b[0m\u001b[0;34m\u001b[0m\u001b[0;34m\u001b[0m\u001b[0m\n\u001b[1;32m     39\u001b[0m \u001b[0;34m\u001b[0m\u001b[0m\n",
      "\u001b[0;31mKeyboardInterrupt\u001b[0m: "
     ]
    }
   ],
   "source": [
    "batch_size = int(MILLION)\n",
    "nb_sample = 34\n",
    "offset = 0\n",
    "engine = \"Stockfish 13\"\n",
    "\n",
    "current = current_process()\n",
    "pos = current._identity[0]-1 if len(current._identity) > 0 else 0\n",
    "pbar = tqdm(total=batch_size*nb_sample, desc='Splitting and encoding', position=pos)\n",
    "\n",
    "\n",
    "for i in range(nb_sample):\n",
    "    print(i+1)\n",
    "    data = []\n",
    "    for j in range(i * batch_size, min(boards.shape[0], i * batch_size + batch_size)):\n",
    "        board = boards[j]\n",
    "        try:\n",
    "            data.append(np.append(encodeBoard(board), score_getter.getScore(board)))\n",
    "            pbar.update(1)\n",
    "        except Exception as e: \n",
    "            if str(e) == '[Errno 32] Broken pipe':\n",
    "                score_getter.restart()\n",
    "            continue\n",
    "            \n",
    "    df = pd.DataFrame(data, columns=np.append(getColumns(), 'cp (' + engine + ')'))\n",
    "    df.to_csv('Datasets/' + engine + '/dataset' + str(offset + i + 1) + '.csv', index=False)\n",
    "    \n",
    "pbar.close()\n"
   ]
  },
  {
   "cell_type": "code",
   "execution_count": null,
   "id": "412f93fd-4bd9-465e-aa59-5461791c7580",
   "metadata": {},
   "outputs": [],
   "source": []
  }
 ],
 "metadata": {
  "kernelspec": {
   "display_name": "Python 3",
   "language": "python",
   "name": "python3"
  },
  "language_info": {
   "codemirror_mode": {
    "name": "ipython",
    "version": 3
   },
   "file_extension": ".py",
   "mimetype": "text/x-python",
   "name": "python",
   "nbconvert_exporter": "python",
   "pygments_lexer": "ipython3",
   "version": "3.9.4"
  }
 },
 "nbformat": 4,
 "nbformat_minor": 5
}
