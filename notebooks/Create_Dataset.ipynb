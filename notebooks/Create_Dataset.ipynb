{
 "cells": [
  {
   "cell_type": "code",
   "execution_count": 1,
   "id": "satisfied-painting",
   "metadata": {},
   "outputs": [],
   "source": [
    "import sys\n",
    "sys.path.insert(1, 'Classes/')\n",
    "import pandas as pd\n",
    "import numpy as np\n",
    "import random\n",
    "from tqdm import tqdm\n",
    "from multiprocessing import current_process\n",
    "\n",
    "from ScoreGetter import ScoreGetter\n",
    "from dataset_utils import checkIfEarlyMidEnd\n",
    "from dataset_utils import encodeBoard\n",
    "from dataset_utils import getColumns\n",
    "\n",
    "MILLION = 1e6"
   ]
  },
  {
   "cell_type": "code",
   "execution_count": 2,
   "id": "81c44ccd-4763-45b8-a536-c424d87f32bb",
   "metadata": {},
   "outputs": [
    {
     "data": {
      "text/plain": [
       "\"\\nfrom PGNParser import parseFromPGN\\n\\ndata = parseFromPGN('Datasets/lichess_db_standard_rated_2020-02.pgn', nb_fens=40 * MILLION)\\ndf = pd.DataFrame(data, columns=['board'])\\ndf = df.drop_duplicates(subset=['board'])\\ndf.to_csv('Datasets/raw_dataset.csv', index=False)\\n\\nprint(df.shape)\\ndf.tail()\\n\""
      ]
     },
     "execution_count": 2,
     "metadata": {},
     "output_type": "execute_result"
    }
   ],
   "source": [
    "'''\n",
    "from PGNParser import parseFromPGN\n",
    "\n",
    "data = parseFromPGN('Datasets/lichess_db_standard_rated_2020-02.pgn', nb_fens=40 * MILLION)\n",
    "df = pd.DataFrame(data, columns=['board'])\n",
    "df = df.drop_duplicates(subset=['board'])\n",
    "df.to_csv('Datasets/raw_dataset.csv', index=False)\n",
    "\n",
    "print(df.shape)\n",
    "df.tail()\n",
    "'''"
   ]
  },
  {
   "cell_type": "code",
   "execution_count": 3,
   "id": "opponent-enzyme",
   "metadata": {},
   "outputs": [
    {
     "name": "stdout",
     "output_type": "stream",
     "text": [
      "(34048083, 1)\n"
     ]
    },
    {
     "data": {
      "text/html": [
       "<div>\n",
       "<style scoped>\n",
       "    .dataframe tbody tr th:only-of-type {\n",
       "        vertical-align: middle;\n",
       "    }\n",
       "\n",
       "    .dataframe tbody tr th {\n",
       "        vertical-align: top;\n",
       "    }\n",
       "\n",
       "    .dataframe thead th {\n",
       "        text-align: right;\n",
       "    }\n",
       "</style>\n",
       "<table border=\"1\" class=\"dataframe\">\n",
       "  <thead>\n",
       "    <tr style=\"text-align: right;\">\n",
       "      <th></th>\n",
       "      <th>board</th>\n",
       "    </tr>\n",
       "  </thead>\n",
       "  <tbody>\n",
       "    <tr>\n",
       "      <th>34048078</th>\n",
       "      <td>8/2R1Rpkp/8/2p1n3/8/P1p1N1PP/P4q1K/8 w - - 0 37</td>\n",
       "    </tr>\n",
       "    <tr>\n",
       "      <th>34048079</th>\n",
       "      <td>8/2R1Rpkp/8/2p1n3/8/P1p3PP/P4qNK/8 b - - 1 37</td>\n",
       "    </tr>\n",
       "    <tr>\n",
       "      <th>34048080</th>\n",
       "      <td>8/2R1Rpkp/8/2p5/8/P1p2nPP/P4qNK/8 w - - 2 38</td>\n",
       "    </tr>\n",
       "    <tr>\n",
       "      <th>34048081</th>\n",
       "      <td>8/2R1Rpkp/8/2p5/8/P1p2nPP/P4qN1/7K b - - 3 38</td>\n",
       "    </tr>\n",
       "    <tr>\n",
       "      <th>34048082</th>\n",
       "      <td>8/2R1Rpkp/8/2p5/8/P1p2nPP/P5N1/6qK w - - 4 39</td>\n",
       "    </tr>\n",
       "  </tbody>\n",
       "</table>\n",
       "</div>"
      ],
      "text/plain": [
       "                                                    board\n",
       "34048078  8/2R1Rpkp/8/2p1n3/8/P1p1N1PP/P4q1K/8 w - - 0 37\n",
       "34048079    8/2R1Rpkp/8/2p1n3/8/P1p3PP/P4qNK/8 b - - 1 37\n",
       "34048080     8/2R1Rpkp/8/2p5/8/P1p2nPP/P4qNK/8 w - - 2 38\n",
       "34048081    8/2R1Rpkp/8/2p5/8/P1p2nPP/P4qN1/7K b - - 3 38\n",
       "34048082    8/2R1Rpkp/8/2p5/8/P1p2nPP/P5N1/6qK w - - 4 39"
      ]
     },
     "execution_count": 3,
     "metadata": {},
     "output_type": "execute_result"
    }
   ],
   "source": [
    "df = pd.read_csv('Datasets/raw_dataset.csv')\n",
    "boards = df['board'].values\n",
    "print(df.shape)\n",
    "df.tail()"
   ]
  },
  {
   "cell_type": "markdown",
   "id": "radical-semester",
   "metadata": {},
   "source": [
    "#### We load an engine to get a score from the positions."
   ]
  },
  {
   "cell_type": "code",
   "execution_count": 4,
   "id": "balanced-queen",
   "metadata": {},
   "outputs": [],
   "source": [
    "score_getter = ScoreGetter('/home/gaetan/Documents/Chess/Engines/Stockfish 13/stockfish_13_linux_x64_bmi2', 'eval', 'go depth 1')"
   ]
  },
  {
   "cell_type": "markdown",
   "id": "lesser-balance",
   "metadata": {},
   "source": [
    "#### We create our dataset by getting an equal number of start, middle and end game positions and encoding them."
   ]
  },
  {
   "cell_type": "code",
   "execution_count": null,
   "id": "funded-soundtrack",
   "metadata": {},
   "outputs": [
    {
     "name": "stderr",
     "output_type": "stream",
     "text": [
      "Splitting and encoding:   0%|          | 0/34000000 [00:00<?, ?it/s]"
     ]
    },
    {
     "name": "stdout",
     "output_type": "stream",
     "text": [
      "Batch nb: 1\n"
     ]
    },
    {
     "name": "stderr",
     "output_type": "stream",
     "text": [
      "Splitting and encoding:   0%|          | 11999/34000000 [00:11<8:43:15, 1082.57it/s]"
     ]
    }
   ],
   "source": [
    "batch_size = int(MILLION)\n",
    "nb_sample = 34\n",
    "offset = 0\n",
    "engine = \"Stockfish 13\"\n",
    "\n",
    "current = current_process()\n",
    "pos = current._identity[0]-1 if len(current._identity) > 0 else 0\n",
    "pbar = tqdm(total=batch_size*nb_sample, desc='Splitting and encoding', position=pos)\n",
    "\n",
    "\n",
    "for i in range(nb_sample):\n",
    "    print(\"Batch nb:\", i+1)\n",
    "    data = []\n",
    "    for j in range(i * batch_size, min(boards.shape[0], i * batch_size + batch_size)):\n",
    "        board = boards[j]\n",
    "        try:\n",
    "            data.append(np.append(encodeBoard(board), score_getter.getScore(board)))\n",
    "            pbar.update(1)\n",
    "        except Exception as e: \n",
    "            if str(e) == '[Errno 32] Broken pipe':\n",
    "                score_getter.restart()\n",
    "            continue\n",
    "            \n",
    "    df = pd.DataFrame(data, columns=np.append(getColumns(), 'cp (' + engine + ')'))\n",
    "    df.to_csv('Datasets/' + engine + '/dataset' + str(offset + i + 1) + '.csv', index=False)\n",
    "    \n",
    "pbar.close()\n"
   ]
  },
  {
   "cell_type": "code",
   "execution_count": 10,
   "id": "bb899bdb-34f1-4bec-9e37-e05f50e58be6",
   "metadata": {},
   "outputs": [
    {
     "data": {
      "text/plain": [
       "(1984645, 132)"
      ]
     },
     "execution_count": 10,
     "metadata": {},
     "output_type": "execute_result"
    }
   ],
   "source": [
    "df = pd.read_csv('Datasets/Stockfish 13/dataset34.csv')\n",
    "df2 = pd.read_csv('Datasets/Stockfish 13/dataset33.csv')\n",
    "df = pd.concat([df, df2])\n",
    "df.to_csv('Datasets/Stockfish 13/test_dataset.csv', index=False)\n",
    "df.shape"
   ]
  },
  {
   "cell_type": "code",
   "execution_count": null,
   "id": "c99aa763-8bd5-47e8-9a6d-cc37a26ee687",
   "metadata": {},
   "outputs": [],
   "source": []
  }
 ],
 "metadata": {
  "kernelspec": {
   "display_name": "Python 3",
   "language": "python",
   "name": "python3"
  },
  "language_info": {
   "codemirror_mode": {
    "name": "ipython",
    "version": 3
   },
   "file_extension": ".py",
   "mimetype": "text/x-python",
   "name": "python",
   "nbconvert_exporter": "python",
   "pygments_lexer": "ipython3",
   "version": "3.8.5"
  }
 },
 "nbformat": 4,
 "nbformat_minor": 5
}
