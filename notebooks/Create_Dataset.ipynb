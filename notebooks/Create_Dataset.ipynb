{
 "cells": [
  {
   "cell_type": "code",
   "execution_count": 1,
   "id": "satisfied-painting",
   "metadata": {},
   "outputs": [],
   "source": [
    "import sys\n",
    "sys.path.insert(1, 'Classes/')\n",
    "import pandas as pd\n",
    "import numpy as np\n",
    "import random\n",
    "from tqdm import tqdm\n",
    "from multiprocessing import current_process\n",
    "\n",
    "from ScoreGetter import ScoreGetter\n",
    "from dataset_utils import checkIfEarlyMidEnd\n",
    "from dataset_utils import encodeBoard\n",
    "from dataset_utils import getColumns"
   ]
  },
  {
   "cell_type": "code",
   "execution_count": 2,
   "id": "81c44ccd-4763-45b8-a536-c424d87f32bb",
   "metadata": {},
   "outputs": [
    {
     "data": {
      "text/plain": [
       "\"\\nfrom PGNParser import parseFromPGN\\n\\ndata = parseFromPGN('Datasets/CCRL_games.pgn', 3000000)\\ndf = pd.DataFrame(data, columns=['board'])\\n#df = df.sample(frac=0.33)\\ndf = df.drop_duplicates(subset=['board'])\\ndf.to_csv('Datasets/CCRL_fens.csv', index=False)\\n\\ndf.tail()\\n\""
      ]
     },
     "execution_count": 2,
     "metadata": {},
     "output_type": "execute_result"
    }
   ],
   "source": [
    "'''\n",
    "from PGNParser import parseFromPGN\n",
    "\n",
    "data = parseFromPGN('Datasets/CCRL_games.pgn', 3000000)\n",
    "df = pd.DataFrame(data, columns=['board'])\n",
    "#df = df.sample(frac=0.33)\n",
    "df = df.drop_duplicates(subset=['board'])\n",
    "df.to_csv('Datasets/CCRL_fens.csv', index=False)\n",
    "\n",
    "df.tail()\n",
    "'''"
   ]
  },
  {
   "cell_type": "code",
   "execution_count": 3,
   "id": "opponent-enzyme",
   "metadata": {},
   "outputs": [
    {
     "data": {
      "text/html": [
       "<div>\n",
       "<style scoped>\n",
       "    .dataframe tbody tr th:only-of-type {\n",
       "        vertical-align: middle;\n",
       "    }\n",
       "\n",
       "    .dataframe tbody tr th {\n",
       "        vertical-align: top;\n",
       "    }\n",
       "\n",
       "    .dataframe thead th {\n",
       "        text-align: right;\n",
       "    }\n",
       "</style>\n",
       "<table border=\"1\" class=\"dataframe\">\n",
       "  <thead>\n",
       "    <tr style=\"text-align: right;\">\n",
       "      <th></th>\n",
       "      <th>board</th>\n",
       "    </tr>\n",
       "  </thead>\n",
       "  <tbody>\n",
       "    <tr>\n",
       "      <th>2937874</th>\n",
       "      <td>8/8/8/8/6K1/8/3k4/q4q2 w - - 2 74</td>\n",
       "    </tr>\n",
       "    <tr>\n",
       "      <th>2937875</th>\n",
       "      <td>8/8/8/8/7K/8/3k4/q4q2 b - - 3 74</td>\n",
       "    </tr>\n",
       "    <tr>\n",
       "      <th>2937876</th>\n",
       "      <td>8/8/5q2/8/7K/8/3k4/5q2 w - - 4 75</td>\n",
       "    </tr>\n",
       "    <tr>\n",
       "      <th>2937877</th>\n",
       "      <td>8/8/5q2/8/6K1/8/3k4/5q2 b - - 5 75</td>\n",
       "    </tr>\n",
       "    <tr>\n",
       "      <th>2937878</th>\n",
       "      <td>8/8/5q2/8/6K1/5q2/3k4/8 w - - 6 76</td>\n",
       "    </tr>\n",
       "  </tbody>\n",
       "</table>\n",
       "</div>"
      ],
      "text/plain": [
       "                                      board\n",
       "2937874   8/8/8/8/6K1/8/3k4/q4q2 w - - 2 74\n",
       "2937875    8/8/8/8/7K/8/3k4/q4q2 b - - 3 74\n",
       "2937876   8/8/5q2/8/7K/8/3k4/5q2 w - - 4 75\n",
       "2937877  8/8/5q2/8/6K1/8/3k4/5q2 b - - 5 75\n",
       "2937878  8/8/5q2/8/6K1/5q2/3k4/8 w - - 6 76"
      ]
     },
     "execution_count": 3,
     "metadata": {},
     "output_type": "execute_result"
    }
   ],
   "source": [
    "df = pd.read_csv('Datasets/CCRL_fens.csv')\n",
    "boards = df['board'].values\n",
    "df.tail()"
   ]
  },
  {
   "cell_type": "markdown",
   "id": "radical-semester",
   "metadata": {},
   "source": [
    "#### We load an engine to get a score from the positions."
   ]
  },
  {
   "cell_type": "code",
   "execution_count": 4,
   "id": "balanced-queen",
   "metadata": {},
   "outputs": [],
   "source": [
    "score_getter = ScoreGetter('/home/gaetan/Téléchargements/stockfish/stockfish', 'eval', 'go depth 1')"
   ]
  },
  {
   "cell_type": "markdown",
   "id": "lesser-balance",
   "metadata": {},
   "source": [
    "#### We create our dataset by getting an equal number of start, middle and end game positions and encoding them."
   ]
  },
  {
   "cell_type": "code",
   "execution_count": 5,
   "id": "funded-soundtrack",
   "metadata": {},
   "outputs": [
    {
     "name": "stderr",
     "output_type": "stream",
     "text": [
      "Splitting and encoding:   0%|          | 1/3000000 [00:00<128:00:42,  6.51it/s]"
     ]
    },
    {
     "name": "stdout",
     "output_type": "stream",
     "text": [
      "1\n"
     ]
    },
    {
     "name": "stderr",
     "output_type": "stream",
     "text": [
      "Splitting and encoding:  33%|███▎      | 999433/3000000 [20:05<138:40:57,  4.01it/s]"
     ]
    },
    {
     "name": "stdout",
     "output_type": "stream",
     "text": [
      "2\n"
     ]
    },
    {
     "name": "stderr",
     "output_type": "stream",
     "text": [
      "Splitting and encoding:  67%|██████▋   | 1998658/3000000 [40:15<76:03:24,  3.66it/s] "
     ]
    },
    {
     "name": "stdout",
     "output_type": "stream",
     "text": [
      "3\n"
     ]
    },
    {
     "name": "stderr",
     "output_type": "stream",
     "text": [
      "Splitting and encoding:  98%|█████████▊| 2935461/3000000 [59:11<01:18, 826.61it/s]  \n"
     ]
    }
   ],
   "source": [
    "batch_size = 1000000\n",
    "nb_sample = 3\n",
    "offset = 12\n",
    "\n",
    "current = current_process()\n",
    "pos = current._identity[0]-1 if len(current._identity) > 0 else 0\n",
    "pbar = tqdm(total=batch_size*nb_sample, desc='Splitting and encoding', position=pos)\n",
    "\n",
    "\n",
    "for i in range(nb_sample):\n",
    "    print(i+1)\n",
    "    data = []\n",
    "    for j in range(i * batch_size, min(boards.shape[0], i * batch_size + batch_size)):\n",
    "        board = boards[j]\n",
    "        try:\n",
    "            data.append(np.append(encodeBoard(board), score_getter.getScore(board)))\n",
    "            pbar.update(1)\n",
    "        except:\n",
    "            continue\n",
    "    df = pd.DataFrame(data, columns=np.append(getColumns(), 'cp (Stockfish 13)'))\n",
    "    df.to_csv('Datasets/Stockfish/dataset' + str(offset + i + 1) + '.csv', index=False)\n",
    "    \n",
    "pbar.close()\n"
   ]
  },
  {
   "cell_type": "code",
   "execution_count": null,
   "id": "5db3f44f-c33f-4156-b3e9-c0f965c4645b",
   "metadata": {},
   "outputs": [],
   "source": []
  }
 ],
 "metadata": {
  "kernelspec": {
   "display_name": "Python 3",
   "language": "python",
   "name": "python3"
  },
  "language_info": {
   "codemirror_mode": {
    "name": "ipython",
    "version": 3
   },
   "file_extension": ".py",
   "mimetype": "text/x-python",
   "name": "python",
   "nbconvert_exporter": "python",
   "pygments_lexer": "ipython3",
   "version": "3.8.5"
  }
 },
 "nbformat": 4,
 "nbformat_minor": 5
}
