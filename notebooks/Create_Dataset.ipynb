{
 "cells": [
  {
   "cell_type": "code",
   "execution_count": 1,
   "id": "satisfied-painting",
   "metadata": {},
   "outputs": [],
   "source": [
    "import sys\n",
    "sys.path.insert(1, 'Classes/')\n",
    "import pandas as pd\n",
    "import numpy as np\n",
    "import random\n",
    "from tqdm import tqdm\n",
    "from multiprocessing import current_process\n",
    "\n",
    "from ScoreGetter import ScoreGetter\n",
    "from dataset_utils import checkIfEarlyMidEnd\n",
    "from dataset_utils import encodeBoard\n",
    "from dataset_utils import getColumns"
   ]
  },
  {
   "cell_type": "code",
   "execution_count": 2,
   "id": "opponent-enzyme",
   "metadata": {},
   "outputs": [],
   "source": [
    "df = pd.read_csv('Datasets/raw_dataset_13M.csv')\n",
    "boards = df['board'].values"
   ]
  },
  {
   "cell_type": "markdown",
   "id": "radical-semester",
   "metadata": {},
   "source": [
    "#### We load an engine to get a score from the positions."
   ]
  },
  {
   "cell_type": "code",
   "execution_count": 3,
   "id": "balanced-queen",
   "metadata": {},
   "outputs": [],
   "source": [
    "score_getter = ScoreGetter('/home/gaetan/Téléchargements/stockfish/stockfish', 'eval', 'go depth 1')"
   ]
  },
  {
   "cell_type": "markdown",
   "id": "lesser-balance",
   "metadata": {},
   "source": [
    "#### We create our dataset by getting an equal number of start, middle and end game positions and encoding them."
   ]
  },
  {
   "cell_type": "code",
   "execution_count": 4,
   "id": "funded-soundtrack",
   "metadata": {},
   "outputs": [
    {
     "name": "stderr",
     "output_type": "stream",
     "text": [
      "Splitting and encoding:   0%|          | 1/3000000 [00:00<143:07:10,  5.82it/s]"
     ]
    },
    {
     "name": "stdout",
     "output_type": "stream",
     "text": [
      "1\n"
     ]
    },
    {
     "name": "stderr",
     "output_type": "stream",
     "text": [
      "Splitting and encoding:  33%|███▎      | 1000089/3000000 [20:18<143:47:45,  3.86it/s]"
     ]
    },
    {
     "name": "stdout",
     "output_type": "stream",
     "text": [
      "2\n"
     ]
    },
    {
     "name": "stderr",
     "output_type": "stream",
     "text": [
      "Splitting and encoding:  67%|██████▋   | 2000088/3000000 [40:40<69:00:19,  4.03it/s] "
     ]
    },
    {
     "name": "stdout",
     "output_type": "stream",
     "text": [
      "3\n"
     ]
    },
    {
     "name": "stderr",
     "output_type": "stream",
     "text": [
      "Splitting and encoding: 100%|██████████| 3000000/3000000 [1:01:04<00:00, 818.66it/s]\n"
     ]
    },
    {
     "data": {
      "text/plain": [
       "'\\nfor i in range(4000000, len(boards)):\\n    board = boards[i]\\n    part = checkIfEarlyMidEnd(board)\\n    \\n    if len(earlies) < batch_size and part == \"early_game\":\\n        earlies.append(np.append(encodeBoard(board), score_getter.getScore(board)))\\n        pbar.update(1)\\n    \\n    elif len(mids) < batch_size and part == \"mid_game\":\\n        mids.append(np.append(encodeBoard(board), score_getter.getScore(board)))\\n        pbar.update(1)\\n        \\n    elif len(ends) < batch_size and part == \"end_game\":\\n        ends.append(np.append(encodeBoard(board), score_getter.getScore(board)))\\n        pbar.update(1)\\n    \\n    if len(earlies) >= batch_size and len(mids) >= batch_size and len(ends) >= batch_size:\\n        break\\n    \\npbar.close()\\n'"
      ]
     },
     "execution_count": 4,
     "metadata": {},
     "output_type": "execute_result"
    }
   ],
   "source": [
    "total_size = 1000000\n",
    "batch_size = total_size / 3.0\n",
    "\n",
    "earlies = []\n",
    "mids = []\n",
    "ends = []\n",
    "\n",
    "\n",
    "current = current_process()\n",
    "pos = current._identity[0]-1 if len(current._identity) > 0 else 0\n",
    "pbar = tqdm(total=total_size*3, desc='Splitting and encoding', position=pos)\n",
    "\n",
    "\n",
    "for i in range(13):\n",
    "    print(i+1)\n",
    "    data = []\n",
    "    for j in range(i * 1000000, i * 1000000 + total_size):\n",
    "        board = boards[j]\n",
    "        data.append(np.append(encodeBoard(board), score_getter.getScore(board)))\n",
    "        pbar.update(1)\n",
    "    df = pd.DataFrame(data, columns=np.append(getColumns(), 'cp (Stockfish 13)'))\n",
    "    df.to_csv('Datasets/dataset' + str(i+1) + '.csv', index=False)\n",
    "    \n",
    "pbar.close()\n"
   ]
  },
  {
   "cell_type": "code",
   "execution_count": null,
   "id": "unauthorized-cemetery",
   "metadata": {},
   "outputs": [],
   "source": []
  }
 ],
 "metadata": {
  "kernelspec": {
   "display_name": "Python 3",
   "language": "python",
   "name": "python3"
  },
  "language_info": {
   "codemirror_mode": {
    "name": "ipython",
    "version": 3
   },
   "file_extension": ".py",
   "mimetype": "text/x-python",
   "name": "python",
   "nbconvert_exporter": "python",
   "pygments_lexer": "ipython3",
   "version": "3.8.5"
  }
 },
 "nbformat": 4,
 "nbformat_minor": 5
}
