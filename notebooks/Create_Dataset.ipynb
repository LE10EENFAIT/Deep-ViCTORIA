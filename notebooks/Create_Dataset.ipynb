{
 "cells": [
  {
   "cell_type": "code",
   "execution_count": 1,
   "id": "ambient-young",
   "metadata": {},
   "outputs": [],
   "source": [
    "import sys\n",
    "sys.path.insert(1, 'Classes/')\n",
    "import pandas as pd\n",
    "import numpy as np\n",
    "import random\n",
    "from tqdm import tqdm\n",
    "from multiprocessing import current_process\n",
    "\n",
    "from ScoreGetter import ScoreGetter\n",
    "from dataset_utils import checkIfEarlyMidEnd\n",
    "from dataset_utils import encodeBoard\n",
    "from dataset_utils import getColumns"
   ]
  },
  {
   "cell_type": "code",
   "execution_count": 2,
   "id": "regulation-sarah",
   "metadata": {},
   "outputs": [],
   "source": [
    "df = pd.read_csv('Datasets/raw_dataset_13M.csv')\n",
    "boards = df['board'].values"
   ]
  },
  {
   "cell_type": "markdown",
   "id": "optional-activation",
   "metadata": {},
   "source": [
    "#### We load an engine to get a score from the positions."
   ]
  },
  {
   "cell_type": "code",
   "execution_count": 3,
   "id": "derived-greece",
   "metadata": {},
   "outputs": [],
   "source": [
    "score_getter = ScoreGetter('/home/gaetan/Téléchargements/stockfish/stockfish', 'eval', 'go depth 1')"
   ]
  },
  {
   "cell_type": "markdown",
   "id": "noted-trade",
   "metadata": {},
   "source": [
    "#### We create our dataset by getting an equal number of start, middle and end game positions and encoding them."
   ]
  },
  {
   "cell_type": "code",
   "execution_count": 4,
   "id": "vulnerable-clause",
   "metadata": {},
   "outputs": [
    {
     "name": "stderr",
     "output_type": "stream",
     "text": [
      "Splitting and encoding: 1000002it [20:20, 819.28it/s]                            \n"
     ]
    }
   ],
   "source": [
    "total_size = 1000000\n",
    "batch_size = total_size / 3.0\n",
    "\n",
    "earlies = []\n",
    "mids = []\n",
    "ends = []\n",
    "\n",
    "current = current_process()\n",
    "pos = current._identity[0]-1 if len(current._identity) > 0 else 0\n",
    "pbar = tqdm(total=total_size, desc='Splitting and encoding', position=pos)\n",
    "\n",
    "for i in range(1000000, len(boards)):\n",
    "    board = boards[i]\n",
    "    part = checkIfEarlyMidEnd(board)\n",
    "    \n",
    "    if len(earlies) < batch_size and part == \"early_game\":\n",
    "        earlies.append(np.append(encodeBoard(board), score_getter.getScore(board)))\n",
    "        pbar.update(1)\n",
    "    \n",
    "    elif len(mids) < batch_size and part == \"mid_game\":\n",
    "        mids.append(np.append(encodeBoard(board), score_getter.getScore(board)))\n",
    "        pbar.update(1)\n",
    "        \n",
    "    elif len(ends) < batch_size and part == \"end_game\":\n",
    "        ends.append(np.append(encodeBoard(board), score_getter.getScore(board)))\n",
    "        pbar.update(1)\n",
    "    \n",
    "    if len(earlies) >= batch_size and len(mids) >= batch_size and len(ends) >= batch_size:\n",
    "        break\n",
    "    \n",
    "pbar.close()"
   ]
  },
  {
   "cell_type": "code",
   "execution_count": 5,
   "id": "parallel-namibia",
   "metadata": {},
   "outputs": [
    {
     "data": {
      "text/plain": [
       "1000002"
      ]
     },
     "execution_count": 5,
     "metadata": {},
     "output_type": "execute_result"
    }
   ],
   "source": [
    "data = earlies + mids + ends\n",
    "random.shuffle(data)\n",
    "len(data)"
   ]
  },
  {
   "cell_type": "code",
   "execution_count": 6,
   "id": "nearby-studio",
   "metadata": {},
   "outputs": [
    {
     "data": {
      "text/html": [
       "<div>\n",
       "<style scoped>\n",
       "    .dataframe tbody tr th:only-of-type {\n",
       "        vertical-align: middle;\n",
       "    }\n",
       "\n",
       "    .dataframe tbody tr th {\n",
       "        vertical-align: top;\n",
       "    }\n",
       "\n",
       "    .dataframe thead th {\n",
       "        text-align: right;\n",
       "    }\n",
       "</style>\n",
       "<table border=\"1\" class=\"dataframe\">\n",
       "  <thead>\n",
       "    <tr style=\"text-align: right;\">\n",
       "      <th></th>\n",
       "      <th>0</th>\n",
       "      <th>1</th>\n",
       "      <th>2</th>\n",
       "      <th>3</th>\n",
       "      <th>4</th>\n",
       "      <th>5</th>\n",
       "      <th>6</th>\n",
       "      <th>7</th>\n",
       "      <th>8</th>\n",
       "      <th>9</th>\n",
       "      <th>...</th>\n",
       "      <th>122</th>\n",
       "      <th>123</th>\n",
       "      <th>124</th>\n",
       "      <th>125</th>\n",
       "      <th>126</th>\n",
       "      <th>127</th>\n",
       "      <th>whites to play</th>\n",
       "      <th>castling rights</th>\n",
       "      <th>en passant square</th>\n",
       "      <th>cp (Stockfish 13)</th>\n",
       "    </tr>\n",
       "  </thead>\n",
       "  <tbody>\n",
       "    <tr>\n",
       "      <th>0</th>\n",
       "      <td>-1.0</td>\n",
       "      <td>4.0</td>\n",
       "      <td>0.0</td>\n",
       "      <td>0.0</td>\n",
       "      <td>-1.0</td>\n",
       "      <td>3.0</td>\n",
       "      <td>-1.0</td>\n",
       "      <td>5.0</td>\n",
       "      <td>-1.0</td>\n",
       "      <td>6.0</td>\n",
       "      <td>...</td>\n",
       "      <td>1.0</td>\n",
       "      <td>3.0</td>\n",
       "      <td>0.0</td>\n",
       "      <td>0.0</td>\n",
       "      <td>1.0</td>\n",
       "      <td>4.0</td>\n",
       "      <td>1.0</td>\n",
       "      <td>15.0</td>\n",
       "      <td>-1.0</td>\n",
       "      <td>26.0</td>\n",
       "    </tr>\n",
       "    <tr>\n",
       "      <th>1</th>\n",
       "      <td>0.0</td>\n",
       "      <td>0.0</td>\n",
       "      <td>0.0</td>\n",
       "      <td>0.0</td>\n",
       "      <td>0.0</td>\n",
       "      <td>0.0</td>\n",
       "      <td>0.0</td>\n",
       "      <td>0.0</td>\n",
       "      <td>0.0</td>\n",
       "      <td>0.0</td>\n",
       "      <td>...</td>\n",
       "      <td>0.0</td>\n",
       "      <td>0.0</td>\n",
       "      <td>0.0</td>\n",
       "      <td>0.0</td>\n",
       "      <td>0.0</td>\n",
       "      <td>0.0</td>\n",
       "      <td>1.0</td>\n",
       "      <td>0.0</td>\n",
       "      <td>-1.0</td>\n",
       "      <td>600.0</td>\n",
       "    </tr>\n",
       "    <tr>\n",
       "      <th>2</th>\n",
       "      <td>-1.0</td>\n",
       "      <td>4.0</td>\n",
       "      <td>-1.0</td>\n",
       "      <td>2.0</td>\n",
       "      <td>-1.0</td>\n",
       "      <td>3.0</td>\n",
       "      <td>-1.0</td>\n",
       "      <td>5.0</td>\n",
       "      <td>-1.0</td>\n",
       "      <td>6.0</td>\n",
       "      <td>...</td>\n",
       "      <td>1.0</td>\n",
       "      <td>3.0</td>\n",
       "      <td>1.0</td>\n",
       "      <td>2.0</td>\n",
       "      <td>1.0</td>\n",
       "      <td>4.0</td>\n",
       "      <td>0.0</td>\n",
       "      <td>15.0</td>\n",
       "      <td>-1.0</td>\n",
       "      <td>100.0</td>\n",
       "    </tr>\n",
       "    <tr>\n",
       "      <th>3</th>\n",
       "      <td>0.0</td>\n",
       "      <td>0.0</td>\n",
       "      <td>0.0</td>\n",
       "      <td>0.0</td>\n",
       "      <td>0.0</td>\n",
       "      <td>0.0</td>\n",
       "      <td>0.0</td>\n",
       "      <td>0.0</td>\n",
       "      <td>0.0</td>\n",
       "      <td>0.0</td>\n",
       "      <td>...</td>\n",
       "      <td>0.0</td>\n",
       "      <td>0.0</td>\n",
       "      <td>0.0</td>\n",
       "      <td>0.0</td>\n",
       "      <td>0.0</td>\n",
       "      <td>0.0</td>\n",
       "      <td>0.0</td>\n",
       "      <td>0.0</td>\n",
       "      <td>-1.0</td>\n",
       "      <td>-1.0</td>\n",
       "    </tr>\n",
       "    <tr>\n",
       "      <th>4</th>\n",
       "      <td>-1.0</td>\n",
       "      <td>4.0</td>\n",
       "      <td>-1.0</td>\n",
       "      <td>2.0</td>\n",
       "      <td>-1.0</td>\n",
       "      <td>3.0</td>\n",
       "      <td>-1.0</td>\n",
       "      <td>5.0</td>\n",
       "      <td>-1.0</td>\n",
       "      <td>6.0</td>\n",
       "      <td>...</td>\n",
       "      <td>1.0</td>\n",
       "      <td>3.0</td>\n",
       "      <td>1.0</td>\n",
       "      <td>2.0</td>\n",
       "      <td>1.0</td>\n",
       "      <td>4.0</td>\n",
       "      <td>1.0</td>\n",
       "      <td>15.0</td>\n",
       "      <td>-1.0</td>\n",
       "      <td>48.0</td>\n",
       "    </tr>\n",
       "  </tbody>\n",
       "</table>\n",
       "<p>5 rows × 132 columns</p>\n",
       "</div>"
      ],
      "text/plain": [
       "     0    1    2    3    4    5    6    7    8    9  ...  122  123  124  125  \\\n",
       "0 -1.0  4.0  0.0  0.0 -1.0  3.0 -1.0  5.0 -1.0  6.0  ...  1.0  3.0  0.0  0.0   \n",
       "1  0.0  0.0  0.0  0.0  0.0  0.0  0.0  0.0  0.0  0.0  ...  0.0  0.0  0.0  0.0   \n",
       "2 -1.0  4.0 -1.0  2.0 -1.0  3.0 -1.0  5.0 -1.0  6.0  ...  1.0  3.0  1.0  2.0   \n",
       "3  0.0  0.0  0.0  0.0  0.0  0.0  0.0  0.0  0.0  0.0  ...  0.0  0.0  0.0  0.0   \n",
       "4 -1.0  4.0 -1.0  2.0 -1.0  3.0 -1.0  5.0 -1.0  6.0  ...  1.0  3.0  1.0  2.0   \n",
       "\n",
       "   126  127  whites to play  castling rights  en passant square  \\\n",
       "0  1.0  4.0             1.0             15.0               -1.0   \n",
       "1  0.0  0.0             1.0              0.0               -1.0   \n",
       "2  1.0  4.0             0.0             15.0               -1.0   \n",
       "3  0.0  0.0             0.0              0.0               -1.0   \n",
       "4  1.0  4.0             1.0             15.0               -1.0   \n",
       "\n",
       "   cp (Stockfish 13)  \n",
       "0               26.0  \n",
       "1              600.0  \n",
       "2              100.0  \n",
       "3               -1.0  \n",
       "4               48.0  \n",
       "\n",
       "[5 rows x 132 columns]"
      ]
     },
     "execution_count": 6,
     "metadata": {},
     "output_type": "execute_result"
    }
   ],
   "source": [
    "df = pd.DataFrame(data, columns=np.append(getColumns(), 'cp (Stockfish 13)'))\n",
    "df.to_csv('Datasets/dataset1.csv', index=False)\n",
    "df.head()"
   ]
  },
  {
   "cell_type": "markdown",
   "id": "cross-problem",
   "metadata": {},
   "source": [
    "#### We create a test dataset."
   ]
  },
  {
   "cell_type": "code",
   "execution_count": 7,
   "id": "prospective-empty",
   "metadata": {},
   "outputs": [
    {
     "data": {
      "text/plain": [
       "\"\\ntest_size = 200000\\ntests = []\\n\\ncurrent = current_process()\\npos = current._identity[0]-1 if len(current._identity) > 0 else 0\\npbar = tqdm(total=test_size, desc='Encoding', position=pos)\\n\\ntot_size = boards.shape[0]\\nfor i in range(test_size):\\n    idx = np.random.randint(tot_size)\\n    tests.append(np.append(encodeBoard(boards[idx]), score_getter.getScore(boards[idx])))\\n    pbar.update(1)\\npbar.close()\\n\\nlen(tests)\\n\""
      ]
     },
     "execution_count": 7,
     "metadata": {},
     "output_type": "execute_result"
    }
   ],
   "source": [
    "'''\n",
    "test_size = 200000\n",
    "tests = []\n",
    "\n",
    "current = current_process()\n",
    "pos = current._identity[0]-1 if len(current._identity) > 0 else 0\n",
    "pbar = tqdm(total=test_size, desc='Encoding', position=pos)\n",
    "\n",
    "tot_size = boards.shape[0]\n",
    "for i in range(test_size):\n",
    "    idx = np.random.randint(tot_size)\n",
    "    tests.append(np.append(encodeBoard(boards[idx]), score_getter.getScore(boards[idx])))\n",
    "    pbar.update(1)\n",
    "pbar.close()\n",
    "\n",
    "len(tests)\n",
    "'''"
   ]
  },
  {
   "cell_type": "code",
   "execution_count": 8,
   "id": "inclusive-thermal",
   "metadata": {},
   "outputs": [
    {
     "data": {
      "text/plain": [
       "\"\\ndf = pd.DataFrame(tests, columns = np.append(getColumns(), 'cp (Stockfish 13)'))\\ndf.to_csv('Datasets/test_dataset.csv', index=False)\\ndf.head()\\n\""
      ]
     },
     "execution_count": 8,
     "metadata": {},
     "output_type": "execute_result"
    }
   ],
   "source": [
    "'''\n",
    "df = pd.DataFrame(tests, columns = np.append(getColumns(), 'cp (Stockfish 13)'))\n",
    "df.to_csv('Datasets/test_dataset.csv', index=False)\n",
    "df.head()\n",
    "'''"
   ]
  },
  {
   "cell_type": "code",
   "execution_count": null,
   "id": "curious-strip",
   "metadata": {},
   "outputs": [],
   "source": []
  }
 ],
 "metadata": {
  "kernelspec": {
   "display_name": "Python 3",
   "language": "python",
   "name": "python3"
  },
  "language_info": {
   "codemirror_mode": {
    "name": "ipython",
    "version": 3
   },
   "file_extension": ".py",
   "mimetype": "text/x-python",
   "name": "python",
   "nbconvert_exporter": "python",
   "pygments_lexer": "ipython3",
   "version": "3.8.5"
  }
 },
 "nbformat": 4,
 "nbformat_minor": 5
}
