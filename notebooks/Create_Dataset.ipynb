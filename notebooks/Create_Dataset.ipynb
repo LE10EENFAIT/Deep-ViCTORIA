{
 "cells": [
  {
   "cell_type": "code",
   "execution_count": 1,
   "id": "satisfied-painting",
   "metadata": {},
   "outputs": [],
   "source": [
    "import sys\n",
    "sys.path.insert(1, 'Classes/')\n",
    "import pandas as pd\n",
    "import numpy as np\n",
    "import random\n",
    "from tqdm import tqdm\n",
    "from multiprocessing import current_process\n",
    "\n",
    "from ScoreGetter import ScoreGetter\n",
    "from dataset_utils import checkIfEarlyMidEnd\n",
    "from dataset_utils import encodeBoard\n",
    "from dataset_utils import getColumns"
   ]
  },
  {
   "cell_type": "code",
   "execution_count": 2,
   "id": "opponent-enzyme",
   "metadata": {},
   "outputs": [],
   "source": [
    "df = pd.read_csv('Datasets/raw_dataset_13M.csv')\n",
    "boards = df['board'].values"
   ]
  },
  {
   "cell_type": "markdown",
   "id": "radical-semester",
   "metadata": {},
   "source": [
    "#### We load an engine to get a score from the positions."
   ]
  },
  {
   "cell_type": "code",
   "execution_count": 3,
   "id": "balanced-queen",
   "metadata": {},
   "outputs": [],
   "source": [
    "score_getter = ScoreGetter('/home/gaetan/Téléchargements/stockfish/stockfish', 'eval', 'go depth 1')"
   ]
  },
  {
   "cell_type": "markdown",
   "id": "lesser-balance",
   "metadata": {},
   "source": [
    "#### We create our dataset by getting an equal number of start, middle and end game positions and encoding them."
   ]
  },
  {
   "cell_type": "code",
   "execution_count": null,
   "id": "funded-soundtrack",
   "metadata": {},
   "outputs": [
    {
     "name": "stderr",
     "output_type": "stream",
     "text": [
      "Splitting and encoding:   0%|          | 1/3000000 [00:00<128:14:14,  6.50it/s]"
     ]
    },
    {
     "name": "stdout",
     "output_type": "stream",
     "text": [
      "1\n"
     ]
    },
    {
     "name": "stderr",
     "output_type": "stream",
     "text": [
      "Splitting and encoding:  33%|███▎      | 999953/3000000 [18:45<37:34, 886.97it/s]"
     ]
    }
   ],
   "source": [
    "total_size = 1000000\n",
    "batch_size = total_size / 3.0\n",
    "\n",
    "earlies = []\n",
    "mids = []\n",
    "ends = []\n",
    "\n",
    "\n",
    "current = current_process()\n",
    "pos = current._identity[0]-1 if len(current._identity) > 0 else 0\n",
    "pbar = tqdm(total=total_size*3, desc='Splitting and encoding', position=pos)\n",
    "\n",
    "\n",
    "for i in range(3):\n",
    "    print(i+1)\n",
    "    data = []\n",
    "    offset = 10000000\n",
    "    for j in range(offset + i * 1000000, offset + i * 1000000 + total_size):\n",
    "        board = boards[j]\n",
    "        data.append(np.append(encodeBoard(board), score_getter.getScore(board)))\n",
    "        pbar.update(1)\n",
    "    df = pd.DataFrame(data, columns=np.append(getColumns(), 'cp (Stockfish 13)'))\n",
    "    df.to_csv('Datasets/dataset' + str(i+1) + '.csv', index=False)\n",
    "    \n",
    "pbar.close()\n",
    "\n",
    "\n",
    "\n",
    "'''\n",
    "for i in range(4000000, len(boards)):\n",
    "    board = boards[i]\n",
    "    part = checkIfEarlyMidEnd(board)\n",
    "    \n",
    "    if len(earlies) < batch_size and part == \"early_game\":\n",
    "        earlies.append(np.append(encodeBoard(board), score_getter.getScore(board)))\n",
    "        pbar.update(1)\n",
    "    \n",
    "    elif len(mids) < batch_size and part == \"mid_game\":\n",
    "        mids.append(np.append(encodeBoard(board), score_getter.getScore(board)))\n",
    "        pbar.update(1)\n",
    "        \n",
    "    elif len(ends) < batch_size and part == \"end_game\":\n",
    "        ends.append(np.append(encodeBoard(board), score_getter.getScore(board)))\n",
    "        pbar.update(1)\n",
    "    \n",
    "    if len(earlies) >= batch_size and len(mids) >= batch_size and len(ends) >= batch_size:\n",
    "        break\n",
    "    \n",
    "pbar.close()\n",
    "'''"
   ]
  },
  {
   "cell_type": "code",
   "execution_count": null,
   "id": "everyday-principle",
   "metadata": {},
   "outputs": [],
   "source": [
    "'''\n",
    "data = earlies + mids + ends\n",
    "random.shuffle(data)\n",
    "len(data)\n",
    "'''"
   ]
  },
  {
   "cell_type": "code",
   "execution_count": null,
   "id": "talented-karaoke",
   "metadata": {},
   "outputs": [],
   "source": [
    "'''\n",
    "df = pd.DataFrame(data, columns=np.append(getColumns(), 'cp (Stockfish 13)'))\n",
    "df.to_csv('Datasets/dataset5.csv', index=False)\n",
    "df.head()\n",
    "'''"
   ]
  },
  {
   "cell_type": "markdown",
   "id": "alien-southwest",
   "metadata": {},
   "source": [
    "#### We create a test dataset."
   ]
  },
  {
   "cell_type": "code",
   "execution_count": null,
   "id": "contained-dallas",
   "metadata": {},
   "outputs": [],
   "source": [
    "'''\n",
    "test_size = 1000000\n",
    "tests = []\n",
    "\n",
    "current = current_process()\n",
    "pos = current._identity[0]-1 if len(current._identity) > 0 else 0\n",
    "pbar = tqdm(total=test_size, desc='Encoding', position=pos)\n",
    "\n",
    "tot_size = boards.shape[0]\n",
    "for i in range(test_size):\n",
    "    idx = np.random.randint(tot_size)\n",
    "    tests.append(np.append(encodeBoard(boards[idx]), score_getter.getScore(boards[idx])))\n",
    "    pbar.update(1)\n",
    "pbar.close()\n",
    "\n",
    "len(tests)\n",
    "'''"
   ]
  },
  {
   "cell_type": "code",
   "execution_count": null,
   "id": "colored-forwarding",
   "metadata": {},
   "outputs": [],
   "source": [
    "'''\n",
    "df = pd.DataFrame(tests, columns = np.append(getColumns(), 'cp (Stockfish 13)'))\n",
    "df.to_csv('Datasets/test_dataset.csv', index=False)\n",
    "df.head()\n",
    "'''"
   ]
  },
  {
   "cell_type": "code",
   "execution_count": null,
   "id": "unauthorized-cemetery",
   "metadata": {},
   "outputs": [],
   "source": []
  }
 ],
 "metadata": {
  "kernelspec": {
   "display_name": "Python 3",
   "language": "python",
   "name": "python3"
  },
  "language_info": {
   "codemirror_mode": {
    "name": "ipython",
    "version": 3
   },
   "file_extension": ".py",
   "mimetype": "text/x-python",
   "name": "python",
   "nbconvert_exporter": "python",
   "pygments_lexer": "ipython3",
   "version": "3.8.5"
  }
 },
 "nbformat": 4,
 "nbformat_minor": 5
}
