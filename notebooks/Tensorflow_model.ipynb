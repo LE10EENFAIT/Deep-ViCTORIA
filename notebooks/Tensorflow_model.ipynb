{
 "cells": [
  {
   "cell_type": "code",
   "execution_count": 1,
   "id": "subjective-moment",
   "metadata": {},
   "outputs": [
    {
     "name": "stdout",
     "output_type": "stream",
     "text": [
      "2.4.1\n",
      "No Cuda GPU detected.\n"
     ]
    }
   ],
   "source": [
    "import pandas as pd\n",
    "import numpy as np\n",
    "import matplotlib.pyplot as plt\n",
    "from sklearn.model_selection import train_test_split\n",
    "from sklearn.metrics import r2_score\n",
    "\n",
    "\n",
    "import tensorflow as tf\n",
    "\n",
    "from tensorflow import keras\n",
    "from tensorflow.keras import layers\n",
    "from tensorflow.keras.layers.experimental import preprocessing\n",
    "\n",
    "print(tf.__version__)\n",
    "physical_devices = tf.config.list_physical_devices('GPU')\n",
    "try:\n",
    "    tf.config.experimental.set_memory_growth(physical_devices[0], True)\n",
    "except:\n",
    "    print('No Cuda GPU detected.')"
   ]
  },
  {
   "cell_type": "code",
   "execution_count": 2,
   "id": "forced-drinking",
   "metadata": {},
   "outputs": [],
   "source": [
    "def plot_loss(history):\n",
    "    plt.plot(history.history['loss'], label='loss')\n",
    "    plt.plot(history.history['val_loss'], label='val_loss')\n",
    "    plt.ylim([0, 300])\n",
    "    plt.xlabel('Epoch')\n",
    "    plt.ylabel('Error')\n",
    "    plt.legend()\n",
    "    plt.grid(True)"
   ]
  },
  {
   "cell_type": "code",
   "execution_count": 3,
   "id": "lightweight-finder",
   "metadata": {},
   "outputs": [],
   "source": [
    "def plotPred (y_true, preds):\n",
    "    ymin = np.min(y_true)\n",
    "    ymax = np.max(y_true)\n",
    "    plt.scatter(y_true, preds, label=f'score: {r2_score(y_true, preds)}')\n",
    "    plt.plot([ymin, ymax], [ymin, ymax], '-.', color='red', label=\"predicted values = true values\")\n",
    "    plt.xlabel('True values')\n",
    "    plt.ylabel('Predicted values')\n",
    "    plt.legend()"
   ]
  },
  {
   "cell_type": "code",
   "execution_count": 4,
   "id": "higher-favor",
   "metadata": {},
   "outputs": [],
   "source": [
    "def buildAndCompile(shape):\n",
    "    input = tf.keras.Input(shape=(shape,))\n",
    "    output = layers.Dense(shape, activation='relu')(input)\n",
    "    output = layers.Dense(64, activation='relu')(output)\n",
    "    output = layers.Dense(1)(output)\n",
    "    model = keras.Model(inputs=input, outputs=output)\n",
    "    model.compile(loss='mean_absolute_error', optimizer='adam')\n",
    "    return model"
   ]
  },
  {
   "cell_type": "code",
   "execution_count": 5,
   "id": "peaceful-schema",
   "metadata": {},
   "outputs": [
    {
     "name": "stdout",
     "output_type": "stream",
     "text": [
      "Model: \"model\"\n",
      "_________________________________________________________________\n",
      "Layer (type)                 Output Shape              Param #   \n",
      "=================================================================\n",
      "input_1 (InputLayer)         [(None, 131)]             0         \n",
      "_________________________________________________________________\n",
      "dense (Dense)                (None, 131)               17292     \n",
      "_________________________________________________________________\n",
      "dense_1 (Dense)              (None, 64)                8448      \n",
      "_________________________________________________________________\n",
      "dense_2 (Dense)              (None, 1)                 65        \n",
      "=================================================================\n",
      "Total params: 25,805\n",
      "Trainable params: 25,805\n",
      "Non-trainable params: 0\n",
      "_________________________________________________________________\n"
     ]
    }
   ],
   "source": [
    "rebuild = False\n",
    "model = None\n",
    "\n",
    "if rebuild:\n",
    "    model = buildAndCompile(131)\n",
    "else:\n",
    "    model = keras.models.load_model('../Models/model_batch_10M')\n",
    "    \n",
    "model.summary()"
   ]
  },
  {
   "cell_type": "code",
   "execution_count": null,
   "id": "dc4ebb0c",
   "metadata": {},
   "outputs": [],
   "source": [
    "%%time\n",
    "\n",
    "mode = 'batch'\n",
    "\n",
    "if mode == 'all':\n",
    "\n",
    "    X = []\n",
    "    y = []\n",
    "\n",
    "    for i in range(10):\n",
    "        dataframe_encoded = pd.read_csv('Datasets/dataset' + str(i+1) + '.csv')\n",
    "        features = dataframe_encoded.columns[:-1]\n",
    "        cps = dataframe_encoded.columns[-1]\n",
    "\n",
    "        if len(X) == 0:\n",
    "            X = dataframe_encoded[features].values\n",
    "            y = dataframe_encoded[cps].values\n",
    "        else:\n",
    "            X = np.append(X, dataframe_encoded[features].values, axis=0)\n",
    "            y = np.append(y, dataframe_encoded[cps].values)\n",
    "\n",
    "    print(X.shape, y.shape)\n",
    "\n",
    "    history = model.fit(X, y, validation_split=0.1, verbose=0, epochs=50)\n",
    "    plot_loss(history)\n",
    "    model.save('../Models/model_all_10M', save_format='tf')\n",
    "    \n",
    "else:\n",
    "    for i in range(8, 10):\n",
    "        dataframe_encoded = pd.read_csv('Datasets/dataset' + str(i+1) + '.csv')\n",
    "        features = dataframe_encoded.columns[:-1]\n",
    "        cps = dataframe_encoded.columns[-1]\n",
    "        X = dataframe_encoded[features].values\n",
    "        y = dataframe_encoded[cps].values\n",
    "\n",
    "        model.fit(X, y, validation_split=0.1, verbose=0, epochs=50)\n",
    "        model.save('../Models/model_batch_10M', save_format='tf')"
   ]
  },
  {
   "cell_type": "code",
   "execution_count": null,
   "id": "sustainable-edgar",
   "metadata": {},
   "outputs": [],
   "source": [
    "test_df = pd.read_csv('Datasets/dataset10.csv')\n",
    "features = test_df.columns[:-1]\n",
    "cps = test_df.columns[-1]\n",
    "\n",
    "boards = test_df[features].values\n",
    "scores = test_df[cps].values\n",
    "print(boards.shape, scores.shape)\n",
    "preds = model.predict(boards).flatten()"
   ]
  },
  {
   "cell_type": "code",
   "execution_count": null,
   "id": "organizational-bridal",
   "metadata": {},
   "outputs": [],
   "source": [
    "plotPred(scores, preds)"
   ]
  },
  {
   "cell_type": "code",
   "execution_count": null,
   "id": "raising-dylan",
   "metadata": {},
   "outputs": [],
   "source": [
    "model = keras.models.load_model('../Models/model_batch_10M')"
   ]
  },
  {
   "cell_type": "markdown",
   "id": "recorded-leather",
   "metadata": {},
   "source": [
    "#### We test our model with some random positions."
   ]
  },
  {
   "cell_type": "code",
   "execution_count": null,
   "id": "usual-singing",
   "metadata": {},
   "outputs": [],
   "source": [
    "import sys\n",
    "import chess\n",
    "sys.path.insert(1, 'Classes/')\n",
    "from dataset_utils import encodeBoard\n",
    "from ScoreGetter import ScoreGetter\n",
    "\n",
    "score_getter = ScoreGetter('/home/gaetan/Téléchargements/stockfish/stockfish', 'eval', 'go depth 1')\n",
    "\n",
    "df = pd.read_csv('Datasets/raw_dataset_13M.csv', nrows=1000)\n",
    "fens = df['board'].values\n",
    "\n",
    "fen = fens[np.random.randint(fens.shape[0])]\n",
    "print(fen)\n",
    "e = np.array(encodeBoard(fen)).reshape(1, -1)\n",
    "print(f'stockfish score: {score_getter.getScore(fen)}')\n",
    "print(f'pred score: {int(model.predict(e).flatten()[0])}')\n",
    "\n",
    "chess.Board(fen)"
   ]
  },
  {
   "cell_type": "code",
   "execution_count": null,
   "id": "nervous-helicopter",
   "metadata": {},
   "outputs": [],
   "source": []
  }
 ],
 "metadata": {
  "kernelspec": {
   "display_name": "Python 3",
   "language": "python",
   "name": "python3"
  },
  "language_info": {
   "codemirror_mode": {
    "name": "ipython",
    "version": 3
   },
   "file_extension": ".py",
   "mimetype": "text/x-python",
   "name": "python",
   "nbconvert_exporter": "python",
   "pygments_lexer": "ipython3",
   "version": "3.8.5"
  }
 },
 "nbformat": 4,
 "nbformat_minor": 5
}
