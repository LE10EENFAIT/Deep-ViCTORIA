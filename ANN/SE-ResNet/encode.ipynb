{
 "cells": [
  {
   "cell_type": "code",
   "execution_count": 1,
   "metadata": {},
   "outputs": [],
   "source": [
    "from dataset_utils import nb_channels, encode_position, store_many_hdf5\n",
    "from ScoreGetter import ScoreGetter\n",
    "import pandas as pd\n",
    "import numpy as np"
   ]
  },
  {
   "cell_type": "code",
   "execution_count": 2,
   "metadata": {},
   "outputs": [],
   "source": [
    "df = pd.read_csv(\"E:/IA/Deep_ViCTORIA/Datasets/fen_dataset.csv\", nrows=200000)\n",
    "df = df.sample(frac=1)"
   ]
  },
  {
   "cell_type": "code",
   "execution_count": 3,
   "metadata": {},
   "outputs": [
    {
     "name": "stdout",
     "output_type": "stream",
     "text": [
      "Number of positions: 99296\n"
     ]
    }
   ],
   "source": [
    "score_getter = ScoreGetter(\"stockfish.exe\", \"eval\", \"go depth 1\")\n",
    "\n",
    "nb_position = 100000\n",
    "position = np.zeros((nb_position, 8, 8, nb_channels), dtype=np.float32)\n",
    "scores = np.zeros(nb_position, dtype=np.float32)\n",
    "count = 0\n",
    "for i in range(nb_position):\n",
    "  fen = df[\"board\"][i]\n",
    "  try:\n",
    "    scores[i] = score_getter.getScore(fen)\n",
    "    position[i] = encode_position(fen)\n",
    "    count += 1\n",
    "  except Exception as e:\n",
    "    if str(e) == \"[Errno 32] Broken pipe\":\n",
    "        score_getter.restart()\n",
    "    continue\n",
    "scores = scores[:count].reshape(-1, 1)\n",
    "position = position[:count]\n",
    "print(f\"Number of positions: {position.shape[0]}\")"
   ]
  },
  {
   "cell_type": "code",
   "execution_count": 4,
   "metadata": {},
   "outputs": [],
   "source": [
    "directory = \"E:/IA/Deep_ViCTORIA/Datasets/SE_ResNet/\"\n",
    "store_many_hdf5(position, scores, directory, tag=\"_test\")"
   ]
  },
  {
   "cell_type": "code",
   "execution_count": null,
   "metadata": {},
   "outputs": [],
   "source": []
  }
 ],
 "metadata": {
  "interpreter": {
   "hash": "7812ea015bdcee6f23a998adcdd2ef97c151c0c241b7b7070987d9313e41299d"
  },
  "kernelspec": {
   "display_name": "Python 3.9.7 64-bit",
   "language": "python",
   "name": "python3"
  },
  "language_info": {
   "codemirror_mode": {
    "name": "ipython",
    "version": 3
   },
   "file_extension": ".py",
   "mimetype": "text/x-python",
   "name": "python",
   "nbconvert_exporter": "python",
   "pygments_lexer": "ipython3",
   "version": "3.9.7"
  },
  "orig_nbformat": 4
 },
 "nbformat": 4,
 "nbformat_minor": 2
}
