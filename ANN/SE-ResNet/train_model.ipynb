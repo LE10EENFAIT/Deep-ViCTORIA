{
 "cells": [
  {
   "cell_type": "markdown",
   "metadata": {},
   "source": [
    "## ViCTORIA training"
   ]
  },
  {
   "cell_type": "code",
   "execution_count": null,
   "metadata": {},
   "outputs": [],
   "source": [
    "import sys\n",
    "sys.path.insert(1, \"lib/\")\n",
    "sys.path.insert(1, \"model/\")\n",
    "from ViCTORIA_network import ViCTORIA_Network, coeff_determination\n",
    "from dataset_utils import read_many_hdf5\n",
    "\n",
    "import pickle\n",
    "import tensorflow as tf\n",
    "import matplotlib.pyplot as plt\n",
    "\n",
    "import platform\n",
    "if platform.system() == \"Darwin\":\n",
    "    %config InlineBackend.figure_format=\"retina\"  # For high DPI display\n",
    "\n",
    "if tf.test.gpu_device_name(): \n",
    "  print(f\"Default GPU Device: {tf.test.gpu_device_name()}\")"
   ]
  },
  {
   "cell_type": "markdown",
   "metadata": {},
   "source": [
    "We load our training dataset."
   ]
  },
  {
   "cell_type": "code",
   "execution_count": null,
   "metadata": {},
   "outputs": [],
   "source": [
    "directory = \"E:/IA/Deep_ViCTORIA/Datasets/SE_ResNet/\"\n",
    "positions_train, scores_train = read_many_hdf5(397182, directory, \"_train\")"
   ]
  },
  {
   "cell_type": "markdown",
   "metadata": {},
   "source": [
    "We retrieve the model's optimal hyperparameters from the `choose_hyperparameters` notebook."
   ]
  },
  {
   "cell_type": "code",
   "execution_count": null,
   "metadata": {},
   "outputs": [],
   "source": [
    "input_file = open(\"model/hyperparameters.pickle\", \"rb\")\n",
    "hyperparams = pickle.load(input_file)\n",
    "input_file.close()"
   ]
  },
  {
   "cell_type": "markdown",
   "metadata": {},
   "source": [
    "We create a model with these hyperparameters."
   ]
  },
  {
   "cell_type": "code",
   "execution_count": null,
   "metadata": {},
   "outputs": [],
   "source": [
    "model = ViCTORIA_Network(filters=hyperparams[\"filters\"], nb_blocks=hyperparams[\"nb_blocks\"])\n",
    "model.build((1, 8, 8, 15))\n",
    "model.compile(loss='mean_absolute_error', optimizer=\"adam\", metrics=[coeff_determination])\n",
    "model.summary()"
   ]
  },
  {
   "cell_type": "markdown",
   "metadata": {},
   "source": [
    "It's time to train! You can take a coffee or two (maybe more)."
   ]
  },
  {
   "cell_type": "code",
   "execution_count": null,
   "metadata": {},
   "outputs": [],
   "source": [
    "nb_epochs = 20\n",
    "history = model.fit(positions_train, scores_train, verbose=1, epochs=nb_epochs)"
   ]
  },
  {
   "cell_type": "markdown",
   "metadata": {},
   "source": [
    "We save the model's weights."
   ]
  },
  {
   "cell_type": "code",
   "execution_count": null,
   "metadata": {},
   "outputs": [],
   "source": [
    "model.save_weights(\"model/weights/weights\")"
   ]
  },
  {
   "cell_type": "code",
   "execution_count": null,
   "metadata": {},
   "outputs": [],
   "source": [
    "def plot_history(history, model, path=None):\n",
    "  epochs = range(1, nb_epochs + 1)\n",
    "\n",
    "  _, axs = plt.subplots(1, 2, figsize=(20, 5))\n",
    "  loss = history.history[\"loss\"]\n",
    "  score = history.history[\"coeff_determination\"]\n",
    "\n",
    "  axs[0].plot(epochs, loss, \"r-.\", label=f\"{model.nb_blocks} SE-ResNet blocks\")\n",
    "  axs[0].set_xlabel(\"Epoch\")\n",
    "  axs[0].set_ylabel(\"(Mean Absolute Error)\")\n",
    "  axs[0].set_title('Training loss')\n",
    "\n",
    "  axs[1].plot(epochs, score, \"g-.\", label=f\"{model.nb_blocks} SE-ResNet blocks\")\n",
    "  axs[1].set_xlabel(\"Epoch\")\n",
    "  axs[1].set_ylabel(\"($R^2$)\")\n",
    "  axs[1].set_title('Training score')\n",
    "  \n",
    "  if path:\n",
    "    plt.savefig(path)"
   ]
  },
  {
   "cell_type": "markdown",
   "metadata": {},
   "source": [
    "We plot the loss and accuracy of each epoch."
   ]
  },
  {
   "cell_type": "code",
   "execution_count": null,
   "metadata": {},
   "outputs": [],
   "source": [
    "plot_history(history, model, path=\"results/ViCTORIA_history.pdf\")"
   ]
  },
  {
   "cell_type": "code",
   "execution_count": null,
   "metadata": {},
   "outputs": [],
   "source": []
  }
 ],
 "metadata": {
  "interpreter": {
   "hash": "0f75f4719866b1a07819bd6ea6d9d48c1f255c430bb3a8b091292950e4ac54e9"
  },
  "kernelspec": {
   "display_name": "Python 3.9.7 64-bit (system)",
   "language": "python",
   "name": "python3"
  },
  "language_info": {
   "codemirror_mode": {
    "name": "ipython",
    "version": 3
   },
   "file_extension": ".py",
   "mimetype": "text/x-python",
   "name": "python",
   "nbconvert_exporter": "python",
   "pygments_lexer": "ipython3",
   "version": "3.9.7"
  },
  "orig_nbformat": 4
 },
 "nbformat": 4,
 "nbformat_minor": 2
}
