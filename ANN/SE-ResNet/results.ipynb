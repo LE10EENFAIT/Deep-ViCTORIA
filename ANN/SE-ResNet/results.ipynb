{
 "cells": [
  {
   "cell_type": "markdown",
   "metadata": {},
   "source": [
    "## ViCTORIA Results"
   ]
  },
  {
   "cell_type": "code",
   "execution_count": null,
   "metadata": {},
   "outputs": [],
   "source": [
    "import sys\n",
    "sys.path.insert(1, \"model/\")\n",
    "sys.path.insert(1, \"lib/\")\n",
    "from ViCTORIA_network import ViCTORIA_Network, coeff_determination\n",
    "from dataset_utils import encode_position, read_many_hdf5\n",
    "from ScoreGetter import ScoreGetter\n",
    "\n",
    "import pickle\n",
    "import chess\n",
    "import numpy as np\n",
    "import matplotlib.pyplot as plt\n",
    "import tensorflow as tf\n",
    "\n",
    "import platform\n",
    "if platform.system() == \"Darwin\":\n",
    "    %config InlineBackend.figure_format=\"retina\"  # For high DPI display"
   ]
  },
  {
   "cell_type": "markdown",
   "metadata": {},
   "source": [
    "We retrieve the model's optimal hyperparameters from the `choose_hyperparameters` notebook."
   ]
  },
  {
   "cell_type": "code",
   "execution_count": null,
   "metadata": {},
   "outputs": [],
   "source": [
    "input_file = open(\"model/hyperparameters.pickle\", \"rb\")\n",
    "hyperparams = pickle.load(input_file)\n",
    "input_file.close()"
   ]
  },
  {
   "cell_type": "markdown",
   "metadata": {},
   "source": [
    "We create a model with these hyperparameters and we load the weights learned within the `train_model` notebook."
   ]
  },
  {
   "cell_type": "code",
   "execution_count": null,
   "metadata": {},
   "outputs": [],
   "source": [
    "model = ViCTORIA_Network(filters=hyperparams[\"filters\"], nb_blocks=hyperparams[\"nb_blocks\"])\n",
    "model.build((1, 8, 8, 15))\n",
    "model.compile(loss='mean_absolute_error', optimizer=\"adam\", metrics=[coeff_determination])\n",
    "_ = model.load_weights(\"model/weights/weights\")"
   ]
  },
  {
   "cell_type": "code",
   "execution_count": null,
   "metadata": {},
   "outputs": [],
   "source": [
    "def plot_regression_results(model, X_test, y_test, path=None):\n",
    "  preds = model.predict(X_test)\n",
    "  r2_score = coeff_determination(tf.convert_to_tensor(y_test), preds).numpy()\n",
    "  ma = np.max(y_test)\n",
    "  mi = np.min(y_test)\n",
    "  x = np.linspace(ma, mi, 100)\n",
    "  plt.figure(figsize=(10,5))\n",
    "  plt.plot(x, x, \"r-.\", label = \"Predictions = True values\")\n",
    "  plt.scatter(y_test, preds, label = f\"$R^2 = {r2_score:.2f}$\")\n",
    "  plt.xlabel(\"True values (centipawn)\")\n",
    "  plt.ylabel(\"Predictions (centipawn)\")\n",
    "  plt.title(f\"Results of ViCTORIA model with {model.nb_blocks} SE-ResNet blocks and {X_test.shape[0]} test positions\")\n",
    "  plt.legend()\n",
    "  if path:\n",
    "    plt.savefig(path)"
   ]
  },
  {
   "cell_type": "markdown",
   "metadata": {},
   "source": [
    "We load our test dataset and we plot the results (finally)."
   ]
  },
  {
   "cell_type": "code",
   "execution_count": null,
   "metadata": {},
   "outputs": [],
   "source": [
    "directory = \"E:/IA/Deep_ViCTORIA/Datasets/SE_ResNet/\"\n",
    "positions_test, scores_test = read_many_hdf5(148970, directory, \"_test\")\n",
    "plot_regression_results(model, positions_test, scores_test, path=\"results/result.pdf\")"
   ]
  },
  {
   "cell_type": "code",
   "execution_count": null,
   "metadata": {},
   "outputs": [],
   "source": [
    "def test_position (model, engine_path, fen):\n",
    "  score_getter = ScoreGetter(engine_path, \"eval\", \"go depth 1\")\n",
    "\n",
    "  print(fen)\n",
    "  e = encode_position(fen).reshape((1, 8, 8, 15))\n",
    "  e = e.astype(\"float32\")\n",
    "  print(f\"Stockfish 14 score: {score_getter.getScore(fen)}\")\n",
    "  print(f\"ViCTORIA score: {int(model.predict(e).flatten()[0])}\")\n",
    "\n",
    "  return chess.Board(fen)"
   ]
  },
  {
   "cell_type": "markdown",
   "metadata": {},
   "source": [
    "We observe the difference between ViCTORIA and the Stockfish evaluation function on any chess position."
   ]
  },
  {
   "cell_type": "code",
   "execution_count": null,
   "metadata": {},
   "outputs": [],
   "source": [
    "engine_path = \"bin/stockfish.exe\"\n",
    "test_position(model, engine_path, \"rnbqkbnr/pppppppp/8/8/6P1/8/PPPPPP1P/RNBQKBNR b KQkq - 0 1\")"
   ]
  }
 ],
 "metadata": {
  "interpreter": {
   "hash": "0f75f4719866b1a07819bd6ea6d9d48c1f255c430bb3a8b091292950e4ac54e9"
  },
  "kernelspec": {
   "display_name": "Python 3.9.7 64-bit (system)",
   "language": "python",
   "name": "python3"
  },
  "language_info": {
   "codemirror_mode": {
    "name": "ipython",
    "version": 3
   },
   "file_extension": ".py",
   "mimetype": "text/x-python",
   "name": "python",
   "nbconvert_exporter": "python",
   "pygments_lexer": "ipython3",
   "version": "3.9.7"
  },
  "orig_nbformat": 4
 },
 "nbformat": 4,
 "nbformat_minor": 2
}
