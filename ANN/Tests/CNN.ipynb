{
 "cells": [
  {
   "cell_type": "code",
   "execution_count": 1,
   "id": "8f71bd54-f524-450b-8815-d466a7a5368b",
   "metadata": {},
   "outputs": [],
   "source": [
    "import chess\n",
    "import numpy as np"
   ]
  },
  {
   "cell_type": "code",
   "execution_count": 2,
   "id": "395528e5-208c-4ac3-9bff-5fc5f15ba5e5",
   "metadata": {},
   "outputs": [],
   "source": [
    "def getCastlingRights(board):\n",
    "    rights = [\n",
    "        board.has_kingside_castling_rights(chess.WHITE),\n",
    "        board.has_queenside_castling_rights(chess.WHITE),\n",
    "        board.has_kingside_castling_rights(chess.BLACK),\n",
    "        board.has_queenside_castling_rights(chess.BLACK)\n",
    "    ]\n",
    "    \n",
    "    res = 0\n",
    "    coeff = 1\n",
    "    for r in rights:\n",
    "        if r:\n",
    "            res += coeff\n",
    "        coeff *= 2\n",
    "    \n",
    "    return res\n",
    "\n",
    "def encodeBoard(fen):\n",
    "    res = np.zeros((11, 11, 1))\n",
    "    board = chess.Board(fen)\n",
    "    \n",
    "    for rank in range(8):\n",
    "        for file in range(8):\n",
    "            square = file + (8 * rank)\n",
    "            piece_type = board.piece_type_at(square)\n",
    "            if piece_type == None:\n",
    "                continue\n",
    "            else:\n",
    "                piece_color = board.color_at(square)\n",
    "                res[rank][file] = -piece_type if piece_color == chess.BLACK else piece_type\n",
    "    \n",
    "    c_rights = getCastlingRights(board)\n",
    "    for i in range (8):\n",
    "        res[8][i] = c_rights\n",
    "        res[9][i] = board.ep_square if board.ep_square != None else 0\n",
    "        res[10][i] = board.turn == chess.WHITE\n",
    "    \n",
    "    return res"
   ]
  },
  {
   "cell_type": "code",
   "execution_count": 3,
   "id": "011fc3aa-7a89-4e3e-8fc2-1971729c33a2",
   "metadata": {},
   "outputs": [
    {
     "name": "stdout",
     "output_type": "stream",
     "text": [
      "INFO:tensorflow:Enabling eager execution\n",
      "INFO:tensorflow:Enabling v2 tensorshape\n",
      "INFO:tensorflow:Enabling resource variables\n",
      "INFO:tensorflow:Enabling tensor equality\n",
      "INFO:tensorflow:Enabling control flow v2\n"
     ]
    }
   ],
   "source": [
    "import tensorflow as tf\n",
    "\n",
    "from tensorflow.keras import datasets, layers, models\n",
    "import matplotlib.pyplot as plt"
   ]
  },
  {
   "cell_type": "code",
   "execution_count": 4,
   "id": "66452ee7-712d-4e60-ba81-325986b99a1b",
   "metadata": {},
   "outputs": [
    {
     "name": "stdout",
     "output_type": "stream",
     "text": [
      "Model: \"sequential\"\n",
      "_________________________________________________________________\n",
      "Layer (type)                 Output Shape              Param #   \n",
      "=================================================================\n",
      "conv2d (Conv2D)              (None, 9, 9, 32)          320       \n",
      "_________________________________________________________________\n",
      "max_pooling2d (MaxPooling2D) (None, 4, 4, 32)          0         \n",
      "_________________________________________________________________\n",
      "conv2d_1 (Conv2D)            (None, 3, 3, 64)          8256      \n",
      "_________________________________________________________________\n",
      "flatten (Flatten)            (None, 576)               0         \n",
      "_________________________________________________________________\n",
      "dense (Dense)                (None, 64)                36928     \n",
      "_________________________________________________________________\n",
      "dense_1 (Dense)              (None, 1)                 65        \n",
      "=================================================================\n",
      "Total params: 45,569\n",
      "Trainable params: 45,569\n",
      "Non-trainable params: 0\n",
      "_________________________________________________________________\n"
     ]
    }
   ],
   "source": [
    "model = models.Sequential()\n",
    "model.add(layers.Conv2D(32, (3, 3), activation='relu', input_shape=(11, 11, 1)))\n",
    "model.add(layers.MaxPooling2D((2, 2)))\n",
    "model.add(layers.Conv2D(64, (2, 2), activation='relu'))\n",
    "model.add(layers.Flatten())\n",
    "model.add(layers.Dense(64, activation='relu'))\n",
    "model.add(layers.Dense(1))\n",
    "model.summary()\n",
    "model.compile(loss='mean_absolute_error', optimizer='adam', metrics=['accuracy'])"
   ]
  },
  {
   "cell_type": "code",
   "execution_count": 5,
   "id": "0f7dd61b-ad10-4c36-9776-0fb17023eae2",
   "metadata": {},
   "outputs": [],
   "source": [
    "import sys\n",
    "sys.path.insert(1, '../Classes/')\n",
    "from ScoreGetter import ScoreGetter\n",
    "import pandas as pd\n",
    "from sklearn.model_selection import train_test_split\n",
    "\n",
    "df = pd.read_csv('/Volumes/HDD/IA/Deep_ViCTORIA/Datasets/raw_dataset.csv', nrows=100000)\n",
    "score_getter = ScoreGetter('/usr/local/bin/stockfish', 'eval', 'go depth 1')"
   ]
  },
  {
   "cell_type": "code",
   "execution_count": 6,
   "id": "548f0eba-0c21-4534-8e02-89cf17de42f5",
   "metadata": {},
   "outputs": [],
   "source": [
    "encoded = []\n",
    "scores = []\n",
    "for fen in df['board'].values:\n",
    "    try:\n",
    "        scores.append(score_getter.getScore(fen))\n",
    "        encoded.append(encodeBoard(fen))\n",
    "    except Exception as e: \n",
    "        if str(e) == '[Errno 32] Broken pipe':\n",
    "            score_getter.restart()\n",
    "        continue\n",
    "encoded = np.array(encoded)\n",
    "scores = np.array(scores)"
   ]
  },
  {
   "cell_type": "code",
   "execution_count": 7,
   "id": "8c3fa4b7-f6e1-48ce-9301-0b3a7a1c15a2",
   "metadata": {},
   "outputs": [],
   "source": [
    "X_train, X_test, y_train, y_test = train_test_split(\n",
    "                encoded, scores, test_size=0.33, random_state=42)"
   ]
  },
  {
   "cell_type": "code",
   "execution_count": 8,
   "id": "15a380a0-8ad6-44e8-bff7-a67b0821e674",
   "metadata": {},
   "outputs": [
    {
     "name": "stdout",
     "output_type": "stream",
     "text": [
      "Epoch 1/10\n",
      "2079/2079 [==============================] - 5s 2ms/step - loss: 346.9218 - accuracy: 0.0026 - val_loss: 284.3354 - val_accuracy: 0.0028\n",
      "Epoch 2/10\n",
      "2079/2079 [==============================] - 5s 2ms/step - loss: 277.2690 - accuracy: 0.0026 - val_loss: 264.3106 - val_accuracy: 0.0027\n",
      "Epoch 3/10\n",
      "2079/2079 [==============================] - 5s 2ms/step - loss: 266.5383 - accuracy: 0.0025 - val_loss: 265.5287 - val_accuracy: 0.0030\n",
      "Epoch 4/10\n",
      "2079/2079 [==============================] - 5s 2ms/step - loss: 261.0634 - accuracy: 0.0026 - val_loss: 259.8193 - val_accuracy: 0.0029\n",
      "Epoch 5/10\n",
      "2079/2079 [==============================] - 5s 2ms/step - loss: 259.3934 - accuracy: 0.0026 - val_loss: 268.9774 - val_accuracy: 0.0032\n",
      "Epoch 6/10\n",
      "2079/2079 [==============================] - 5s 2ms/step - loss: 256.7443 - accuracy: 0.0026 - val_loss: 266.7389 - val_accuracy: 0.0029\n",
      "Epoch 7/10\n",
      "2079/2079 [==============================] - 5s 2ms/step - loss: 254.4646 - accuracy: 0.0026 - val_loss: 248.5843 - val_accuracy: 0.0029\n",
      "Epoch 8/10\n",
      "2079/2079 [==============================] - 5s 2ms/step - loss: 250.9722 - accuracy: 0.0026 - val_loss: 248.3858 - val_accuracy: 0.0030\n",
      "Epoch 9/10\n",
      "2079/2079 [==============================] - 5s 2ms/step - loss: 251.1755 - accuracy: 0.0027 - val_loss: 248.5716 - val_accuracy: 0.0029\n",
      "Epoch 10/10\n",
      "2079/2079 [==============================] - 5s 2ms/step - loss: 248.4494 - accuracy: 0.0027 - val_loss: 244.4035 - val_accuracy: 0.0029\n"
     ]
    }
   ],
   "source": [
    "history = model.fit(X_train, y_train, epochs=10, \n",
    "                    validation_data=(X_test, y_test))"
   ]
  },
  {
   "cell_type": "code",
   "execution_count": 9,
   "id": "d2e64fea-4d2a-4764-bb10-89cd52f3fbad",
   "metadata": {},
   "outputs": [
    {
     "name": "stdout",
     "output_type": "stream",
     "text": [
      "1024/1024 - 1s - loss: 244.4035 - accuracy: 0.0029\n"
     ]
    },
    {
     "data": {
      "text/plain": [
       "0.00286865234375"
      ]
     },
     "execution_count": 9,
     "metadata": {},
     "output_type": "execute_result"
    },
    {
     "data": {
      "image/png": "[encoded data removed]",
      "text/plain": [
       "<Figure size 432x288 with 1 Axes>"
      ]
     },
     "metadata": {
      "needs_background": "light"
     },
     "output_type": "display_data"
    }
   ],
   "source": [
    "plt.plot(history.history['accuracy'], label='accuracy')\n",
    "plt.plot(history.history['val_accuracy'], label = 'val_accuracy')\n",
    "plt.xlabel('Epoch')\n",
    "plt.ylabel('Accuracy')\n",
    "plt.ylim([-1, 1])\n",
    "plt.legend(loc='lower right')\n",
    "\n",
    "test_loss, test_acc = model.evaluate(X_test,  y_test, verbose=2)\n",
    "test_acc"
   ]
  },
  {
   "cell_type": "code",
   "execution_count": 10,
   "id": "a4f8afb3-9209-4f50-b4e9-988d8d667737",
   "metadata": {},
   "outputs": [],
   "source": [
    "def plotPred (y_true, preds):\n",
    "    ymin = np.min(y_true)\n",
    "    ymax = np.max(y_true)\n",
    "    plt.scatter(y_true, preds, label=f'score: {r2_score(y_true, preds)}')\n",
    "    plt.plot([ymin, ymax], [ymin, ymax], '-.', color='red', label=\"predicted values = true values\")\n",
    "    plt.xlabel('True values')\n",
    "    plt.ylabel('Predicted values')\n",
    "    plt.legend()\n",
    "    \n",
    "def r2_score (y_true, preds):\n",
    "    return 1 - (np.sum(np.square(preds - y_true)) / np.sum(np.square(preds - np.mean(preds))))"
   ]
  },
  {
   "cell_type": "code",
   "execution_count": 11,
   "id": "99d2ca8a-fceb-428f-a255-281e643d475b",
   "metadata": {},
   "outputs": [
    {
     "data": {
      "image/png": "[encoded data removed]",
      "text/plain": [
       "<Figure size 432x288 with 1 Axes>"
      ]
     },
     "metadata": {
      "needs_background": "light"
     },
     "output_type": "display_data"
    }
   ],
   "source": [
    "preds = model.predict(X_test).flatten()\n",
    "plotPred (y_test, preds)"
   ]
  },
  {
   "cell_type": "code",
   "execution_count": null,
   "id": "7487eea2-1975-40d0-babc-6192e2b8532f",
   "metadata": {},
   "outputs": [],
   "source": []
  }
 ],
 "metadata": {
  "kernelspec": {
   "display_name": "Python 3",
   "language": "python",
   "name": "python3"
  },
  "language_info": {
   "codemirror_mode": {
    "name": "ipython",
    "version": 3
   },
   "file_extension": ".py",
   "mimetype": "text/x-python",
   "name": "python",
   "nbconvert_exporter": "python",
   "pygments_lexer": "ipython3",
   "version": "3.9.5"
  }
 },
 "nbformat": 4,
 "nbformat_minor": 5
}
