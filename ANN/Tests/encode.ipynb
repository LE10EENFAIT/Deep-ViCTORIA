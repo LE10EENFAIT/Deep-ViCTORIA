{
 "cells": [
  {
   "cell_type": "code",
   "execution_count": 1,
   "metadata": {},
   "outputs": [],
   "source": [
    "from dataset_utils import encode_position, store_many_hdf5\n",
    "from ScoreGetter import ScoreGetter\n",
    "import pandas as pd\n",
    "import numpy as np"
   ]
  },
  {
   "cell_type": "code",
   "execution_count": 2,
   "metadata": {},
   "outputs": [],
   "source": [
    "df = pd.read_csv(\"/Volumes/HDD/IA/Deep_ViCTORIA/Datasets/fen_dataset.csv\", nrows=13000)"
   ]
  },
  {
   "cell_type": "code",
   "execution_count": 7,
   "metadata": {},
   "outputs": [
    {
     "name": "stdout",
     "output_type": "stream",
     "text": [
      "Mate or stalemate position.\n",
      "Mate or stalemate position.\n",
      "Mate or stalemate position.\n",
      "Mate or stalemate position.\n",
      "Mate or stalemate position.\n",
      "Mate or stalemate position.\n",
      "Mate or stalemate position.\n",
      "Mate or stalemate position.\n",
      "Mate or stalemate position.\n",
      "Mate or stalemate position.\n",
      "Mate or stalemate position.\n",
      "Mate or stalemate position.\n",
      "Mate or stalemate position.\n",
      "Mate or stalemate position.\n",
      "Mate or stalemate position.\n",
      "Number of positions: 2985\n"
     ]
    }
   ],
   "source": [
    "score_getter = ScoreGetter(\"/usr/local/bin/stockfish\", \"eval\", \"go depth 1\")\n",
    "\n",
    "begin = 10000\n",
    "end = 13000\n",
    "nb_pos = end-begin\n",
    "pos = np.zeros((nb_pos, 8, 8, 15))\n",
    "scores = np.zeros(nb_pos)\n",
    "count = 0\n",
    "for i in range(begin, end):\n",
    "  fen = df[\"board\"][i]\n",
    "  try:\n",
    "    scores[i - begin] = score_getter.getScore(fen)\n",
    "    pos[i - begin] = encode_position(fen)\n",
    "    count += 1\n",
    "  except Exception as e:\n",
    "    if str(e) == \"[Errno 32] Broken pipe\":\n",
    "        score_getter.restart()\n",
    "    continue\n",
    "labels = scores[:count]\n",
    "pos = pos[:count]\n",
    "print(f\"Number of positions: {pos.shape[0]}\")"
   ]
  },
  {
   "cell_type": "code",
   "execution_count": 8,
   "metadata": {},
   "outputs": [],
   "source": [
    "store_many_hdf5(pos, scores, tag=\"_test\")"
   ]
  },
  {
   "cell_type": "code",
   "execution_count": null,
   "metadata": {},
   "outputs": [],
   "source": []
  }
 ],
 "metadata": {
  "interpreter": {
   "hash": "7812ea015bdcee6f23a998adcdd2ef97c151c0c241b7b7070987d9313e41299d"
  },
  "kernelspec": {
   "display_name": "Python 3.9.7 64-bit",
   "language": "python",
   "name": "python3"
  },
  "language_info": {
   "codemirror_mode": {
    "name": "ipython",
    "version": 3
   },
   "file_extension": ".py",
   "mimetype": "text/x-python",
   "name": "python",
   "nbconvert_exporter": "python",
   "pygments_lexer": "ipython3",
   "version": "3.9.7"
  },
  "orig_nbformat": 4
 },
 "nbformat": 4,
 "nbformat_minor": 2
}
