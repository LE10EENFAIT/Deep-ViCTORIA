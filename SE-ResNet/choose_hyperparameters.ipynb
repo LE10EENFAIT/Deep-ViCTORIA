{
 "cells": [
  {
   "cell_type": "markdown",
   "metadata": {},
   "source": [
    "## Choosing hyperparameters for GAiA's neural network\n",
    "\n",
    "In this notebook, we are trying different numbers of SE-ResNet blocks for our final model."
   ]
  },
  {
   "cell_type": "code",
   "execution_count": 4,
   "metadata": {},
   "outputs": [
    {
     "name": "stdout",
     "output_type": "stream",
     "text": [
      "Default GPU Device: /device:GPU:0\n"
     ]
    },
    {
     "name": "stderr",
     "output_type": "stream",
     "text": [
      "2021-12-16 01:30:39.485606: I tensorflow/core/platform/cpu_feature_guard.cc:151] This TensorFlow binary is optimized with oneAPI Deep Neural Network Library (oneDNN) to use the following CPU instructions in performance-critical operations:  AVX2 FMA\n",
      "To enable them in other operations, rebuild TensorFlow with the appropriate compiler flags.\n",
      "2021-12-16 01:30:39.749923: I tensorflow/stream_executor/cuda/cuda_gpu_executor.cc:939] successful NUMA node read from SysFS had negative value (-1), but there must be at least one NUMA node, so returning NUMA node zero\n",
      "2021-12-16 01:30:39.928210: I tensorflow/stream_executor/cuda/cuda_gpu_executor.cc:939] successful NUMA node read from SysFS had negative value (-1), but there must be at least one NUMA node, so returning NUMA node zero\n",
      "2021-12-16 01:30:39.928436: I tensorflow/stream_executor/cuda/cuda_gpu_executor.cc:939] successful NUMA node read from SysFS had negative value (-1), but there must be at least one NUMA node, so returning NUMA node zero\n",
      "2021-12-16 01:30:41.186229: I tensorflow/stream_executor/cuda/cuda_gpu_executor.cc:939] successful NUMA node read from SysFS had negative value (-1), but there must be at least one NUMA node, so returning NUMA node zero\n",
      "2021-12-16 01:30:41.186407: I tensorflow/stream_executor/cuda/cuda_gpu_executor.cc:939] successful NUMA node read from SysFS had negative value (-1), but there must be at least one NUMA node, so returning NUMA node zero\n",
      "2021-12-16 01:30:41.186544: I tensorflow/stream_executor/cuda/cuda_gpu_executor.cc:939] successful NUMA node read from SysFS had negative value (-1), but there must be at least one NUMA node, so returning NUMA node zero\n",
      "2021-12-16 01:30:41.186680: I tensorflow/core/common_runtime/gpu/gpu_device.cc:1525] Created device /device:GPU:0 with 5988 MB memory:  -> device: 0, name: NVIDIA GeForce RTX 2080, pci bus id: 0000:01:00.0, compute capability: 7.5\n",
      "2021-12-16 01:30:41.189286: I tensorflow/stream_executor/cuda/cuda_gpu_executor.cc:939] successful NUMA node read from SysFS had negative value (-1), but there must be at least one NUMA node, so returning NUMA node zero\n",
      "2021-12-16 01:30:41.189455: I tensorflow/stream_executor/cuda/cuda_gpu_executor.cc:939] successful NUMA node read from SysFS had negative value (-1), but there must be at least one NUMA node, so returning NUMA node zero\n",
      "2021-12-16 01:30:41.189588: I tensorflow/stream_executor/cuda/cuda_gpu_executor.cc:939] successful NUMA node read from SysFS had negative value (-1), but there must be at least one NUMA node, so returning NUMA node zero\n",
      "2021-12-16 01:30:41.189757: I tensorflow/stream_executor/cuda/cuda_gpu_executor.cc:939] successful NUMA node read from SysFS had negative value (-1), but there must be at least one NUMA node, so returning NUMA node zero\n",
      "2021-12-16 01:30:41.189891: I tensorflow/stream_executor/cuda/cuda_gpu_executor.cc:939] successful NUMA node read from SysFS had negative value (-1), but there must be at least one NUMA node, so returning NUMA node zero\n",
      "2021-12-16 01:30:41.189996: I tensorflow/core/common_runtime/gpu/gpu_device.cc:1525] Created device /device:GPU:0 with 5988 MB memory:  -> device: 0, name: NVIDIA GeForce RTX 2080, pci bus id: 0000:01:00.0, compute capability: 7.5\n"
     ]
    }
   ],
   "source": [
    "from model.GAiA_network import GAiA_Network, coeff_determination\n",
    "from lib.dataset_utils import read_many_hdf5, board_shape\n",
    "\n",
    "import pickle\n",
    "import numpy as np\n",
    "import matplotlib.pyplot as plt\n",
    "import tensorflow as tf\n",
    "from sklearn.model_selection import train_test_split\n",
    "\n",
    "import platform\n",
    "if platform.system() == \"Darwin\":\n",
    "    %config InlineBackend.figure_format=\"retina\"  # For high DPI display\n",
    "\n",
    "if tf.test.gpu_device_name(): \n",
    "  print(f\"Default GPU Device: {tf.test.gpu_device_name()}\")"
   ]
  },
  {
   "cell_type": "markdown",
   "metadata": {},
   "source": [
    "We are loading our training dataset and we are using it to build different training and validation data\n",
    "for each model."
   ]
  },
  {
   "cell_type": "code",
   "execution_count": null,
   "metadata": {},
   "outputs": [],
   "source": [
    "directory = \"/media/gaetan/HDD/IA/Chess/Datasets/SE_ResNet/\"\n",
    "positions, scores = read_many_hdf5(1389333, directory, \"_train\")\n",
    "positions = positions[:150000]\n",
    "scores = scores[:150000]\n",
    "\n",
    "nb_models = 10\n",
    "positions_train, scores_train = [], []\n",
    "positions_valid, scores_valid = [], []\n",
    "for i in range(nb_models):\n",
    "  positions_train_t, positions_valid_t, scores_train_t, scores_valid_t = train_test_split(\n",
    "    positions, scores, test_size=0.2, random_state=42+i)\n",
    "  positions_train.append(positions_train_t)\n",
    "  positions_valid.append(positions_valid_t)\n",
    "  scores_train.append(scores_train_t)\n",
    "  scores_valid.append(scores_valid_t)\n",
    "print(f\"Training sets shape ≈ {positions_train[0].shape}, Validation sets shape ≈ {positions_valid[0].shape}\")\n"
   ]
  },
  {
   "cell_type": "markdown",
   "metadata": {},
   "source": [
    "Now, we create several models with an increasing number of SE-ResNet blocks."
   ]
  },
  {
   "cell_type": "code",
   "execution_count": null,
   "metadata": {},
   "outputs": [],
   "source": [
    "models = []\n",
    "offset_blocks = 2\n",
    "filters = [64, 128]\n",
    "for i in range(1, nb_models+1):\n",
    "  model = GAiA_Network(board_shape, {\"filters\":filters[(i-1) // (nb_models//2)], \"nb_blocks\":i+offset_blocks})\n",
    "  model.compile(loss=\"mean_absolute_error\", optimizer=\"adam\", metrics=[coeff_determination])\n",
    "  models.append(model)\n",
    "models[0].summary()"
   ]
  },
  {
   "cell_type": "markdown",
   "metadata": {},
   "source": [
    "We train our models."
   ]
  },
  {
   "cell_type": "code",
   "execution_count": null,
   "metadata": {},
   "outputs": [],
   "source": [
    "nb_epochs = 15\n",
    "histories = []\n",
    "for i, model in enumerate(models):\n",
    "  print(f\"Model {i+1}/{len(models)}...\", end=\" \")\n",
    "  history = model.fit(positions_train[i], scores_train[i], verbose=0, epochs=nb_epochs)\n",
    "  histories.append(history)\n",
    "  pred = model.predict(positions_train[i])\n",
    "  r2_score = coeff_determination(tf.convert_to_tensor(scores_train[i]), pred).numpy()\n",
    "  print(f\"Done. Training accuracy: {r2_score:.2f}\")\n"
   ]
  },
  {
   "cell_type": "code",
   "execution_count": null,
   "metadata": {},
   "outputs": [],
   "source": [
    "def plot_validation_results(histories, validation_Xs, validation_ys, path=None, ext=\"pdf\"):\n",
    "  epochs = range(1, nb_epochs + 1)\n",
    "\n",
    "  fig, axs = plt.subplots(1, 2, figsize=(20, 5))\n",
    "  _, ax_score  = plt.subplots(1, 1, figsize=(10, 5))\n",
    "\n",
    "  line_styles = [\"-\", \"--\", \"-.\", \":\", \".-\"]\n",
    "\n",
    "  for i, history in enumerate(histories):\n",
    "    X_valid = validation_Xs[i]\n",
    "    y_valid = validation_ys[i]\n",
    "    nb_blocks = i + offset_blocks + 1\n",
    "    nb_filters = filters[i // (nb_models//2)]\n",
    "\n",
    "    loss = history.history[\"loss\"]\n",
    "    score = history.history[\"coeff_determination\"]\n",
    "    style = line_styles[i % len(line_styles)]\n",
    "    axs[0].plot(epochs, loss, style, label=f\"{nb_blocks} SE-ResNet blocks {nb_filters} filters\")\n",
    "\n",
    "    axs[1].plot(epochs, score, style, label=f\"{nb_blocks} SE-ResNet blocks {nb_filters} filters\")\n",
    "\n",
    "    preds = models[i].predict(X_valid)\n",
    "    r2_score = coeff_determination(tf.convert_to_tensor(y_valid), preds).numpy()\n",
    "    ax_score.scatter(y_valid, preds, label = f\"{nb_blocks} SE-ResNet blocks  {nb_filters} filters $R^2 = {r2_score:.2f}$\")\n",
    "\n",
    "\n",
    "  axs[0].set_xlabel(\"Epoch\")\n",
    "  axs[0].set_ylabel(\"(Mean Absolute Error)\")\n",
    "  axs[0].set_title('Training loss')\n",
    "  axs[1].set_xlabel(\"Epoch\")\n",
    "  axs[1].set_ylabel(\"($R^2$)\")\n",
    "  axs[1].set_title('Training score')\n",
    "  for i, ax in enumerate(axs):\n",
    "    ax.legend()\n",
    "    if path:\n",
    "      extent = ax.get_window_extent().transformed(fig.dpi_scale_trans.inverted())\n",
    "      fig.savefig(path + '_' + str(i) + \"_1.\" + ext, bbox_inches=extent)\n",
    "\n",
    "  ma = np.max(y_valid)\n",
    "  mi = np.min(y_valid)\n",
    "  x = np.linspace(ma, mi, 100)\n",
    "  ax_score.plot(x, x, \"-.\", label = \"Predictions = True values\")\n",
    "  ax_score.set_xlabel(\"True values (centipawn)\")\n",
    "  ax_score.set_ylabel(\"Predictions (centipawn)\")\n",
    "  ax_score.set_title(\"Results on validation set\")\n",
    "  ax_score.legend()\n",
    "\n",
    "  if path:\n",
    "    plt.savefig(path + \"_2.\" + ext)\n",
    "\n",
    "def get_best_model(models, validation_Xs, validation_ys):\n",
    "  preds = []\n",
    "  for i in range(len(models)):\n",
    "    pred = models[i].predict(validation_Xs[i])\n",
    "    r2_score = coeff_determination(tf.convert_to_tensor(validation_ys[i]), pred).numpy()\n",
    "    preds.append(r2_score)\n",
    "  idx = np.argmax(preds)+1\n",
    "  return models[idx], offset_blocks + idx, filters[idx // (nb_models//2)]"
   ]
  },
  {
   "cell_type": "markdown",
   "metadata": {},
   "source": [
    "Here are the results!"
   ]
  },
  {
   "cell_type": "code",
   "execution_count": null,
   "metadata": {},
   "outputs": [],
   "source": [
    "plot_validation_results(histories, positions_valid, scores_valid, path=\"results/model_selection\")"
   ]
  },
  {
   "cell_type": "markdown",
   "metadata": {},
   "source": [
    "We can see on the figure above that all of our model perform well.\n",
    "\n",
    "However, adding more blocks and filters do not improve the results.\n",
    "\n",
    "Therefore, we can take a not too complex one."
   ]
  },
  {
   "cell_type": "code",
   "execution_count": null,
   "metadata": {},
   "outputs": [],
   "source": [
    "config = {\"nb_blocks\": 4, \"filters\": 64}\n",
    "print(config)\n",
    "output_file = open(\"model/hyperparameters.pickle\", \"wb\")\n",
    "pickle.dump(config, output_file)\n",
    "output_file.close()"
   ]
  },
  {
   "cell_type": "code",
   "execution_count": null,
   "metadata": {},
   "outputs": [],
   "source": []
  }
 ],
 "metadata": {
  "interpreter": {
   "hash": "7812ea015bdcee6f23a998adcdd2ef97c151c0c241b7b7070987d9313e41299d"
  },
  "kernelspec": {
   "display_name": "Python 3.9.7 64-bit",
   "language": "python",
   "name": "python3"
  },
  "language_info": {
   "codemirror_mode": {
    "name": "ipython",
    "version": 3
   },
   "file_extension": ".py",
   "mimetype": "text/x-python",
   "name": "python",
   "nbconvert_exporter": "python",
   "pygments_lexer": "ipython3",
   "version": "3.8.10"
  },
  "orig_nbformat": 4
 },
 "nbformat": 4,
 "nbformat_minor": 2
}
