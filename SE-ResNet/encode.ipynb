{
 "cells": [
  {
   "cell_type": "markdown",
   "metadata": {},
   "source": [
    "## Encode chess position"
   ]
  },
  {
   "cell_type": "code",
   "execution_count": 1,
   "metadata": {},
   "outputs": [],
   "source": [
    "from lib.dataset_utils import encode_position, store_many_hdf5\n",
    "from lib.score_getter import ScoreGetter, Engine\n",
    "\n",
    "import chess\n",
    "import pandas as pd\n",
    "import matplotlib.pyplot as plt\n",
    "from tqdm import tqdm\n",
    "from multiprocessing import current_process"
   ]
  },
  {
   "cell_type": "markdown",
   "metadata": {},
   "source": [
    "We load a dataset containing millions of unique chess position represented by the [FEN](https://fr.wikipedia.org/wiki/Notation_Forsyth-Edwards) notation."
   ]
  },
  {
   "cell_type": "code",
   "execution_count": 2,
   "metadata": {},
   "outputs": [],
   "source": [
    "df = pd.read_csv(\"/media/gaetan/HDD/IA/Chess/Datasets/fen_dataset.csv\")\n",
    "df = df.sample(frac=1)"
   ]
  },
  {
   "cell_type": "markdown",
   "metadata": {},
   "source": [
    "We create our train/test dataset.\n",
    "\n",
    "Each position is encoded as an image of $8\\times8$ \"pixels\" with $15$ channels\n",
    "($12$ representing each chess pieces, $1$ for the actual player, $1$\n",
    "for the en-passant square and $1$ for the castling rights). Along this encoded position, we store\n",
    "the score given by Stockfish 14."
   ]
  },
  {
   "cell_type": "code",
   "execution_count": 3,
   "metadata": {},
   "outputs": [
    {
     "name": "stderr",
     "output_type": "stream",
     "text": [
      "Encoding: 100%|█████████▉| 3399987/3400000 [2:48:29<00:00, 333.93it/s]   "
     ]
    }
   ],
   "source": [
    "directory = \"/media/gaetan/HDD/IA/Chess/Datasets/SE_ResNet/\"\n",
    "\n",
    "score_getter = ScoreGetter(\"bin/stockfish\", Engine.STOCKFISH)\n",
    "\n",
    "nb_positions = 3_400_000\n",
    "save_step = 1_000_000\n",
    "\n",
    "# Status bar configuration\n",
    "current = current_process()\n",
    "pos = current._identity[0]-1 if len(current._identity) > 0 else 0\n",
    "pbar = tqdm(total=nb_positions, desc=\"Encoding\", position=pos)\n",
    "\n",
    "positions = []\n",
    "scores = []\n",
    "for i in range(nb_positions):\n",
    "  pbar.update(1)\n",
    "  fen = df[\"board\"][i]6\n",
    "  board = chess.Board(fen)\n",
    "  if board.is_game_over(): continue\n",
    "  try:\n",
    "      scores.append(score_getter.get_score(board.fen()))\n",
    "      positions.append(encode_position(board))\n",
    "  except Exception as e:\n",
    "    if str(e) == \"[Errno 32] Broken pipe\":\n",
    "        score_getter.restart()\n",
    "    continue\n",
    "  \n",
    "  if (i+1) % save_step == 0:\n",
    "    store_many_hdf5(positions, scores, directory, tag=f\"_{i//save_step}\")\n",
    "    positions = []\n",
    "    scores = []\n",
    "\n",
    "store_many_hdf5(positions, scores, directory, tag=f\"_{i//save_step}\")\n"
   ]
  },
  {
   "cell_type": "markdown",
   "metadata": {},
   "source": [
    "We save the resulting dataset using HDF5."
   ]
  },
  {
   "cell_type": "code",
   "execution_count": 4,
   "metadata": {},
   "outputs": [
    {
     "name": "stdout",
     "output_type": "stream",
     "text": [
      "Number of positions: 396798\n"
     ]
    }
   ],
   "source": [
    "print(f\"Number of positions: {len(positions)}\")"
   ]
  },
  {
   "cell_type": "markdown",
   "metadata": {},
   "source": [
    "We look at the distribution of the scores"
   ]
  },
  {
   "cell_type": "code",
   "execution_count": 5,
   "metadata": {},
   "outputs": [
    {
     "data": {
      "image/png": "[encoded data removed]",
      "text/plain": [
       "<Figure size 432x288 with 1 Axes>"
      ]
     },
     "metadata": {
      "needs_background": "light"
     },
     "output_type": "display_data"
    }
   ],
   "source": [
    "plt.hist(scores, bins=100, density=True)\n",
    "plt.xlabel(\"Evalution (centipawn)\")\n",
    "plt.title(\"Distribution of evaluations\")\n",
    "_ = plt.savefig(\"results/distribution.pdf\")"
   ]
  },
  {
   "cell_type": "code",
   "execution_count": 6,
   "metadata": {},
   "outputs": [
    {
     "data": {
      "text/plain": [
       "count    396798.000000\n",
       "mean         30.376353\n",
       "std         919.320381\n",
       "min       -9616.000000\n",
       "25%        -254.000000\n",
       "50%          29.000000\n",
       "75%         329.000000\n",
       "max        8666.000000\n",
       "dtype: float64"
      ]
     },
     "execution_count": 6,
     "metadata": {},
     "output_type": "execute_result"
    },
    {
     "name": "stderr",
     "output_type": "stream",
     "text": [
      "Encoding: 100%|██████████| 3400000/3400000 [2:48:40<00:00, 333.93it/s]"
     ]
    }
   ],
   "source": [
    "pd.Series(scores).describe()"
   ]
  },
  {
   "cell_type": "code",
   "execution_count": null,
   "metadata": {},
   "outputs": [],
   "source": []
  }
 ],
 "metadata": {
  "interpreter": {
   "hash": "7812ea015bdcee6f23a998adcdd2ef97c151c0c241b7b7070987d9313e41299d"
  },
  "kernelspec": {
   "display_name": "Python 3.9.7 64-bit",
   "language": "python",
   "name": "python3"
  },
  "language_info": {
   "codemirror_mode": {
    "name": "ipython",
    "version": 3
   },
   "file_extension": ".py",
   "mimetype": "text/x-python",
   "name": "python",
   "nbconvert_exporter": "python",
   "pygments_lexer": "ipython3",
   "version": "3.9.9"
  },
  "orig_nbformat": 4
 },
 "nbformat": 4,
 "nbformat_minor": 2
}
