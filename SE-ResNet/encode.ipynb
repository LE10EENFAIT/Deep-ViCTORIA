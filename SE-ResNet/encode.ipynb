{
 "cells": [
  {
   "cell_type": "markdown",
   "metadata": {},
   "source": [
    "## Encode chess position"
   ]
  },
  {
   "cell_type": "code",
   "execution_count": null,
   "metadata": {},
   "outputs": [],
   "source": [
    "import sys\n",
    "sys.path.insert(1, \"lib/\")\n",
    "from dataset_utils import nb_channels, encode_position, store_many_hdf5\n",
    "from ScoreGetter import ScoreGetter, Engine\n",
    "\n",
    "import pandas as pd\n",
    "import matplotlib.pyplot as plt\n",
    "import numpy as np\n",
    "from tqdm import tqdm\n",
    "from multiprocessing import current_process"
   ]
  },
  {
   "cell_type": "markdown",
   "metadata": {},
   "source": [
    "We load a dataset containing millions of unique chess position represented by the [FEN](https://fr.wikipedia.org/wiki/Notation_Forsyth-Edwards) notation."
   ]
  },
  {
   "cell_type": "code",
   "execution_count": null,
   "metadata": {},
   "outputs": [],
   "source": [
    "df = pd.read_csv(\"/media/gaetan/HDD/IA/Chess/Datasets/fen_dataset.csv\")\n",
    "df = df.sample(frac=1)"
   ]
  },
  {
   "cell_type": "markdown",
   "metadata": {},
   "source": [
    "We create our train/test dataset.\n",
    "\n",
    "Each position is encoded as an image of $8\\times8$ \"pixels\" with $15$ channels\n",
    "($12$ representing each chess pieces, $1$ for the actual player, $1$\n",
    "for the en-passant square and $1$ for the castling rights). Along this encoded position, we store\n",
    "the score given by Stockfish 14."
   ]
  },
  {
   "cell_type": "code",
   "execution_count": null,
   "metadata": {},
   "outputs": [],
   "source": [
    "score_getter = ScoreGetter(\"bin/stockfish\", Engine.STOCKFISH)\n",
    "\n",
    "nb_position = 1400000\n",
    "position = np.zeros((nb_position, 8, 8, nb_channels), dtype=np.float32)\n",
    "scores = np.zeros(nb_position, dtype=np.float32)\n",
    "\n",
    "# Status bar configuration\n",
    "current = current_process()\n",
    "pos = current._identity[0]-1 if len(current._identity) > 0 else 0\n",
    "pbar = tqdm(total=nb_position, desc=\"Encoding\", position=pos)\n",
    "\n",
    "count = 0\n",
    "for i in range(nb_position):\n",
    "  pbar.update(1)\n",
    "  fen = df[\"board\"][i]\n",
    "  try:\n",
    "    scores[i] = score_getter.get_score(fen)\n",
    "    position[i] = encode_position(fen)\n",
    "    count += 1\n",
    "  except Exception as e:\n",
    "    if str(e) == \"[Errno 32] Broken pipe\":\n",
    "        score_getter.restart()\n",
    "    continue\n",
    "scores = scores[:count].reshape(-1, 1)\n",
    "position = position[:count]\n",
    "print(f\"Number of positions: {position.shape[0]}\")"
   ]
  },
  {
   "cell_type": "markdown",
   "metadata": {},
   "source": [
    "We look at the distribution of the scores"
   ]
  },
  {
   "cell_type": "code",
   "execution_count": null,
   "metadata": {},
   "outputs": [],
   "source": [
    "plt.hist(scores, bins=100, density=True)\n",
    "plt.xlabel(\"Evalution (centipawn)\")\n",
    "plt.title(\"Distribution of evaluations\")\n",
    "_ = plt.savefig(\"results/distribution.pdf\")"
   ]
  },
  {
   "cell_type": "code",
   "execution_count": null,
   "metadata": {},
   "outputs": [],
   "source": [
    "pd.Series(scores).describe()"
   ]
  },
  {
   "cell_type": "markdown",
   "metadata": {},
   "source": [
    "We save the resulting dataset using HDF5."
   ]
  },
  {
   "cell_type": "code",
   "execution_count": null,
   "metadata": {},
   "outputs": [],
   "source": [
    "directory = \"/media/gaetan/HDD/IA/Chess/Datasets/SE_ResNet/\"\n",
    "store_many_hdf5(position, scores, directory, tag=\"_test\")"
   ]
  },
  {
   "cell_type": "code",
   "execution_count": null,
   "metadata": {},
   "outputs": [],
   "source": []
  }
 ],
 "metadata": {
  "interpreter": {
   "hash": "7812ea015bdcee6f23a998adcdd2ef97c151c0c241b7b7070987d9313e41299d"
  },
  "kernelspec": {
   "display_name": "Python 3.9.7 64-bit",
   "language": "python",
   "name": "python3"
  },
  "language_info": {
   "codemirror_mode": {
    "name": "ipython",
    "version": 3
   },
   "file_extension": ".py",
   "mimetype": "text/x-python",
   "name": "python",
   "nbconvert_exporter": "python",
   "pygments_lexer": "ipython3",
   "version": "3.9.7"
  },
  "orig_nbformat": 4
 },
 "nbformat": 4,
 "nbformat_minor": 2
}
