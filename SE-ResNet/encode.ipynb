{
 "cells": [
  {
   "cell_type": "markdown",
   "metadata": {},
   "source": [
    "## Encode chess position"
   ]
  },
  {
   "cell_type": "code",
   "execution_count": 1,
   "metadata": {},
   "outputs": [],
   "source": [
    "import sys\n",
    "sys.path.insert(1, \"lib/\")\n",
    "from dataset_utils import nb_channels, encode_position, store_many_hdf5\n",
    "from ScoreGetter import ScoreGetter\n",
    "\n",
    "import pandas as pd\n",
    "import numpy as np\n",
    "from tqdm import tqdm\n",
    "from multiprocessing import current_process"
   ]
  },
  {
   "cell_type": "code",
   "execution_count": 4,
   "metadata": {},
   "outputs": [
    {
     "name": "stdout",
     "output_type": "stream",
     "text": [
      "\u001b[1m\u001b[31m       _\n",
      "|   _ | |\n",
      "|_ |_ |_|\u001b[0m v0.28.0+git.dirty built Nov 25 2021\n",
      "Found pb network file: bin/752187.pb.gz\n",
      "Creating backend [cudnn-auto]...\n",
      "Switching to [cudnn-fp16]...\n",
      "CUDA Runtime version: 11.5.0\n",
      "Cudnn version: 8.3.1\n",
      "Latest version of CUDA supported by the driver: 11.5.0\n",
      "GPU: NVIDIA GeForce RTX 2080\n",
      "GPU memory: 7.79218 GiB\n",
      "GPU clock frequency: 1815 MHz\n",
      "GPU compute capability: 7.5\n",
      "bestmove a1a1\n",
      "EFOEIFEJFOEJF\n",
      "Final evaluation +-0.000000\n"
     ]
    },
    {
     "ename": "ValueError",
     "evalue": "could not convert string to float: '+-0.000000'",
     "output_type": "error",
     "traceback": [
      "\u001b[0;31m---------------------------------------------------------------------------\u001b[0m",
      "\u001b[0;31mValueError\u001b[0m                                Traceback (most recent call last)",
      "\u001b[0;32m/tmp/ipykernel_20848/2039703654.py\u001b[0m in \u001b[0;36m<module>\u001b[0;34m\u001b[0m\n\u001b[1;32m      1\u001b[0m \u001b[0mscore_getter\u001b[0m \u001b[0;34m=\u001b[0m \u001b[0mScoreGetter\u001b[0m\u001b[0;34m(\u001b[0m\u001b[0;34m\"bin/lc0\"\u001b[0m\u001b[0;34m,\u001b[0m \u001b[0mevalc\u001b[0m\u001b[0;34m=\u001b[0m\u001b[0;34m\"eval\"\u001b[0m\u001b[0;34m,\u001b[0m \u001b[0mdepth1\u001b[0m\u001b[0;34m=\u001b[0m\u001b[0;34m\"go depth 1\"\u001b[0m\u001b[0;34m)\u001b[0m\u001b[0;34m\u001b[0m\u001b[0;34m\u001b[0m\u001b[0m\n\u001b[1;32m      2\u001b[0m \u001b[0mscore_getter\u001b[0m\u001b[0;34m.\u001b[0m\u001b[0mgo_depth1\u001b[0m\u001b[0;34m(\u001b[0m\u001b[0;34m\"r1bqkbnr/p1pp1Qpp/1pn5/4p3/2B1P3/8/PPPP1PPP/RNB1K1NR b KQkq - 0 4\"\u001b[0m\u001b[0;34m)\u001b[0m\u001b[0;34m\u001b[0m\u001b[0;34m\u001b[0m\u001b[0m\n\u001b[0;32m----> 3\u001b[0;31m \u001b[0mscore_getter\u001b[0m\u001b[0;34m.\u001b[0m\u001b[0mget_score\u001b[0m\u001b[0;34m(\u001b[0m\u001b[0;34m\"r1bqkbnr/p1pp1Qpp/1pn5/4p3/2B1P3/8/PPPP1PPP/RNB1K1NR b KQkq - 0 4\"\u001b[0m\u001b[0;34m)\u001b[0m\u001b[0;34m\u001b[0m\u001b[0;34m\u001b[0m\u001b[0m\n\u001b[0m",
      "\u001b[0;32m~/Documents/Projects/GAiA/SE-ResNet/lib/ScoreGetter.py\u001b[0m in \u001b[0;36mget_score\u001b[0;34m(self, fen)\u001b[0m\n\u001b[1;32m     39\u001b[0m           \u001b[0;32mreturn\u001b[0m \u001b[0mself\u001b[0m\u001b[0;34m.\u001b[0m\u001b[0mget_score2\u001b[0m\u001b[0;34m(\u001b[0m\u001b[0mfen\u001b[0m\u001b[0;34m)\u001b[0m\u001b[0;34m\u001b[0m\u001b[0;34m\u001b[0m\u001b[0m\n\u001b[1;32m     40\u001b[0m \u001b[0;34m\u001b[0m\u001b[0m\n\u001b[0;32m---> 41\u001b[0;31m         \u001b[0mscore\u001b[0m \u001b[0;34m=\u001b[0m \u001b[0mint\u001b[0m\u001b[0;34m(\u001b[0m\u001b[0mfloat\u001b[0m\u001b[0;34m(\u001b[0m\u001b[0mline_splitted\u001b[0m\u001b[0;34m[\u001b[0m\u001b[0;36m2\u001b[0m\u001b[0;34m]\u001b[0m\u001b[0;34m)\u001b[0m\u001b[0;34m*\u001b[0m\u001b[0;36m100\u001b[0m\u001b[0;34m)\u001b[0m\u001b[0;34m\u001b[0m\u001b[0;34m\u001b[0m\u001b[0m\n\u001b[0m\u001b[1;32m     42\u001b[0m         \u001b[0;32mbreak\u001b[0m\u001b[0;34m\u001b[0m\u001b[0;34m\u001b[0m\u001b[0m\n\u001b[1;32m     43\u001b[0m \u001b[0;34m\u001b[0m\u001b[0m\n",
      "\u001b[0;31mValueError\u001b[0m: could not convert string to float: '+-0.000000'"
     ]
    }
   ],
   "source": [
    "score_getter = ScoreGetter(\"bin/lc0\", evalc=\"eval\", depth1=\"go depth 1\")\n",
    "score_getter.go_depth1(\"r1bqkbnr/p1pp1Qpp/1pn5/4p3/2B1P3/8/PPPP1PPP/RNB1K1NR b KQkq - 0 4\")\n",
    "score_getter.get_score(\"r1bqkbnr/p1pp1Qpp/1pn5/4p3/2B1P3/8/PPPP1PPP/RNB1K1NR b KQkq - 0 4\")"
   ]
  },
  {
   "cell_type": "markdown",
   "metadata": {},
   "source": [
    "We load a dataset containing millions of unique chess position represented by the [FEN](https://fr.wikipedia.org/wiki/Notation_Forsyth-Edwards) notation."
   ]
  },
  {
   "cell_type": "code",
   "execution_count": null,
   "metadata": {},
   "outputs": [],
   "source": [
    "df = pd.read_csv(\"E:/IA/Chess/Datasets/fen_dataset.csv\")\n",
    "df = df.sample(frac=1)"
   ]
  },
  {
   "cell_type": "markdown",
   "metadata": {},
   "source": [
    "We create our train/test dataset.\n",
    "\n",
    "Each position is encoded as an image of $8\\times8$ \"pixels\" with $15$ channels\n",
    "($12$ representing each chess pieces, $1$ for the actual player, $1$\n",
    "for the en-passant square and $1$ for the castling rights). Along this encoded position, we store\n",
    "the score given by Stockfish."
   ]
  },
  {
   "cell_type": "code",
   "execution_count": null,
   "metadata": {},
   "outputs": [
    {
     "name": "stderr",
     "output_type": "stream",
     "text": [
      "Encoding: 100%|█████████▉| 149997/150000 [40:50<00:00, 61.02it/s]"
     ]
    },
    {
     "name": "stdout",
     "output_type": "stream",
     "text": [
      "Number of positions: 149371\n"
     ]
    }
   ],
   "source": [
    "score_getter = ScoreGetter(\"bin/stockfish.exe\", evalc=\"eval\", depth1=\"go depth 1\")\n",
    "\n",
    "nb_position = 150000\n",
    "position = np.zeros((nb_position, 8, 8, nb_channels), dtype=np.float32)\n",
    "scores = np.zeros(nb_position, dtype=np.float32)\n",
    "\n",
    "# Status bar configuration\n",
    "current = current_process()\n",
    "pos = current._identity[0]-1 if len(current._identity) > 0 else 0\n",
    "pbar = tqdm(total=nb_position, desc=\"Encoding\", position=pos)\n",
    "\n",
    "count = 0\n",
    "for i in range(nb_position):\n",
    "  pbar.update(1)\n",
    "  fen = df[\"board\"][i]\n",
    "  try:\n",
    "    scores[i] = score_getter.get_score(fen)\n",
    "    position[i] = encode_position(fen)\n",
    "    count += 1\n",
    "  except Exception as e:\n",
    "    if str(e) == \"[Errno 32] Broken pipe\":\n",
    "        score_getter.restart()\n",
    "    continue\n",
    "scores = scores[:count].reshape(-1, 1)\n",
    "position = position[:count]\n",
    "print(f\"Number of positions: {position.shape[0]}\")"
   ]
  },
  {
   "cell_type": "markdown",
   "metadata": {},
   "source": [
    "We save the resulting dataset using HDF5."
   ]
  },
  {
   "cell_type": "code",
   "execution_count": null,
   "metadata": {},
   "outputs": [
    {
     "name": "stderr",
     "output_type": "stream",
     "text": [
      "Encoding: 100%|██████████| 150000/150000 [41:03<00:00, 61.02it/s]"
     ]
    }
   ],
   "source": [
    "directory = \"E:/IA/Chess/Datasets/SE_ResNet/\"\n",
    "store_many_hdf5(position, scores, directory, tag=\"_test\")"
   ]
  },
  {
   "cell_type": "code",
   "execution_count": null,
   "metadata": {},
   "outputs": [],
   "source": []
  }
 ],
 "metadata": {
  "interpreter": {
   "hash": "7812ea015bdcee6f23a998adcdd2ef97c151c0c241b7b7070987d9313e41299d"
  },
  "kernelspec": {
   "display_name": "Python 3.9.7 64-bit",
   "language": "python",
   "name": "python3"
  },
  "language_info": {
   "codemirror_mode": {
    "name": "ipython",
    "version": 3
   },
   "file_extension": ".py",
   "mimetype": "text/x-python",
   "name": "python",
   "nbconvert_exporter": "python",
   "pygments_lexer": "ipython3",
   "version": "3.8.10"
  },
  "orig_nbformat": 4
 },
 "nbformat": 4,
 "nbformat_minor": 2
}
