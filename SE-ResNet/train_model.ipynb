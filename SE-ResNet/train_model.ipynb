{
 "cells": [
  {
   "cell_type": "markdown",
   "metadata": {},
   "source": [
    "## Training of GAiA's neural network"
   ]
  },
  {
   "cell_type": "code",
   "execution_count": 1,
   "metadata": {},
   "outputs": [
    {
     "name": "stdout",
     "output_type": "stream",
     "text": [
      "Default GPU Device: /device:GPU:0\n"
     ]
    },
    {
     "name": "stderr",
     "output_type": "stream",
     "text": [
      "2022-01-13 00:24:47.661393: I tensorflow/core/platform/cpu_feature_guard.cc:151] This TensorFlow binary is optimized with oneAPI Deep Neural Network Library (oneDNN) to use the following CPU instructions in performance-critical operations:  AVX2 FMA\n",
      "To enable them in other operations, rebuild TensorFlow with the appropriate compiler flags.\n",
      "2022-01-13 00:24:47.699551: I tensorflow/stream_executor/cuda/cuda_gpu_executor.cc:939] successful NUMA node read from SysFS had negative value (-1), but there must be at least one NUMA node, so returning NUMA node zero\n",
      "2022-01-13 00:24:47.732202: I tensorflow/stream_executor/cuda/cuda_gpu_executor.cc:939] successful NUMA node read from SysFS had negative value (-1), but there must be at least one NUMA node, so returning NUMA node zero\n",
      "2022-01-13 00:24:47.732400: I tensorflow/stream_executor/cuda/cuda_gpu_executor.cc:939] successful NUMA node read from SysFS had negative value (-1), but there must be at least one NUMA node, so returning NUMA node zero\n",
      "2022-01-13 00:24:48.171935: I tensorflow/stream_executor/cuda/cuda_gpu_executor.cc:939] successful NUMA node read from SysFS had negative value (-1), but there must be at least one NUMA node, so returning NUMA node zero\n",
      "2022-01-13 00:24:48.172111: I tensorflow/stream_executor/cuda/cuda_gpu_executor.cc:939] successful NUMA node read from SysFS had negative value (-1), but there must be at least one NUMA node, so returning NUMA node zero\n",
      "2022-01-13 00:24:48.172247: I tensorflow/stream_executor/cuda/cuda_gpu_executor.cc:939] successful NUMA node read from SysFS had negative value (-1), but there must be at least one NUMA node, so returning NUMA node zero\n",
      "2022-01-13 00:24:48.172370: I tensorflow/core/common_runtime/gpu/gpu_device.cc:1525] Created device /device:GPU:0 with 6131 MB memory:  -> device: 0, name: NVIDIA GeForce RTX 2080, pci bus id: 0000:01:00.0, compute capability: 7.5\n",
      "2022-01-13 00:24:48.173384: I tensorflow/stream_executor/cuda/cuda_gpu_executor.cc:939] successful NUMA node read from SysFS had negative value (-1), but there must be at least one NUMA node, so returning NUMA node zero\n",
      "2022-01-13 00:24:48.173537: I tensorflow/stream_executor/cuda/cuda_gpu_executor.cc:939] successful NUMA node read from SysFS had negative value (-1), but there must be at least one NUMA node, so returning NUMA node zero\n",
      "2022-01-13 00:24:48.173666: I tensorflow/stream_executor/cuda/cuda_gpu_executor.cc:939] successful NUMA node read from SysFS had negative value (-1), but there must be at least one NUMA node, so returning NUMA node zero\n",
      "2022-01-13 00:24:48.173824: I tensorflow/stream_executor/cuda/cuda_gpu_executor.cc:939] successful NUMA node read from SysFS had negative value (-1), but there must be at least one NUMA node, so returning NUMA node zero\n",
      "2022-01-13 00:24:48.174033: I tensorflow/stream_executor/cuda/cuda_gpu_executor.cc:939] successful NUMA node read from SysFS had negative value (-1), but there must be at least one NUMA node, so returning NUMA node zero\n",
      "2022-01-13 00:24:48.174144: I tensorflow/core/common_runtime/gpu/gpu_device.cc:1525] Created device /device:GPU:0 with 6131 MB memory:  -> device: 0, name: NVIDIA GeForce RTX 2080, pci bus id: 0000:01:00.0, compute capability: 7.5\n"
     ]
    }
   ],
   "source": [
    "from model.GAiA_network import GAiA_Network, coeff_determination\n",
    "from lib.dataset_utils import read_many_hdf5, board_shape\n",
    "\n",
    "import pickle\n",
    "import tensorflow as tf\n",
    "import matplotlib.pyplot as plt\n",
    "\n",
    "import platform\n",
    "if platform.system() == \"Darwin\":\n",
    "    %config InlineBackend.figure_format=\"retina\"  # For high DPI display\n",
    "\n",
    "if tf.test.gpu_device_name(): \n",
    "  print(f\"Default GPU Device: {tf.test.gpu_device_name()}\")"
   ]
  },
  {
   "cell_type": "markdown",
   "metadata": {},
   "source": [
    "We retrieve the model's optimal hyperparameters from the `choose_hyperparameters` notebook."
   ]
  },
  {
   "cell_type": "code",
   "execution_count": 2,
   "metadata": {},
   "outputs": [
    {
     "name": "stdout",
     "output_type": "stream",
     "text": [
      "{'nb_blocks': 4, 'filters': 64}\n"
     ]
    }
   ],
   "source": [
    "input_file = open(\"model/hyperparameters.pickle\", \"rb\")\n",
    "hyperparams = pickle.load(input_file)\n",
    "input_file.close()\n",
    "print(hyperparams)"
   ]
  },
  {
   "cell_type": "markdown",
   "metadata": {},
   "source": [
    "We create a model with these hyperparameters."
   ]
  },
  {
   "cell_type": "code",
   "execution_count": 3,
   "metadata": {},
   "outputs": [
    {
     "name": "stderr",
     "output_type": "stream",
     "text": [
      "2022-01-13 00:24:48.343136: I tensorflow/stream_executor/cuda/cuda_gpu_executor.cc:939] successful NUMA node read from SysFS had negative value (-1), but there must be at least one NUMA node, so returning NUMA node zero\n",
      "2022-01-13 00:24:48.343344: I tensorflow/stream_executor/cuda/cuda_gpu_executor.cc:939] successful NUMA node read from SysFS had negative value (-1), but there must be at least one NUMA node, so returning NUMA node zero\n",
      "2022-01-13 00:24:48.343482: I tensorflow/stream_executor/cuda/cuda_gpu_executor.cc:939] successful NUMA node read from SysFS had negative value (-1), but there must be at least one NUMA node, so returning NUMA node zero\n",
      "2022-01-13 00:24:48.343766: I tensorflow/stream_executor/cuda/cuda_gpu_executor.cc:939] successful NUMA node read from SysFS had negative value (-1), but there must be at least one NUMA node, so returning NUMA node zero\n",
      "2022-01-13 00:24:48.343921: I tensorflow/stream_executor/cuda/cuda_gpu_executor.cc:939] successful NUMA node read from SysFS had negative value (-1), but there must be at least one NUMA node, so returning NUMA node zero\n",
      "2022-01-13 00:24:48.344052: I tensorflow/stream_executor/cuda/cuda_gpu_executor.cc:939] successful NUMA node read from SysFS had negative value (-1), but there must be at least one NUMA node, so returning NUMA node zero\n",
      "2022-01-13 00:24:48.344221: I tensorflow/stream_executor/cuda/cuda_gpu_executor.cc:939] successful NUMA node read from SysFS had negative value (-1), but there must be at least one NUMA node, so returning NUMA node zero\n",
      "2022-01-13 00:24:48.344357: I tensorflow/stream_executor/cuda/cuda_gpu_executor.cc:939] successful NUMA node read from SysFS had negative value (-1), but there must be at least one NUMA node, so returning NUMA node zero\n",
      "2022-01-13 00:24:48.344488: I tensorflow/core/common_runtime/gpu/gpu_device.cc:1525] Created device /job:localhost/replica:0/task:0/device:GPU:0 with 6131 MB memory:  -> device: 0, name: NVIDIA GeForce RTX 2080, pci bus id: 0000:01:00.0, compute capability: 7.5\n"
     ]
    },
    {
     "name": "stdout",
     "output_type": "stream",
     "text": [
      "Model: \"GAiA\"\n",
      "__________________________________________________________________________________________________\n",
      " Layer (type)                   Output Shape         Param #     Connected to                     \n",
      "==================================================================================================\n",
      " input (InputLayer)             [(None, 8, 8, 15)]   0           []                               \n",
      "                                                                                                  \n",
      " conv2d (Conv2D)                (None, 8, 8, 64)     1024        ['input[0][0]']                  \n",
      "                                                                                                  \n",
      " batch_normalization (BatchNorm  (None, 8, 8, 64)    256         ['conv2d[0][0]']                 \n",
      " alization)                                                                                       \n",
      "                                                                                                  \n",
      " conv2d_1 (Conv2D)              (None, 8, 8, 64)     4160        ['batch_normalization[0][0]']    \n",
      "                                                                                                  \n",
      " batch_normalization_1 (BatchNo  (None, 8, 8, 64)    256         ['conv2d_1[0][0]']               \n",
      " rmalization)                                                                                     \n",
      "                                                                                                  \n",
      " re_lu (ReLU)                   (None, 8, 8, 64)     0           ['batch_normalization_1[0][0]']  \n",
      "                                                                                                  \n",
      " conv2d_2 (Conv2D)              (None, 8, 8, 64)     4160        ['re_lu[0][0]']                  \n",
      "                                                                                                  \n",
      " batch_normalization_2 (BatchNo  (None, 8, 8, 64)    256         ['conv2d_2[0][0]']               \n",
      " rmalization)                                                                                     \n",
      "                                                                                                  \n",
      " global_average_pooling2d (Glob  (None, 64)          0           ['batch_normalization_2[0][0]']  \n",
      " alAveragePooling2D)                                                                              \n",
      "                                                                                                  \n",
      " dense (Dense)                  (None, 4)            260         ['global_average_pooling2d[0][0]'\n",
      "                                                                 ]                                \n",
      "                                                                                                  \n",
      " dense_1 (Dense)                (None, 64)           320         ['dense[0][0]']                  \n",
      "                                                                                                  \n",
      " multiply (Multiply)            (None, 8, 8, 64)     0           ['batch_normalization_2[0][0]',  \n",
      "                                                                  'dense_1[0][0]']                \n",
      "                                                                                                  \n",
      " add (Add)                      (None, 8, 8, 64)     0           ['multiply[0][0]',               \n",
      "                                                                  'batch_normalization[0][0]']    \n",
      "                                                                                                  \n",
      " re_lu_1 (ReLU)                 (None, 8, 8, 64)     0           ['add[0][0]']                    \n",
      "                                                                                                  \n",
      " conv2d_3 (Conv2D)              (None, 8, 8, 64)     4160        ['re_lu_1[0][0]']                \n",
      "                                                                                                  \n",
      " batch_normalization_3 (BatchNo  (None, 8, 8, 64)    256         ['conv2d_3[0][0]']               \n",
      " rmalization)                                                                                     \n",
      "                                                                                                  \n",
      " re_lu_2 (ReLU)                 (None, 8, 8, 64)     0           ['batch_normalization_3[0][0]']  \n",
      "                                                                                                  \n",
      " conv2d_4 (Conv2D)              (None, 8, 8, 64)     4160        ['re_lu_2[0][0]']                \n",
      "                                                                                                  \n",
      " batch_normalization_4 (BatchNo  (None, 8, 8, 64)    256         ['conv2d_4[0][0]']               \n",
      " rmalization)                                                                                     \n",
      "                                                                                                  \n",
      " global_average_pooling2d_1 (Gl  (None, 64)          0           ['batch_normalization_4[0][0]']  \n",
      " obalAveragePooling2D)                                                                            \n",
      "                                                                                                  \n",
      " dense_2 (Dense)                (None, 4)            260         ['global_average_pooling2d_1[0][0\n",
      "                                                                 ]']                              \n",
      "                                                                                                  \n",
      " dense_3 (Dense)                (None, 64)           320         ['dense_2[0][0]']                \n",
      "                                                                                                  \n",
      " multiply_1 (Multiply)          (None, 8, 8, 64)     0           ['batch_normalization_4[0][0]',  \n",
      "                                                                  'dense_3[0][0]']                \n",
      "                                                                                                  \n",
      " add_1 (Add)                    (None, 8, 8, 64)     0           ['multiply_1[0][0]',             \n",
      "                                                                  're_lu_1[0][0]']                \n",
      "                                                                                                  \n",
      " re_lu_3 (ReLU)                 (None, 8, 8, 64)     0           ['add_1[0][0]']                  \n",
      "                                                                                                  \n",
      " conv2d_5 (Conv2D)              (None, 8, 8, 64)     4160        ['re_lu_3[0][0]']                \n",
      "                                                                                                  \n",
      " batch_normalization_5 (BatchNo  (None, 8, 8, 64)    256         ['conv2d_5[0][0]']               \n",
      " rmalization)                                                                                     \n",
      "                                                                                                  \n",
      " re_lu_4 (ReLU)                 (None, 8, 8, 64)     0           ['batch_normalization_5[0][0]']  \n",
      "                                                                                                  \n",
      " conv2d_6 (Conv2D)              (None, 8, 8, 64)     4160        ['re_lu_4[0][0]']                \n",
      "                                                                                                  \n",
      " batch_normalization_6 (BatchNo  (None, 8, 8, 64)    256         ['conv2d_6[0][0]']               \n",
      " rmalization)                                                                                     \n",
      "                                                                                                  \n",
      " global_average_pooling2d_2 (Gl  (None, 64)          0           ['batch_normalization_6[0][0]']  \n",
      " obalAveragePooling2D)                                                                            \n",
      "                                                                                                  \n",
      " dense_4 (Dense)                (None, 4)            260         ['global_average_pooling2d_2[0][0\n",
      "                                                                 ]']                              \n",
      "                                                                                                  \n",
      " dense_5 (Dense)                (None, 64)           320         ['dense_4[0][0]']                \n",
      "                                                                                                  \n",
      " multiply_2 (Multiply)          (None, 8, 8, 64)     0           ['batch_normalization_6[0][0]',  \n",
      "                                                                  'dense_5[0][0]']                \n",
      "                                                                                                  \n",
      " add_2 (Add)                    (None, 8, 8, 64)     0           ['multiply_2[0][0]',             \n",
      "                                                                  're_lu_3[0][0]']                \n",
      "                                                                                                  \n",
      " re_lu_5 (ReLU)                 (None, 8, 8, 64)     0           ['add_2[0][0]']                  \n",
      "                                                                                                  \n",
      " conv2d_7 (Conv2D)              (None, 8, 8, 64)     4160        ['re_lu_5[0][0]']                \n",
      "                                                                                                  \n",
      " batch_normalization_7 (BatchNo  (None, 8, 8, 64)    256         ['conv2d_7[0][0]']               \n",
      " rmalization)                                                                                     \n",
      "                                                                                                  \n",
      " re_lu_6 (ReLU)                 (None, 8, 8, 64)     0           ['batch_normalization_7[0][0]']  \n",
      "                                                                                                  \n",
      " conv2d_8 (Conv2D)              (None, 8, 8, 64)     4160        ['re_lu_6[0][0]']                \n",
      "                                                                                                  \n",
      " batch_normalization_8 (BatchNo  (None, 8, 8, 64)    256         ['conv2d_8[0][0]']               \n",
      " rmalization)                                                                                     \n",
      "                                                                                                  \n",
      " global_average_pooling2d_3 (Gl  (None, 64)          0           ['batch_normalization_8[0][0]']  \n",
      " obalAveragePooling2D)                                                                            \n",
      "                                                                                                  \n",
      " dense_6 (Dense)                (None, 4)            260         ['global_average_pooling2d_3[0][0\n",
      "                                                                 ]']                              \n",
      "                                                                                                  \n",
      " dense_7 (Dense)                (None, 64)           320         ['dense_6[0][0]']                \n",
      "                                                                                                  \n",
      " multiply_3 (Multiply)          (None, 8, 8, 64)     0           ['batch_normalization_8[0][0]',  \n",
      "                                                                  'dense_7[0][0]']                \n",
      "                                                                                                  \n",
      " add_3 (Add)                    (None, 8, 8, 64)     0           ['multiply_3[0][0]',             \n",
      "                                                                  're_lu_5[0][0]']                \n",
      "                                                                                                  \n",
      " re_lu_7 (ReLU)                 (None, 8, 8, 64)     0           ['add_3[0][0]']                  \n",
      "                                                                                                  \n",
      " conv2d_9 (Conv2D)              (None, 8, 8, 64)     4160        ['re_lu_7[0][0]']                \n",
      "                                                                                                  \n",
      " batch_normalization_9 (BatchNo  (None, 8, 8, 64)    256         ['conv2d_9[0][0]']               \n",
      " rmalization)                                                                                     \n",
      "                                                                                                  \n",
      " re_lu_8 (ReLU)                 (None, 8, 8, 64)     0           ['batch_normalization_9[0][0]']  \n",
      "                                                                                                  \n",
      " flatten (Flatten)              (None, 4096)         0           ['re_lu_8[0][0]']                \n",
      "                                                                                                  \n",
      " output (Dense)                 (None, 1)            4097        ['flatten[0][0]']                \n",
      "                                                                                                  \n",
      "==================================================================================================\n",
      "Total params: 47,441\n",
      "Trainable params: 46,161\n",
      "Non-trainable params: 1,280\n",
      "__________________________________________________________________________________________________\n"
     ]
    }
   ],
   "source": [
    "model = None\n",
    "try:\n",
    "  model = tf.keras.models.load_model(\"model/GAiA_Network.h5\", custom_objects={\"coeff_determination\":coeff_determination})\n",
    "except:\n",
    "  model = GAiA_Network(board_shape, hyperparams)\n",
    "  model.compile(loss=\"mean_absolute_error\", optimizer=\"adam\", metrics=[coeff_determination])\n",
    "model.summary()"
   ]
  },
  {
   "cell_type": "markdown",
   "metadata": {},
   "source": [
    "It's time to train! You can take a coffee or two (maybe more)."
   ]
  },
  {
   "cell_type": "code",
   "execution_count": 4,
   "metadata": {},
   "outputs": [
    {
     "name": "stderr",
     "output_type": "stream",
     "text": [
      "2022-01-13 00:25:41.109851: W tensorflow/core/framework/cpu_allocator_impl.cc:82] Allocation of 3429546240 exceeds 10% of free system memory.\n",
      "2022-01-13 00:25:43.145437: W tensorflow/core/framework/cpu_allocator_impl.cc:82] Allocation of 3429546240 exceeds 10% of free system memory.\n"
     ]
    },
    {
     "name": "stdout",
     "output_type": "stream",
     "text": [
      "Epoch 1/50\n"
     ]
    },
    {
     "name": "stderr",
     "output_type": "stream",
     "text": [
      "2022-01-13 00:25:46.444562: I tensorflow/stream_executor/cuda/cuda_dnn.cc:366] Loaded cuDNN version 8301\n"
     ]
    },
    {
     "name": "stdout",
     "output_type": "stream",
     "text": [
      "873/873 [==============================] - 24s 24ms/step - loss: 140.5919 - coeff_determination: 0.9236 - val_loss: 220.5936 - val_coeff_determination: 0.8094\n",
      "Epoch 2/50\n",
      "873/873 [==============================] - 20s 23ms/step - loss: 138.8758 - coeff_determination: 0.9264 - val_loss: 286.7426 - val_coeff_determination: 0.7338\n",
      "Epoch 3/50\n",
      "873/873 [==============================] - 20s 23ms/step - loss: 138.1771 - coeff_determination: 0.9278 - val_loss: 178.9034 - val_coeff_determination: 0.8579\n",
      "Epoch 4/50\n",
      "873/873 [==============================] - 20s 23ms/step - loss: 137.5636 - coeff_determination: 0.9280 - val_loss: 156.6319 - val_coeff_determination: 0.8767\n",
      "Epoch 5/50\n",
      "873/873 [==============================] - 20s 23ms/step - loss: 137.4336 - coeff_determination: 0.9280 - val_loss: 167.8550 - val_coeff_determination: 0.8683\n",
      "Epoch 6/50\n",
      "873/873 [==============================] - 20s 23ms/step - loss: 136.6324 - coeff_determination: 0.9292 - val_loss: 175.4802 - val_coeff_determination: 0.8638\n",
      "Epoch 7/50\n",
      "873/873 [==============================] - 19s 22ms/step - loss: 136.4548 - coeff_determination: 0.9288 - val_loss: 171.0992 - val_coeff_determination: 0.8665\n",
      "Epoch 8/50\n",
      "873/873 [==============================] - 19s 22ms/step - loss: 136.0435 - coeff_determination: 0.9291 - val_loss: 168.7495 - val_coeff_determination: 0.8568\n",
      "Epoch 9/50\n",
      "873/873 [==============================] - 19s 22ms/step - loss: 135.9811 - coeff_determination: 0.9293 - val_loss: 181.5533 - val_coeff_determination: 0.8549\n",
      "Epoch 10/50\n",
      "873/873 [==============================] - 19s 22ms/step - loss: 135.6898 - coeff_determination: 0.9292 - val_loss: 154.5233 - val_coeff_determination: 0.8770\n",
      "Epoch 11/50\n",
      "873/873 [==============================] - 19s 22ms/step - loss: 135.3213 - coeff_determination: 0.9300 - val_loss: 194.9495 - val_coeff_determination: 0.8317\n",
      "Epoch 12/50\n",
      "873/873 [==============================] - 19s 22ms/step - loss: 135.1871 - coeff_determination: 0.9300 - val_loss: 167.6570 - val_coeff_determination: 0.8708\n",
      "Epoch 13/50\n",
      "873/873 [==============================] - 19s 22ms/step - loss: 134.9608 - coeff_determination: 0.9299 - val_loss: 147.3577 - val_coeff_determination: 0.8867\n",
      "Epoch 14/50\n",
      "873/873 [==============================] - 19s 22ms/step - loss: 134.6933 - coeff_determination: 0.9299 - val_loss: 184.4545 - val_coeff_determination: 0.8537\n",
      "Epoch 15/50\n",
      "873/873 [==============================] - 19s 22ms/step - loss: 134.7389 - coeff_determination: 0.9299 - val_loss: 188.5604 - val_coeff_determination: 0.8462\n",
      "Epoch 16/50\n",
      "873/873 [==============================] - 19s 22ms/step - loss: 134.1496 - coeff_determination: 0.9300 - val_loss: 223.5625 - val_coeff_determination: 0.7864\n",
      "Epoch 17/50\n",
      "873/873 [==============================] - 20s 23ms/step - loss: 134.6611 - coeff_determination: 0.9295 - val_loss: 190.6311 - val_coeff_determination: 0.8473\n",
      "Epoch 18/50\n",
      "873/873 [==============================] - 19s 22ms/step - loss: 134.0223 - coeff_determination: 0.9304 - val_loss: 193.3177 - val_coeff_determination: 0.8448\n",
      "Epoch 19/50\n",
      "873/873 [==============================] - 19s 22ms/step - loss: 133.8012 - coeff_determination: 0.9306 - val_loss: 176.4124 - val_coeff_determination: 0.8596\n",
      "Epoch 20/50\n",
      "873/873 [==============================] - 19s 22ms/step - loss: 133.8021 - coeff_determination: 0.9306 - val_loss: 164.1339 - val_coeff_determination: 0.8725\n",
      "Epoch 21/50\n",
      "873/873 [==============================] - 19s 22ms/step - loss: 133.5020 - coeff_determination: 0.9306 - val_loss: 147.9633 - val_coeff_determination: 0.8850\n",
      "Epoch 22/50\n",
      "873/873 [==============================] - 19s 22ms/step - loss: 133.5453 - coeff_determination: 0.9303 - val_loss: 153.5224 - val_coeff_determination: 0.8793\n",
      "Epoch 23/50\n",
      "873/873 [==============================] - 19s 22ms/step - loss: 133.1892 - coeff_determination: 0.9309 - val_loss: 164.4425 - val_coeff_determination: 0.8716\n",
      "Epoch 24/50\n",
      "873/873 [==============================] - 19s 22ms/step - loss: 133.1429 - coeff_determination: 0.9310 - val_loss: 150.1988 - val_coeff_determination: 0.8833\n",
      "Epoch 25/50\n",
      "873/873 [==============================] - 19s 22ms/step - loss: 132.8686 - coeff_determination: 0.9308 - val_loss: 148.7409 - val_coeff_determination: 0.8831\n",
      "Epoch 26/50\n",
      "873/873 [==============================] - 19s 22ms/step - loss: 132.9064 - coeff_determination: 0.9309 - val_loss: 161.3696 - val_coeff_determination: 0.8746\n",
      "Epoch 27/50\n",
      "873/873 [==============================] - 19s 22ms/step - loss: 132.6238 - coeff_determination: 0.9310 - val_loss: 188.3145 - val_coeff_determination: 0.8482\n",
      "Epoch 28/50\n",
      "873/873 [==============================] - 19s 22ms/step - loss: 132.5073 - coeff_determination: 0.9313 - val_loss: 180.9220 - val_coeff_determination: 0.8499\n",
      "Epoch 29/50\n",
      "873/873 [==============================] - 19s 22ms/step - loss: 132.7624 - coeff_determination: 0.9313 - val_loss: 187.1454 - val_coeff_determination: 0.8462\n",
      "Epoch 30/50\n",
      "873/873 [==============================] - 19s 22ms/step - loss: 132.4751 - coeff_determination: 0.9310 - val_loss: 160.9751 - val_coeff_determination: 0.8760\n",
      "Epoch 31/50\n",
      "873/873 [==============================] - 19s 22ms/step - loss: 132.3049 - coeff_determination: 0.9314 - val_loss: 219.8829 - val_coeff_determination: 0.8150\n",
      "Epoch 32/50\n",
      "873/873 [==============================] - 19s 22ms/step - loss: 132.1060 - coeff_determination: 0.9313 - val_loss: 173.0320 - val_coeff_determination: 0.8621\n",
      "Epoch 33/50\n",
      "873/873 [==============================] - 19s 22ms/step - loss: 132.0988 - coeff_determination: 0.9317 - val_loss: 162.0604 - val_coeff_determination: 0.8749\n",
      "Epoch 34/50\n",
      "873/873 [==============================] - 19s 22ms/step - loss: 132.0709 - coeff_determination: 0.9311 - val_loss: 150.6814 - val_coeff_determination: 0.8830\n",
      "Epoch 35/50\n",
      "873/873 [==============================] - 19s 22ms/step - loss: 131.8186 - coeff_determination: 0.9317 - val_loss: 143.4229 - val_coeff_determination: 0.8882\n",
      "Epoch 36/50\n",
      "873/873 [==============================] - 19s 22ms/step - loss: 131.8792 - coeff_determination: 0.9315 - val_loss: 159.1938 - val_coeff_determination: 0.8754\n",
      "Epoch 37/50\n",
      "873/873 [==============================] - 19s 22ms/step - loss: 131.6143 - coeff_determination: 0.9317 - val_loss: 175.2314 - val_coeff_determination: 0.8610\n",
      "Epoch 38/50\n",
      "873/873 [==============================] - 20s 22ms/step - loss: 131.6105 - coeff_determination: 0.9318 - val_loss: 143.8626 - val_coeff_determination: 0.8880\n",
      "Epoch 39/50\n",
      "873/873 [==============================] - 19s 22ms/step - loss: 131.5339 - coeff_determination: 0.9315 - val_loss: 142.7886 - val_coeff_determination: 0.8874\n",
      "Epoch 40/50\n",
      "873/873 [==============================] - 19s 22ms/step - loss: 131.4403 - coeff_determination: 0.9318 - val_loss: 144.7631 - val_coeff_determination: 0.8861\n",
      "Epoch 41/50\n",
      "873/873 [==============================] - 19s 22ms/step - loss: 131.2626 - coeff_determination: 0.9319 - val_loss: 143.2779 - val_coeff_determination: 0.8892\n",
      "Epoch 42/50\n",
      "873/873 [==============================] - 19s 22ms/step - loss: 131.3504 - coeff_determination: 0.9317 - val_loss: 165.1206 - val_coeff_determination: 0.8721\n",
      "Epoch 43/50\n",
      "873/873 [==============================] - 20s 23ms/step - loss: 131.0978 - coeff_determination: 0.9317 - val_loss: 195.0779 - val_coeff_determination: 0.8334\n",
      "Epoch 44/50\n",
      "873/873 [==============================] - 19s 22ms/step - loss: 131.0571 - coeff_determination: 0.9318 - val_loss: 147.8408 - val_coeff_determination: 0.8826\n",
      "Epoch 45/50\n",
      "873/873 [==============================] - 20s 23ms/step - loss: 130.9888 - coeff_determination: 0.9320 - val_loss: 153.5992 - val_coeff_determination: 0.8801\n",
      "Epoch 46/50\n",
      "873/873 [==============================] - 20s 23ms/step - loss: 130.8388 - coeff_determination: 0.9319 - val_loss: 225.7694 - val_coeff_determination: 0.8130\n",
      "Epoch 47/50\n",
      "873/873 [==============================] - 19s 22ms/step - loss: 130.7813 - coeff_determination: 0.9323 - val_loss: 180.6114 - val_coeff_determination: 0.8532\n",
      "Epoch 48/50\n",
      "873/873 [==============================] - 20s 23ms/step - loss: 130.6724 - coeff_determination: 0.9320 - val_loss: 148.3142 - val_coeff_determination: 0.8861\n",
      "Epoch 49/50\n",
      "873/873 [==============================] - 20s 23ms/step - loss: 130.5453 - coeff_determination: 0.9320 - val_loss: 184.3949 - val_coeff_determination: 0.8461\n",
      "Epoch 50/50\n",
      "873/873 [==============================] - 20s 23ms/step - loss: 130.4907 - coeff_determination: 0.9321 - val_loss: 144.8049 - val_coeff_determination: 0.8871\n"
     ]
    },
    {
     "name": "stderr",
     "output_type": "stream",
     "text": [
      "2022-01-13 00:41:58.392787: W tensorflow/python/util/util.cc:368] Sets are not currently considered sequences, but this may change in the future, so consider avoiding using them.\n"
     ]
    },
    {
     "name": "stdout",
     "output_type": "stream",
     "text": [
      "INFO:tensorflow:Assets written to: ram://57af332f-b746-4c4e-ac6e-ea3b9fcbb2f6/assets\n"
     ]
    },
    {
     "name": "stderr",
     "output_type": "stream",
     "text": [
      "/home/gaetan/.local/lib/python3.9/site-packages/keras/engine/functional.py:1410: CustomMaskWarning: Custom mask layers require a config and must override get_config. When loading, the custom mask layer must be passed to the custom_objects argument.\n",
      "  layer_config = serialize_layer_fn(layer)\n",
      "/home/gaetan/.local/lib/python3.9/site-packages/keras/saving/saved_model/layer_serialization.py:112: CustomMaskWarning: Custom mask layers require a config and must override get_config. When loading, the custom mask layer must be passed to the custom_objects argument.\n",
      "  return generic_utils.serialize_keras_object(obj)\n"
     ]
    }
   ],
   "source": [
    "directory = \"/media/gaetan/HDD/IA/Chess/Datasets/SE_ResNet/\"\n",
    "nb_epochs = 50\n",
    "nb_pos = 992346\n",
    "\n",
    "positions_train, scores_train = read_many_hdf5(nb_pos, directory, \"_train\")\n",
    "history = model.fit(\n",
    "            positions_train,\n",
    "            scores_train,\n",
    "            validation_split=0.1,\n",
    "            verbose=1,\n",
    "            epochs=nb_epochs,\n",
    "            batch_size=1024\n",
    "          )\n",
    "\n",
    "output_file = open(f\"model/histories/history_{nb_pos}.pickle\", \"wb\")\n",
    "pickle.dump(history, output_file)\n",
    "output_file.close()"
   ]
  },
  {
   "cell_type": "markdown",
   "metadata": {},
   "source": [
    "We save the model."
   ]
  },
  {
   "cell_type": "code",
   "execution_count": 5,
   "metadata": {},
   "outputs": [],
   "source": [
    "model.save(\"model/GAiA_Network.h5\")"
   ]
  },
  {
   "cell_type": "markdown",
   "metadata": {},
   "source": [
    "We convert the model to onnx format so that the engine can use it."
   ]
  },
  {
   "cell_type": "code",
   "execution_count": 6,
   "metadata": {},
   "outputs": [
    {
     "name": "stdout",
     "output_type": "stream",
     "text": [
      "INFO:tensorflow:Assets written to: model/GAiA_Network/assets\n",
      "/usr/lib/python3.9/runpy.py:127: RuntimeWarning: 'tf2onnx.convert' found in sys.modules after import of package 'tf2onnx', but prior to execution of 'tf2onnx.convert'; this may result in unpredictable behaviour\n",
      "  warn(RuntimeWarning(msg))\n",
      "2022-01-13 00:42:08,996 - WARNING - '--tag' not specified for saved_model. Using --tag serve\n",
      "2022-01-13 00:42:10,381 - INFO - Signatures found in model: [serving_default].\n",
      "2022-01-13 00:42:10,381 - WARNING - '--signature_def' not specified, using first signature: serving_default\n",
      "2022-01-13 00:42:10,381 - INFO - Output names: ['output']\n",
      "WARNING:tensorflow:From /home/gaetan/.local/lib/python3.9/site-packages/tf2onnx/tf_loader.py:706: extract_sub_graph (from tensorflow.python.framework.graph_util_impl) is deprecated and will be removed in a future version.\n",
      "Instructions for updating:\n",
      "Use `tf.compat.v1.graph_util.extract_sub_graph`\n",
      "2022-01-13 00:42:10,679 - WARNING - From /home/gaetan/.local/lib/python3.9/site-packages/tf2onnx/tf_loader.py:706: extract_sub_graph (from tensorflow.python.framework.graph_util_impl) is deprecated and will be removed in a future version.\n",
      "Instructions for updating:\n",
      "Use `tf.compat.v1.graph_util.extract_sub_graph`\n",
      "2022-01-13 00:42:10,777 - INFO - Using tensorflow=2.7.0, onnx=1.10.2, tf2onnx=1.9.3/1190aa\n",
      "2022-01-13 00:42:10,777 - INFO - Using opset <onnx, 9>\n",
      "2022-01-13 00:42:10,840 - INFO - Computed 0 values for constant folding\n",
      "2022-01-13 00:42:11,127 - INFO - Optimizing ONNX model\n",
      "2022-01-13 00:42:11,455 - INFO - After optimization: BatchNormalization -9 (10->1), Cast -1 (1->0), Const -48 (91->43), GlobalAveragePool +4 (0->4), Identity -5 (5->0), ReduceMean -4 (4->0), Squeeze +4 (0->4), Transpose -30 (40->10)\n",
      "2022-01-13 00:42:11,459 - INFO - \n",
      "2022-01-13 00:42:11,459 - INFO - Successfully converted TensorFlow model model/GAiA_Network to ONNX\n",
      "2022-01-13 00:42:11,459 - INFO - Model inputs: ['input']\n",
      "2022-01-13 00:42:11,459 - INFO - Model outputs: ['output']\n",
      "2022-01-13 00:42:11,459 - INFO - ONNX model is saved at ../Engine/build/network.onnx\n"
     ]
    }
   ],
   "source": [
    "tf.saved_model.save(model, \"model/GAiA_Network\")\n",
    "!python3.9 -m tf2onnx.convert --saved-model model/GAiA_Network --output ../Engine/build/network.onnx"
   ]
  },
  {
   "cell_type": "code",
   "execution_count": 7,
   "metadata": {},
   "outputs": [],
   "source": [
    "def plot_history(history, path=None):\n",
    "  epochs = range(1, nb_epochs + 1)\n",
    "\n",
    "  _, axs = plt.subplots(1, 2, figsize=(20, 5))\n",
    "  loss = history.history[\"loss\"]\n",
    "  score = history.history[\"coeff_determination\"]\n",
    "\n",
    "  axs[0].plot(epochs, loss, \"r-.\")\n",
    "  axs[0].set_xlabel(\"Epoch\")\n",
    "  axs[0].set_ylabel(\"Mean Absolute Error\")\n",
    "  axs[0].set_title(\"Training loss\")\n",
    "\n",
    "  axs[1].plot(epochs, score, \"g-.\")\n",
    "  axs[1].set_xlabel(\"Epoch\")\n",
    "  axs[1].set_ylabel(\"$R^2$\")\n",
    "  axs[1].set_title(\"Training score\")\n",
    "  \n",
    "  if path:\n",
    "    plt.savefig(path)"
   ]
  },
  {
   "cell_type": "markdown",
   "metadata": {},
   "source": [
    "We plot the loss and accuracy of each epoch."
   ]
  },
  {
   "cell_type": "code",
   "execution_count": 8,
   "metadata": {},
   "outputs": [
    {
     "data": {
      "image/png": "[encoded data removed]",
      "text/plain": [
       "<Figure size 1440x360 with 2 Axes>"
      ]
     },
     "metadata": {
      "needs_background": "light"
     },
     "output_type": "display_data"
    }
   ],
   "source": [
    "plot_history(history, path=\"results/GAiA_history\")"
   ]
  },
  {
   "cell_type": "code",
   "execution_count": null,
   "metadata": {},
   "outputs": [],
   "source": []
  }
 ],
 "metadata": {
  "interpreter": {
   "hash": "0f75f4719866b1a07819bd6ea6d9d48c1f255c430bb3a8b091292950e4ac54e9"
  },
  "kernelspec": {
   "display_name": "Python 3.9.7 64-bit (system)",
   "language": "python",
   "name": "python3"
  },
  "language_info": {
   "codemirror_mode": {
    "name": "ipython",
    "version": 3
   },
   "file_extension": ".py",
   "mimetype": "text/x-python",
   "name": "python",
   "nbconvert_exporter": "python",
   "pygments_lexer": "ipython3",
   "version": "3.9.9"
  },
  "orig_nbformat": 4
 },
 "nbformat": 4,
 "nbformat_minor": 2
}
