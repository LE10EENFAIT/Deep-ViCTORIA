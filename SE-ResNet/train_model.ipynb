{
 "cells": [
  {
   "cell_type": "markdown",
   "metadata": {},
   "source": [
    "## Training of GAiA's neural network"
   ]
  },
  {
   "cell_type": "code",
   "execution_count": 1,
   "metadata": {},
   "outputs": [
    {
     "name": "stdout",
     "output_type": "stream",
     "text": [
      "Default GPU Device: /device:GPU:0\n"
     ]
    },
    {
     "name": "stderr",
     "output_type": "stream",
     "text": [
      "2022-01-12 03:01:11.368355: I tensorflow/core/platform/cpu_feature_guard.cc:151] This TensorFlow binary is optimized with oneAPI Deep Neural Network Library (oneDNN) to use the following CPU instructions in performance-critical operations:  AVX2 FMA\n",
      "To enable them in other operations, rebuild TensorFlow with the appropriate compiler flags.\n",
      "2022-01-12 03:01:11.389951: I tensorflow/stream_executor/cuda/cuda_gpu_executor.cc:939] successful NUMA node read from SysFS had negative value (-1), but there must be at least one NUMA node, so returning NUMA node zero\n",
      "2022-01-12 03:01:11.418224: I tensorflow/stream_executor/cuda/cuda_gpu_executor.cc:939] successful NUMA node read from SysFS had negative value (-1), but there must be at least one NUMA node, so returning NUMA node zero\n",
      "2022-01-12 03:01:11.418403: I tensorflow/stream_executor/cuda/cuda_gpu_executor.cc:939] successful NUMA node read from SysFS had negative value (-1), but there must be at least one NUMA node, so returning NUMA node zero\n",
      "2022-01-12 03:01:11.837488: I tensorflow/stream_executor/cuda/cuda_gpu_executor.cc:939] successful NUMA node read from SysFS had negative value (-1), but there must be at least one NUMA node, so returning NUMA node zero\n",
      "2022-01-12 03:01:11.837672: I tensorflow/stream_executor/cuda/cuda_gpu_executor.cc:939] successful NUMA node read from SysFS had negative value (-1), but there must be at least one NUMA node, so returning NUMA node zero\n",
      "2022-01-12 03:01:11.837809: I tensorflow/stream_executor/cuda/cuda_gpu_executor.cc:939] successful NUMA node read from SysFS had negative value (-1), but there must be at least one NUMA node, so returning NUMA node zero\n",
      "2022-01-12 03:01:11.837931: I tensorflow/core/common_runtime/gpu/gpu_device.cc:1525] Created device /device:GPU:0 with 6093 MB memory:  -> device: 0, name: NVIDIA GeForce RTX 2080, pci bus id: 0000:01:00.0, compute capability: 7.5\n",
      "2022-01-12 03:01:11.838486: I tensorflow/stream_executor/cuda/cuda_gpu_executor.cc:939] successful NUMA node read from SysFS had negative value (-1), but there must be at least one NUMA node, so returning NUMA node zero\n",
      "2022-01-12 03:01:11.838624: I tensorflow/stream_executor/cuda/cuda_gpu_executor.cc:939] successful NUMA node read from SysFS had negative value (-1), but there must be at least one NUMA node, so returning NUMA node zero\n",
      "2022-01-12 03:01:11.838749: I tensorflow/stream_executor/cuda/cuda_gpu_executor.cc:939] successful NUMA node read from SysFS had negative value (-1), but there must be at least one NUMA node, so returning NUMA node zero\n",
      "2022-01-12 03:01:11.838897: I tensorflow/stream_executor/cuda/cuda_gpu_executor.cc:939] successful NUMA node read from SysFS had negative value (-1), but there must be at least one NUMA node, so returning NUMA node zero\n",
      "2022-01-12 03:01:11.839025: I tensorflow/stream_executor/cuda/cuda_gpu_executor.cc:939] successful NUMA node read from SysFS had negative value (-1), but there must be at least one NUMA node, so returning NUMA node zero\n",
      "2022-01-12 03:01:11.839123: I tensorflow/core/common_runtime/gpu/gpu_device.cc:1525] Created device /device:GPU:0 with 6093 MB memory:  -> device: 0, name: NVIDIA GeForce RTX 2080, pci bus id: 0000:01:00.0, compute capability: 7.5\n"
     ]
    }
   ],
   "source": [
    "from model.GAiA_network import GAiA_Network, coeff_determination\n",
    "from lib.dataset_utils import read_many_hdf5, board_shape\n",
    "\n",
    "import pickle\n",
    "import tensorflow as tf\n",
    "import matplotlib.pyplot as plt\n",
    "\n",
    "import platform\n",
    "if platform.system() == \"Darwin\":\n",
    "    %config InlineBackend.figure_format=\"retina\"  # For high DPI display\n",
    "\n",
    "if tf.test.gpu_device_name(): \n",
    "  print(f\"Default GPU Device: {tf.test.gpu_device_name()}\")"
   ]
  },
  {
   "cell_type": "markdown",
   "metadata": {},
   "source": [
    "We load our training dataset."
   ]
  },
  {
   "cell_type": "code",
   "execution_count": 2,
   "metadata": {},
   "outputs": [],
   "source": [
    "directory = \"/media/gaetan/HDD/IA/Chess/Datasets/SE_ResNet/\"\n",
    "positions_train, scores_train = read_many_hdf5(1389333, directory, \"_train\")\n",
    "positions_valid, scores_valid = read_many_hdf5(19849, directory, \"_validation\")"
   ]
  },
  {
   "cell_type": "markdown",
   "metadata": {},
   "source": [
    "We retrieve the model's optimal hyperparameters from the `choose_hyperparameters` notebook."
   ]
  },
  {
   "cell_type": "code",
   "execution_count": 3,
   "metadata": {},
   "outputs": [
    {
     "name": "stdout",
     "output_type": "stream",
     "text": [
      "{'nb_blocks': 4, 'filters': 64}\n"
     ]
    }
   ],
   "source": [
    "input_file = open(\"model/hyperparameters.pickle\", \"rb\")\n",
    "hyperparams = pickle.load(input_file)\n",
    "input_file.close()\n",
    "print(hyperparams)"
   ]
  },
  {
   "cell_type": "markdown",
   "metadata": {},
   "source": [
    "We create a model with these hyperparameters."
   ]
  },
  {
   "cell_type": "code",
   "execution_count": 4,
   "metadata": {},
   "outputs": [
    {
     "name": "stdout",
     "output_type": "stream",
     "text": [
      "Model: \"GAiA\"\n",
      "__________________________________________________________________________________________________\n",
      " Layer (type)                   Output Shape         Param #     Connected to                     \n",
      "==================================================================================================\n",
      " input (InputLayer)             [(None, 8, 8, 15)]   0           []                               \n",
      "                                                                                                  \n",
      " conv2d (Conv2D)                (None, 8, 8, 64)     1024        ['input[0][0]']                  \n",
      "                                                                                                  \n",
      " batch_normalization (BatchNorm  (None, 8, 8, 64)    256         ['conv2d[0][0]']                 \n",
      " alization)                                                                                       \n",
      "                                                                                                  \n",
      " conv2d_1 (Conv2D)              (None, 8, 8, 64)     4160        ['batch_normalization[0][0]']    \n",
      "                                                                                                  \n",
      " batch_normalization_1 (BatchNo  (None, 8, 8, 64)    256         ['conv2d_1[0][0]']               \n",
      " rmalization)                                                                                     \n",
      "                                                                                                  \n",
      " re_lu (ReLU)                   (None, 8, 8, 64)     0           ['batch_normalization_1[0][0]']  \n",
      "                                                                                                  \n",
      " conv2d_2 (Conv2D)              (None, 8, 8, 64)     4160        ['re_lu[0][0]']                  \n",
      "                                                                                                  \n",
      " batch_normalization_2 (BatchNo  (None, 8, 8, 64)    256         ['conv2d_2[0][0]']               \n",
      " rmalization)                                                                                     \n",
      "                                                                                                  \n",
      " global_average_pooling2d (Glob  (None, 64)          0           ['batch_normalization_2[0][0]']  \n",
      " alAveragePooling2D)                                                                              \n",
      "                                                                                                  \n",
      " dense (Dense)                  (None, 4)            260         ['global_average_pooling2d[0][0]'\n",
      "                                                                 ]                                \n",
      "                                                                                                  \n",
      " dense_1 (Dense)                (None, 64)           320         ['dense[0][0]']                  \n",
      "                                                                                                  \n",
      " multiply (Multiply)            (None, 8, 8, 64)     0           ['batch_normalization_2[0][0]',  \n",
      "                                                                  'dense_1[0][0]']                \n",
      "                                                                                                  \n",
      " add (Add)                      (None, 8, 8, 64)     0           ['multiply[0][0]',               \n",
      "                                                                  'batch_normalization[0][0]']    \n",
      "                                                                                                  \n",
      " re_lu_1 (ReLU)                 (None, 8, 8, 64)     0           ['add[0][0]']                    \n",
      "                                                                                                  \n",
      " conv2d_3 (Conv2D)              (None, 8, 8, 64)     4160        ['re_lu_1[0][0]']                \n",
      "                                                                                                  \n",
      " batch_normalization_3 (BatchNo  (None, 8, 8, 64)    256         ['conv2d_3[0][0]']               \n",
      " rmalization)                                                                                     \n",
      "                                                                                                  \n",
      " re_lu_2 (ReLU)                 (None, 8, 8, 64)     0           ['batch_normalization_3[0][0]']  \n",
      "                                                                                                  \n",
      " conv2d_4 (Conv2D)              (None, 8, 8, 64)     4160        ['re_lu_2[0][0]']                \n",
      "                                                                                                  \n",
      " batch_normalization_4 (BatchNo  (None, 8, 8, 64)    256         ['conv2d_4[0][0]']               \n",
      " rmalization)                                                                                     \n",
      "                                                                                                  \n",
      " global_average_pooling2d_1 (Gl  (None, 64)          0           ['batch_normalization_4[0][0]']  \n",
      " obalAveragePooling2D)                                                                            \n",
      "                                                                                                  \n",
      " dense_2 (Dense)                (None, 4)            260         ['global_average_pooling2d_1[0][0\n",
      "                                                                 ]']                              \n",
      "                                                                                                  \n",
      " dense_3 (Dense)                (None, 64)           320         ['dense_2[0][0]']                \n",
      "                                                                                                  \n",
      " multiply_1 (Multiply)          (None, 8, 8, 64)     0           ['batch_normalization_4[0][0]',  \n",
      "                                                                  'dense_3[0][0]']                \n",
      "                                                                                                  \n",
      " add_1 (Add)                    (None, 8, 8, 64)     0           ['multiply_1[0][0]',             \n",
      "                                                                  're_lu_1[0][0]']                \n",
      "                                                                                                  \n",
      " re_lu_3 (ReLU)                 (None, 8, 8, 64)     0           ['add_1[0][0]']                  \n",
      "                                                                                                  \n",
      " conv2d_5 (Conv2D)              (None, 8, 8, 64)     4160        ['re_lu_3[0][0]']                \n",
      "                                                                                                  \n",
      " batch_normalization_5 (BatchNo  (None, 8, 8, 64)    256         ['conv2d_5[0][0]']               \n",
      " rmalization)                                                                                     \n",
      "                                                                                                  \n",
      " re_lu_4 (ReLU)                 (None, 8, 8, 64)     0           ['batch_normalization_5[0][0]']  \n",
      "                                                                                                  \n",
      " conv2d_6 (Conv2D)              (None, 8, 8, 64)     4160        ['re_lu_4[0][0]']                \n",
      "                                                                                                  \n",
      " batch_normalization_6 (BatchNo  (None, 8, 8, 64)    256         ['conv2d_6[0][0]']               \n",
      " rmalization)                                                                                     \n",
      "                                                                                                  \n",
      " global_average_pooling2d_2 (Gl  (None, 64)          0           ['batch_normalization_6[0][0]']  \n",
      " obalAveragePooling2D)                                                                            \n",
      "                                                                                                  \n",
      " dense_4 (Dense)                (None, 4)            260         ['global_average_pooling2d_2[0][0\n",
      "                                                                 ]']                              \n",
      "                                                                                                  \n",
      " dense_5 (Dense)                (None, 64)           320         ['dense_4[0][0]']                \n",
      "                                                                                                  \n",
      " multiply_2 (Multiply)          (None, 8, 8, 64)     0           ['batch_normalization_6[0][0]',  \n",
      "                                                                  'dense_5[0][0]']                \n",
      "                                                                                                  \n",
      " add_2 (Add)                    (None, 8, 8, 64)     0           ['multiply_2[0][0]',             \n",
      "                                                                  're_lu_3[0][0]']                \n",
      "                                                                                                  \n",
      " re_lu_5 (ReLU)                 (None, 8, 8, 64)     0           ['add_2[0][0]']                  \n",
      "                                                                                                  \n",
      " conv2d_7 (Conv2D)              (None, 8, 8, 64)     4160        ['re_lu_5[0][0]']                \n",
      "                                                                                                  \n",
      " batch_normalization_7 (BatchNo  (None, 8, 8, 64)    256         ['conv2d_7[0][0]']               \n",
      " rmalization)                                                                                     \n",
      "                                                                                                  \n",
      " re_lu_6 (ReLU)                 (None, 8, 8, 64)     0           ['batch_normalization_7[0][0]']  \n",
      "                                                                                                  \n",
      " conv2d_8 (Conv2D)              (None, 8, 8, 64)     4160        ['re_lu_6[0][0]']                \n",
      "                                                                                                  \n",
      " batch_normalization_8 (BatchNo  (None, 8, 8, 64)    256         ['conv2d_8[0][0]']               \n",
      " rmalization)                                                                                     \n",
      "                                                                                                  \n",
      " global_average_pooling2d_3 (Gl  (None, 64)          0           ['batch_normalization_8[0][0]']  \n",
      " obalAveragePooling2D)                                                                            \n",
      "                                                                                                  \n",
      " dense_6 (Dense)                (None, 4)            260         ['global_average_pooling2d_3[0][0\n",
      "                                                                 ]']                              \n",
      "                                                                                                  \n",
      " dense_7 (Dense)                (None, 64)           320         ['dense_6[0][0]']                \n",
      "                                                                                                  \n",
      " multiply_3 (Multiply)          (None, 8, 8, 64)     0           ['batch_normalization_8[0][0]',  \n",
      "                                                                  'dense_7[0][0]']                \n",
      "                                                                                                  \n",
      " add_3 (Add)                    (None, 8, 8, 64)     0           ['multiply_3[0][0]',             \n",
      "                                                                  're_lu_5[0][0]']                \n",
      "                                                                                                  \n",
      " re_lu_7 (ReLU)                 (None, 8, 8, 64)     0           ['add_3[0][0]']                  \n",
      "                                                                                                  \n",
      " conv2d_9 (Conv2D)              (None, 8, 8, 64)     4160        ['re_lu_7[0][0]']                \n",
      "                                                                                                  \n",
      " batch_normalization_9 (BatchNo  (None, 8, 8, 64)    256         ['conv2d_9[0][0]']               \n",
      " rmalization)                                                                                     \n",
      "                                                                                                  \n",
      " re_lu_8 (ReLU)                 (None, 8, 8, 64)     0           ['batch_normalization_9[0][0]']  \n",
      "                                                                                                  \n",
      " flatten (Flatten)              (None, 4096)         0           ['re_lu_8[0][0]']                \n",
      "                                                                                                  \n",
      " output (Dense)                 (None, 1)            4097        ['flatten[0][0]']                \n",
      "                                                                                                  \n",
      "==================================================================================================\n",
      "Total params: 47,441\n",
      "Trainable params: 46,161\n",
      "Non-trainable params: 1,280\n",
      "__________________________________________________________________________________________________\n"
     ]
    },
    {
     "name": "stderr",
     "output_type": "stream",
     "text": [
      "2022-01-12 03:01:13.874892: I tensorflow/stream_executor/cuda/cuda_gpu_executor.cc:939] successful NUMA node read from SysFS had negative value (-1), but there must be at least one NUMA node, so returning NUMA node zero\n",
      "2022-01-12 03:01:13.875157: I tensorflow/stream_executor/cuda/cuda_gpu_executor.cc:939] successful NUMA node read from SysFS had negative value (-1), but there must be at least one NUMA node, so returning NUMA node zero\n",
      "2022-01-12 03:01:13.875335: I tensorflow/stream_executor/cuda/cuda_gpu_executor.cc:939] successful NUMA node read from SysFS had negative value (-1), but there must be at least one NUMA node, so returning NUMA node zero\n",
      "2022-01-12 03:01:13.875728: I tensorflow/stream_executor/cuda/cuda_gpu_executor.cc:939] successful NUMA node read from SysFS had negative value (-1), but there must be at least one NUMA node, so returning NUMA node zero\n",
      "2022-01-12 03:01:13.875933: I tensorflow/stream_executor/cuda/cuda_gpu_executor.cc:939] successful NUMA node read from SysFS had negative value (-1), but there must be at least one NUMA node, so returning NUMA node zero\n",
      "2022-01-12 03:01:13.876133: I tensorflow/stream_executor/cuda/cuda_gpu_executor.cc:939] successful NUMA node read from SysFS had negative value (-1), but there must be at least one NUMA node, so returning NUMA node zero\n",
      "2022-01-12 03:01:13.876360: I tensorflow/stream_executor/cuda/cuda_gpu_executor.cc:939] successful NUMA node read from SysFS had negative value (-1), but there must be at least one NUMA node, so returning NUMA node zero\n",
      "2022-01-12 03:01:13.876544: I tensorflow/stream_executor/cuda/cuda_gpu_executor.cc:939] successful NUMA node read from SysFS had negative value (-1), but there must be at least one NUMA node, so returning NUMA node zero\n",
      "2022-01-12 03:01:13.876729: I tensorflow/core/common_runtime/gpu/gpu_device.cc:1525] Created device /job:localhost/replica:0/task:0/device:GPU:0 with 6093 MB memory:  -> device: 0, name: NVIDIA GeForce RTX 2080, pci bus id: 0000:01:00.0, compute capability: 7.5\n"
     ]
    }
   ],
   "source": [
    "model = GAiA_Network(board_shape, hyperparams)\n",
    "model.compile(loss=\"mean_absolute_error\", optimizer=\"adam\", metrics=[coeff_determination])\n",
    "model.summary()"
   ]
  },
  {
   "cell_type": "markdown",
   "metadata": {},
   "source": [
    "It's time to train! You can take a coffee or two (maybe more)."
   ]
  },
  {
   "cell_type": "code",
   "execution_count": 5,
   "metadata": {},
   "outputs": [
    {
     "name": "stderr",
     "output_type": "stream",
     "text": [
      "2022-01-12 03:01:14.178229: W tensorflow/core/framework/cpu_allocator_impl.cc:82] Allocation of 5335038720 exceeds 10% of free system memory.\n",
      "2022-01-12 03:01:17.117052: W tensorflow/core/framework/cpu_allocator_impl.cc:82] Allocation of 5335038720 exceeds 10% of free system memory.\n"
     ]
    },
    {
     "name": "stdout",
     "output_type": "stream",
     "text": [
      "Epoch 1/30\n"
     ]
    },
    {
     "name": "stderr",
     "output_type": "stream",
     "text": [
      "2022-01-12 03:01:21.543400: I tensorflow/stream_executor/cuda/cuda_dnn.cc:366] Loaded cuDNN version 8301\n"
     ]
    },
    {
     "name": "stdout",
     "output_type": "stream",
     "text": [
      "43417/43417 [==============================] - 340s 8ms/step - loss: 234.6581 - coeff_determination: 0.6904 - val_loss: 160.8662 - val_coeff_determination: -0.5907\n",
      "Epoch 2/30\n",
      "43417/43417 [==============================] - 337s 8ms/step - loss: 168.7603 - coeff_determination: 0.8426 - val_loss: 148.5955 - val_coeff_determination: -0.2203\n",
      "Epoch 3/30\n",
      "43417/43417 [==============================] - 337s 8ms/step - loss: 159.4734 - coeff_determination: 0.8537 - val_loss: 155.5378 - val_coeff_determination: -1.0230\n",
      "Epoch 4/30\n",
      "43417/43417 [==============================] - 338s 8ms/step - loss: 154.8415 - coeff_determination: 0.8601 - val_loss: 148.9353 - val_coeff_determination: -0.3141\n",
      "Epoch 5/30\n",
      "43417/43417 [==============================] - 338s 8ms/step - loss: 151.8197 - coeff_determination: 0.8635 - val_loss: 138.5107 - val_coeff_determination: -0.2560\n",
      "Epoch 6/30\n",
      "43417/43417 [==============================] - 339s 8ms/step - loss: 149.7309 - coeff_determination: 0.8664 - val_loss: 134.8560 - val_coeff_determination: -0.0536\n",
      "Epoch 7/30\n",
      "43417/43417 [==============================] - 340s 8ms/step - loss: 148.3590 - coeff_determination: 0.8666 - val_loss: 133.3605 - val_coeff_determination: -0.0053\n",
      "Epoch 8/30\n",
      "43417/43417 [==============================] - 340s 8ms/step - loss: 147.0013 - coeff_determination: 0.8682 - val_loss: 132.3845 - val_coeff_determination: 0.0522\n",
      "Epoch 9/30\n",
      "43417/43417 [==============================] - 341s 8ms/step - loss: 145.9812 - coeff_determination: 0.8688 - val_loss: 147.5399 - val_coeff_determination: -0.4165\n",
      "Epoch 10/30\n",
      "43417/43417 [==============================] - 342s 8ms/step - loss: 145.1893 - coeff_determination: 0.8701 - val_loss: 135.6619 - val_coeff_determination: 0.0194\n",
      "Epoch 11/30\n",
      "43417/43417 [==============================] - 343s 8ms/step - loss: 144.3895 - coeff_determination: 0.8716 - val_loss: 134.9608 - val_coeff_determination: -0.0887\n",
      "Epoch 12/30\n",
      "43417/43417 [==============================] - 344s 8ms/step - loss: 143.7764 - coeff_determination: 0.8716 - val_loss: 149.2063 - val_coeff_determination: -0.2935\n",
      "Epoch 13/30\n",
      "43417/43417 [==============================] - 345s 8ms/step - loss: 143.2044 - coeff_determination: 0.8741 - val_loss: 129.4978 - val_coeff_determination: 0.0505\n",
      "Epoch 14/30\n",
      "43417/43417 [==============================] - 345s 8ms/step - loss: 142.6770 - coeff_determination: 0.8744 - val_loss: 133.2914 - val_coeff_determination: -0.0026\n",
      "Epoch 15/30\n",
      "43417/43417 [==============================] - 346s 8ms/step - loss: 142.1921 - coeff_determination: 0.8735 - val_loss: 128.5176 - val_coeff_determination: 0.1762\n",
      "Epoch 16/30\n",
      "43417/43417 [==============================] - 348s 8ms/step - loss: 141.8798 - coeff_determination: 0.8745 - val_loss: 131.1676 - val_coeff_determination: 0.0592\n",
      "Epoch 17/30\n",
      "43417/43417 [==============================] - 348s 8ms/step - loss: 141.4656 - coeff_determination: 0.8746 - val_loss: 142.0045 - val_coeff_determination: -0.1724\n",
      "Epoch 18/30\n",
      "43417/43417 [==============================] - 348s 8ms/step - loss: 141.2235 - coeff_determination: 0.8749 - val_loss: 128.7525 - val_coeff_determination: 0.1816\n",
      "Epoch 19/30\n",
      "43417/43417 [==============================] - 348s 8ms/step - loss: 140.7229 - coeff_determination: 0.8759 - val_loss: 136.8509 - val_coeff_determination: 0.0611\n",
      "Epoch 20/30\n",
      "43417/43417 [==============================] - 348s 8ms/step - loss: 140.4866 - coeff_determination: 0.8757 - val_loss: 130.4599 - val_coeff_determination: 0.0759\n",
      "Epoch 21/30\n",
      "43417/43417 [==============================] - 348s 8ms/step - loss: 140.2420 - coeff_determination: 0.8763 - val_loss: 135.3611 - val_coeff_determination: -0.1965\n",
      "Epoch 22/30\n",
      "43417/43417 [==============================] - 348s 8ms/step - loss: 139.9338 - coeff_determination: 0.8779 - val_loss: 129.0344 - val_coeff_determination: 0.0319\n",
      "Epoch 23/30\n",
      "43417/43417 [==============================] - 348s 8ms/step - loss: 139.7239 - coeff_determination: 0.8766 - val_loss: 128.6284 - val_coeff_determination: -0.0045\n",
      "Epoch 24/30\n",
      "43417/43417 [==============================] - 348s 8ms/step - loss: 139.6146 - coeff_determination: 0.8770 - val_loss: 128.4089 - val_coeff_determination: 0.0728\n",
      "Epoch 25/30\n",
      "43417/43417 [==============================] - 348s 8ms/step - loss: 139.4883 - coeff_determination: 0.8771 - val_loss: 127.0989 - val_coeff_determination: 0.1498\n",
      "Epoch 26/30\n",
      "43417/43417 [==============================] - 348s 8ms/step - loss: 139.1965 - coeff_determination: 0.8773 - val_loss: 129.3817 - val_coeff_determination: 0.0701\n",
      "Epoch 27/30\n",
      "43417/43417 [==============================] - 348s 8ms/step - loss: 138.9504 - coeff_determination: 0.8769 - val_loss: 127.8272 - val_coeff_determination: 0.0571\n",
      "Epoch 28/30\n",
      "43417/43417 [==============================] - 348s 8ms/step - loss: 138.9082 - coeff_determination: 0.8786 - val_loss: 130.6723 - val_coeff_determination: 0.1938\n",
      "Epoch 29/30\n",
      "43417/43417 [==============================] - 348s 8ms/step - loss: 138.6084 - coeff_determination: 0.8784 - val_loss: 127.1373 - val_coeff_determination: 0.0737\n",
      "Epoch 30/30\n",
      "43417/43417 [==============================] - 348s 8ms/step - loss: 138.4312 - coeff_determination: 0.8786 - val_loss: 140.4061 - val_coeff_determination: -0.1454\n"
     ]
    }
   ],
   "source": [
    "valid_data = (positions_valid, scores_valid)\n",
    "nb_epochs = 30\n",
    "history = model.fit(positions_train, scores_train, validation_data=valid_data, verbose=1, epochs=nb_epochs, batch_size=32)"
   ]
  },
  {
   "cell_type": "markdown",
   "metadata": {},
   "source": [
    "We save the model."
   ]
  },
  {
   "cell_type": "code",
   "execution_count": 6,
   "metadata": {},
   "outputs": [
    {
     "name": "stderr",
     "output_type": "stream",
     "text": [
      "/home/gaetan/.local/lib/python3.9/site-packages/keras/engine/functional.py:1410: CustomMaskWarning: Custom mask layers require a config and must override get_config. When loading, the custom mask layer must be passed to the custom_objects argument.\n",
      "  layer_config = serialize_layer_fn(layer)\n"
     ]
    }
   ],
   "source": [
    "model.save(\"model/GAiA_Network.h5\")"
   ]
  },
  {
   "cell_type": "markdown",
   "metadata": {},
   "source": [
    "We convert the model to onnx format so that the engine can use it."
   ]
  },
  {
   "cell_type": "code",
   "execution_count": 7,
   "metadata": {},
   "outputs": [
    {
     "name": "stderr",
     "output_type": "stream",
     "text": [
      "2022-01-12 05:53:33.780356: W tensorflow/python/util/util.cc:368] Sets are not currently considered sequences, but this may change in the future, so consider avoiding using them.\n"
     ]
    },
    {
     "name": "stdout",
     "output_type": "stream",
     "text": [
      "INFO:tensorflow:Assets written to: model/GAiA_Network/assets\n",
      "/usr/lib/python3.9/runpy.py:127: RuntimeWarning: 'tf2onnx.convert' found in sys.modules after import of package 'tf2onnx', but prior to execution of 'tf2onnx.convert'; this may result in unpredictable behaviour\n",
      "  warn(RuntimeWarning(msg))\n",
      "2022-01-12 05:53:39,142 - WARNING - '--tag' not specified for saved_model. Using --tag serve\n",
      "2022-01-12 05:53:40,810 - INFO - Signatures found in model: [serving_default].\n",
      "2022-01-12 05:53:40,811 - WARNING - '--signature_def' not specified, using first signature: serving_default\n",
      "2022-01-12 05:53:40,811 - INFO - Output names: ['output']\n",
      "WARNING:tensorflow:From /home/gaetan/.local/lib/python3.9/site-packages/tf2onnx/tf_loader.py:706: extract_sub_graph (from tensorflow.python.framework.graph_util_impl) is deprecated and will be removed in a future version.\n",
      "Instructions for updating:\n",
      "Use `tf.compat.v1.graph_util.extract_sub_graph`\n",
      "2022-01-12 05:53:41,050 - WARNING - From /home/gaetan/.local/lib/python3.9/site-packages/tf2onnx/tf_loader.py:706: extract_sub_graph (from tensorflow.python.framework.graph_util_impl) is deprecated and will be removed in a future version.\n",
      "Instructions for updating:\n",
      "Use `tf.compat.v1.graph_util.extract_sub_graph`\n",
      "2022-01-12 05:53:41,130 - INFO - Using tensorflow=2.7.0, onnx=1.10.2, tf2onnx=1.9.3/1190aa\n",
      "2022-01-12 05:53:41,130 - INFO - Using opset <onnx, 9>\n",
      "2022-01-12 05:53:41,337 - INFO - Computed 0 values for constant folding\n",
      "2022-01-12 05:53:41,424 - INFO - Optimizing ONNX model\n",
      "2022-01-12 05:53:41,626 - INFO - After optimization: BatchNormalization -9 (10->1), Cast -1 (1->0), Const -48 (91->43), GlobalAveragePool +4 (0->4), Identity -5 (5->0), ReduceMean -4 (4->0), Squeeze +4 (0->4), Transpose -30 (40->10)\n",
      "2022-01-12 05:53:41,630 - INFO - \n",
      "2022-01-12 05:53:41,630 - INFO - Successfully converted TensorFlow model model/GAiA_Network to ONNX\n",
      "2022-01-12 05:53:41,630 - INFO - Model inputs: ['input']\n",
      "2022-01-12 05:53:41,630 - INFO - Model outputs: ['output']\n",
      "2022-01-12 05:53:41,630 - INFO - ONNX model is saved at ../Engine/build/network.onnx\n"
     ]
    }
   ],
   "source": [
    "tf.saved_model.save(model, \"model/GAiA_Network\")\n",
    "!python3.9 -m tf2onnx.convert --saved-model model/GAiA_Network --output ../Engine/build/network.onnx"
   ]
  },
  {
   "cell_type": "code",
   "execution_count": 8,
   "metadata": {},
   "outputs": [],
   "source": [
    "def plot_history(history, path=None):\n",
    "  epochs = range(1, nb_epochs + 1)\n",
    "\n",
    "  _, axs = plt.subplots(1, 2, figsize=(20, 5))\n",
    "  loss = history.history[\"loss\"]\n",
    "  score = history.history[\"coeff_determination\"]\n",
    "\n",
    "  axs[0].plot(epochs, loss, \"r-.\")\n",
    "  axs[0].set_xlabel(\"Epoch\")\n",
    "  axs[0].set_ylabel(\"Mean Absolute Error\")\n",
    "  axs[0].set_title(\"Training loss\")\n",
    "\n",
    "  axs[1].plot(epochs, score, \"g-.\")\n",
    "  axs[1].set_xlabel(\"Epoch\")\n",
    "  axs[1].set_ylabel(\"$R^2$\")\n",
    "  axs[1].set_title(\"Training score\")\n",
    "  \n",
    "  if path:\n",
    "    plt.savefig(path)"
   ]
  },
  {
   "cell_type": "markdown",
   "metadata": {},
   "source": [
    "We plot the loss and accuracy of each epoch."
   ]
  },
  {
   "cell_type": "code",
   "execution_count": 9,
   "metadata": {},
   "outputs": [
    {
     "data": {
      "image/png": "[encoded data removed]",
      "text/plain": [
       "<Figure size 1440x360 with 2 Axes>"
      ]
     },
     "metadata": {
      "needs_background": "light"
     },
     "output_type": "display_data"
    }
   ],
   "source": [
    "plot_history(history, path=\"results/GAiA_history\")"
   ]
  },
  {
   "cell_type": "code",
   "execution_count": null,
   "metadata": {},
   "outputs": [],
   "source": []
  }
 ],
 "metadata": {
  "interpreter": {
   "hash": "0f75f4719866b1a07819bd6ea6d9d48c1f255c430bb3a8b091292950e4ac54e9"
  },
  "kernelspec": {
   "display_name": "Python 3.9.7 64-bit (system)",
   "language": "python",
   "name": "python3"
  },
  "language_info": {
   "codemirror_mode": {
    "name": "ipython",
    "version": 3
   },
   "file_extension": ".py",
   "mimetype": "text/x-python",
   "name": "python",
   "nbconvert_exporter": "python",
   "pygments_lexer": "ipython3",
   "version": "3.9.9"
  },
  "orig_nbformat": 4
 },
 "nbformat": 4,
 "nbformat_minor": 2
}
