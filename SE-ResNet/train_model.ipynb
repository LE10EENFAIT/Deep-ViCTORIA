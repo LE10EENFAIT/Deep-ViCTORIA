{
 "cells": [
  {
   "cell_type": "markdown",
   "metadata": {},
   "source": [
    "## Training of GAiA's neural network"
   ]
  },
  {
   "cell_type": "code",
   "execution_count": 1,
   "metadata": {},
   "outputs": [],
   "source": [
    "from model.GAiA_network import GAiA_Network, MAE, coefficient_determination\n",
    "from lib.dataset_utils import read_many_hdf5, board_shape\n",
    "from lib.torch_model_wrapper import TorchWrapper\n",
    "\n",
    "import pickle\n",
    "import matplotlib.pyplot as plt\n",
    "import torch\n",
    "\n",
    "import platform\n",
    "if platform.system() == \"Darwin\":\n",
    "  %config InlineBackend.figure_format=\"retina\"  # For high DPI display"
   ]
  },
  {
   "cell_type": "code",
   "execution_count": 2,
   "metadata": {},
   "outputs": [],
   "source": [
    "device = torch.device(\"cuda:0\" if torch.cuda.is_available() else \"cpu\")"
   ]
  },
  {
   "cell_type": "markdown",
   "metadata": {},
   "source": [
    "We retrieve the network's optimal hyperparameters from the `choose_hyperparameters` notebook."
   ]
  },
  {
   "cell_type": "code",
   "execution_count": 3,
   "metadata": {},
   "outputs": [
    {
     "name": "stdout",
     "output_type": "stream",
     "text": [
      "{'nb_blocks': 4, 'filters': 64}\n"
     ]
    }
   ],
   "source": [
    "input_file = open(\"saved_models/hyperparameters.pickle\", \"rb\")\n",
    "hyperparams = pickle.load(input_file)\n",
    "input_file.close()\n",
    "print(hyperparams)"
   ]
  },
  {
   "cell_type": "markdown",
   "metadata": {},
   "source": [
    "We create a network with these hyperparameters."
   ]
  },
  {
   "cell_type": "code",
   "execution_count": 4,
   "metadata": {},
   "outputs": [],
   "source": [
    "network = GAiA_Network(board_shape, **hyperparams)\n",
    "_ = network.to(device)"
   ]
  },
  {
   "cell_type": "code",
   "execution_count": 5,
   "metadata": {},
   "outputs": [],
   "source": [
    "loss_function = MAE\n",
    "optimizer = torch.optim.Adam(network.parameters(), lr=0.001, eps=1e-07)"
   ]
  },
  {
   "cell_type": "code",
   "execution_count": 6,
   "metadata": {},
   "outputs": [
    {
     "name": "stdout",
     "output_type": "stream",
     "text": [
      "46161 trainable parameters.\n",
      "Total mem: 7.79 GiB, Reserved mem: 0.00 GiB, Allocated mem: 0.00 GiB, Free mem: 7.79 GiB\n"
     ]
    }
   ],
   "source": [
    "twrapper = TorchWrapper(network, device, optimizer, loss_function, coefficient_determination)\n",
    "print(f\"{twrapper.get_parameters(trainable=True)} trainable parameters.\")\n",
    "twrapper.print_cuda_memory_state()"
   ]
  },
  {
   "cell_type": "markdown",
   "metadata": {},
   "source": [
    "It's time to train! You can take a coffee or two (maybe more)."
   ]
  },
  {
   "cell_type": "code",
   "execution_count": 7,
   "metadata": {},
   "outputs": [
    {
     "name": "stdout",
     "output_type": "stream",
     "text": [
      "Training set 1\n",
      "Epoch: 1 Loss: 355.41 Metric: 0.32\n",
      "Epoch: 2 Loss: 272.37 Metric: 0.51\n",
      "Epoch: 3 Loss: 259.99 Metric: 0.52\n",
      "Epoch: 4 Loss: 243.77 Metric: 0.54\n",
      "Epoch: 5 Loss: 235.55 Metric: 0.55\n",
      "Epoch: 6 Loss: 232.58 Metric: 0.55\n",
      "Epoch: 7 Loss: 229.37 Metric: 0.56\n",
      "Epoch: 8 Loss: 227.22 Metric: 0.56\n",
      "Epoch: 9 Loss: 224.61 Metric: 0.58\n",
      "Epoch: 10 Loss: 209.00 Metric: 0.70\n",
      "Epoch: 11 Loss: 184.47 Metric: 0.83\n",
      "Epoch: 12 Loss: 166.68 Metric: 0.90\n",
      "Epoch: 13 Loss: 162.61 Metric: 0.90\n",
      "Epoch: 14 Loss: 160.20 Metric: 0.91\n",
      "Epoch: 15 Loss: 157.90 Metric: 0.91\n",
      "Epoch: 16 Loss: 157.03 Metric: 0.91\n",
      "Epoch: 17 Loss: 155.56 Metric: 0.91\n",
      "Epoch: 18 Loss: 154.25 Metric: 0.91\n",
      "Epoch: 19 Loss: 153.50 Metric: 0.91\n",
      "Epoch: 20 Loss: 152.37 Metric: 0.91\n",
      "Epoch: 21 Loss: 151.22 Metric: 0.91\n",
      "Epoch: 22 Loss: 150.65 Metric: 0.91\n",
      "Epoch: 23 Loss: 150.12 Metric: 0.91\n",
      "Epoch: 24 Loss: 149.67 Metric: 0.91\n",
      "Epoch: 25 Loss: 148.82 Metric: 0.91\n",
      "Epoch: 26 Loss: 148.18 Metric: 0.92\n",
      "Epoch: 27 Loss: 147.39 Metric: 0.92\n",
      "Epoch: 28 Loss: 147.87 Metric: 0.91\n",
      "Epoch: 29 Loss: 146.98 Metric: 0.92\n",
      "Epoch: 30 Loss: 146.61 Metric: 0.92\n",
      "Training set 2\n",
      "Epoch: 1 Loss: 149.87 Metric: 0.92\n",
      "Epoch: 2 Loss: 148.47 Metric: 0.92\n",
      "Epoch: 3 Loss: 148.39 Metric: 0.92\n",
      "Epoch: 4 Loss: 147.71 Metric: 0.92\n",
      "Epoch: 5 Loss: 147.09 Metric: 0.92\n",
      "Epoch: 6 Loss: 146.72 Metric: 0.92\n",
      "Epoch: 7 Loss: 146.23 Metric: 0.92\n",
      "Epoch: 8 Loss: 145.62 Metric: 0.92\n",
      "Epoch: 9 Loss: 145.60 Metric: 0.92\n",
      "Epoch: 10 Loss: 145.49 Metric: 0.92\n",
      "Epoch: 11 Loss: 144.77 Metric: 0.92\n",
      "Epoch: 12 Loss: 144.29 Metric: 0.92\n",
      "Epoch: 13 Loss: 144.09 Metric: 0.92\n",
      "Epoch: 14 Loss: 144.26 Metric: 0.92\n",
      "Epoch: 15 Loss: 143.56 Metric: 0.92\n",
      "Epoch: 16 Loss: 143.13 Metric: 0.92\n",
      "Epoch: 17 Loss: 143.48 Metric: 0.92\n",
      "Epoch: 18 Loss: 142.94 Metric: 0.92\n",
      "Epoch: 19 Loss: 142.65 Metric: 0.92\n",
      "Epoch: 20 Loss: 142.62 Metric: 0.92\n",
      "Epoch: 21 Loss: 142.16 Metric: 0.92\n",
      "Epoch: 22 Loss: 141.94 Metric: 0.92\n",
      "Epoch: 23 Loss: 141.62 Metric: 0.92\n",
      "Epoch: 24 Loss: 141.30 Metric: 0.92\n",
      "Epoch: 25 Loss: 141.28 Metric: 0.92\n",
      "Epoch: 26 Loss: 141.25 Metric: 0.92\n",
      "Epoch: 27 Loss: 140.74 Metric: 0.92\n",
      "Epoch: 28 Loss: 140.54 Metric: 0.92\n",
      "Epoch: 29 Loss: 140.49 Metric: 0.92\n",
      "Epoch: 30 Loss: 140.59 Metric: 0.92\n",
      "Training set 3\n",
      "Epoch: 1 Loss: 143.19 Metric: 0.92\n",
      "Epoch: 2 Loss: 142.01 Metric: 0.92\n",
      "Epoch: 3 Loss: 141.43 Metric: 0.93\n",
      "Epoch: 4 Loss: 140.87 Metric: 0.93\n",
      "Epoch: 5 Loss: 140.55 Metric: 0.93\n",
      "Epoch: 6 Loss: 140.42 Metric: 0.93\n",
      "Epoch: 7 Loss: 140.23 Metric: 0.93\n",
      "Epoch: 8 Loss: 139.56 Metric: 0.93\n",
      "Epoch: 9 Loss: 139.22 Metric: 0.93\n",
      "Epoch: 10 Loss: 139.05 Metric: 0.93\n",
      "Epoch: 11 Loss: 138.84 Metric: 0.93\n",
      "Epoch: 12 Loss: 138.96 Metric: 0.93\n",
      "Epoch: 13 Loss: 138.53 Metric: 0.93\n",
      "Epoch: 14 Loss: 138.18 Metric: 0.93\n",
      "Epoch: 15 Loss: 138.11 Metric: 0.93\n",
      "Epoch: 16 Loss: 138.03 Metric: 0.93\n",
      "Epoch: 17 Loss: 137.71 Metric: 0.93\n",
      "Epoch: 18 Loss: 137.49 Metric: 0.93\n",
      "Epoch: 19 Loss: 137.50 Metric: 0.93\n",
      "Epoch: 20 Loss: 137.57 Metric: 0.93\n",
      "Epoch: 21 Loss: 137.03 Metric: 0.93\n",
      "Epoch: 22 Loss: 137.01 Metric: 0.93\n",
      "Epoch: 23 Loss: 136.97 Metric: 0.93\n",
      "Epoch: 24 Loss: 136.60 Metric: 0.93\n",
      "Epoch: 25 Loss: 136.66 Metric: 0.93\n",
      "Epoch: 26 Loss: 136.54 Metric: 0.93\n",
      "Epoch: 27 Loss: 136.66 Metric: 0.93\n",
      "Epoch: 28 Loss: 136.40 Metric: 0.93\n",
      "Epoch: 29 Loss: 136.16 Metric: 0.93\n",
      "Epoch: 30 Loss: 136.41 Metric: 0.93\n"
     ]
    }
   ],
   "source": [
    "directory = \"/media/gaetan/HDD/IA/Chess/Datasets/SE_ResNet/\"\n",
    "nb_epochs = 30\n",
    "\n",
    "history = {\"loss\": [], \"metric\": []}\n",
    "\n",
    "for i, nb_pos in enumerate([992453, 992388, 992346]):\n",
    "  print(f\"Training set {i+1}\")\n",
    "  positions_train, scores_train = read_many_hdf5(nb_pos, directory, \"_train\")\n",
    "  scores_train = scores_train.reshape(-1, 1)\n",
    "  positions_train = positions_train.transpose((0, 3, 1, 2)) # Channel first\n",
    "  tmp_history = twrapper.fit(positions_train, scores_train, epochs=nb_epochs, batch_size=1024)\n",
    "  history[\"loss\"] += tmp_history[\"loss\"]\n",
    "  history[\"metric\"] += tmp_history[\"metric\"]"
   ]
  },
  {
   "cell_type": "markdown",
   "metadata": {},
   "source": [
    "We save the network."
   ]
  },
  {
   "cell_type": "code",
   "execution_count": 8,
   "metadata": {},
   "outputs": [],
   "source": [
    "twrapper.save(\"saved_models/GAiA_Network.pth\")"
   ]
  },
  {
   "cell_type": "markdown",
   "metadata": {},
   "source": [
    "We convert the network to onnx format so that the engine can use it."
   ]
  },
  {
   "cell_type": "code",
   "execution_count": 9,
   "metadata": {},
   "outputs": [],
   "source": [
    "dummy_input = torch.rand((1, *board_shape)).to(device)\n",
    "torch.onnx.export(\n",
    "  network,\n",
    "  dummy_input,\n",
    "  \"../Engine/build/network.onnx\",\n",
    "  verbose=False,\n",
    "  input_names=[\"input\"],\n",
    "  output_names=[\"output\"])"
   ]
  },
  {
   "cell_type": "code",
   "execution_count": 10,
   "metadata": {},
   "outputs": [],
   "source": [
    "def plot_history(history, path=None):\n",
    "  epochs = range(1, len(history[\"loss\"]) + 1)\n",
    "\n",
    "  _, axs = plt.subplots(1, 2, figsize=(20, 5))\n",
    "  loss = history[\"loss\"]\n",
    "  score = history[\"metric\"]\n",
    "\n",
    "  axs[0].plot(epochs, loss, \"r-.\")\n",
    "  axs[0].set_xlabel(\"Epoch\")\n",
    "  axs[0].set_ylabel(\"Mean Squared Error\")\n",
    "  axs[0].set_title(\"Training loss\")\n",
    "\n",
    "  axs[1].plot(epochs, score, \"g-.\")\n",
    "  axs[1].set_xlabel(\"Epoch\")\n",
    "  axs[1].set_ylabel(\"$R^2$\")\n",
    "  axs[1].set_title(\"Training score\")\n",
    "  \n",
    "  if path:\n",
    "    plt.savefig(path)"
   ]
  },
  {
   "cell_type": "markdown",
   "metadata": {},
   "source": [
    "We plot the loss and accuracy of each epoch."
   ]
  },
  {
   "cell_type": "code",
   "execution_count": 11,
   "metadata": {},
   "outputs": [
    {
     "data": {
      "image/png": "[encoded data removed]",
      "text/plain": [
       "<Figure size 1440x360 with 2 Axes>"
      ]
     },
     "metadata": {
      "needs_background": "light"
     },
     "output_type": "display_data"
    }
   ],
   "source": [
    "plot_history(history, path=\"results/GAiA_history2.pdf\")"
   ]
  },
  {
   "cell_type": "code",
   "execution_count": null,
   "metadata": {},
   "outputs": [],
   "source": []
  }
 ],
 "metadata": {
  "interpreter": {
   "hash": "0f75f4719866b1a07819bd6ea6d9d48c1f255c430bb3a8b091292950e4ac54e9"
  },
  "kernelspec": {
   "display_name": "Python 3.9.7 64-bit (system)",
   "language": "python",
   "name": "python3"
  },
  "language_info": {
   "codemirror_mode": {
    "name": "ipython",
    "version": 3
   },
   "file_extension": ".py",
   "mimetype": "text/x-python",
   "name": "python",
   "nbconvert_exporter": "python",
   "pygments_lexer": "ipython3",
   "version": "3.9.9"
  },
  "orig_nbformat": 4
 },
 "nbformat": 4,
 "nbformat_minor": 2
}
