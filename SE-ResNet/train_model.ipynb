{
 "cells": [
  {
   "cell_type": "markdown",
   "metadata": {},
   "source": [
    "## Training of GAiA's neural network"
   ]
  },
  {
   "cell_type": "code",
   "execution_count": 1,
   "metadata": {},
   "outputs": [
    {
     "name": "stdout",
     "output_type": "stream",
     "text": [
      "Default GPU Device: /device:GPU:0\n"
     ]
    },
    {
     "name": "stderr",
     "output_type": "stream",
     "text": [
      "2022-01-12 00:50:05.891893: I tensorflow/core/platform/cpu_feature_guard.cc:151] This TensorFlow binary is optimized with oneAPI Deep Neural Network Library (oneDNN) to use the following CPU instructions in performance-critical operations:  AVX2 FMA\n",
      "To enable them in other operations, rebuild TensorFlow with the appropriate compiler flags.\n",
      "2022-01-12 00:50:06.049358: I tensorflow/stream_executor/cuda/cuda_gpu_executor.cc:939] successful NUMA node read from SysFS had negative value (-1), but there must be at least one NUMA node, so returning NUMA node zero\n",
      "2022-01-12 00:50:06.159483: I tensorflow/stream_executor/cuda/cuda_gpu_executor.cc:939] successful NUMA node read from SysFS had negative value (-1), but there must be at least one NUMA node, so returning NUMA node zero\n",
      "2022-01-12 00:50:06.159664: I tensorflow/stream_executor/cuda/cuda_gpu_executor.cc:939] successful NUMA node read from SysFS had negative value (-1), but there must be at least one NUMA node, so returning NUMA node zero\n",
      "2022-01-12 00:50:07.109887: I tensorflow/stream_executor/cuda/cuda_gpu_executor.cc:939] successful NUMA node read from SysFS had negative value (-1), but there must be at least one NUMA node, so returning NUMA node zero\n",
      "2022-01-12 00:50:07.110221: I tensorflow/stream_executor/cuda/cuda_gpu_executor.cc:939] successful NUMA node read from SysFS had negative value (-1), but there must be at least one NUMA node, so returning NUMA node zero\n",
      "2022-01-12 00:50:07.110481: I tensorflow/stream_executor/cuda/cuda_gpu_executor.cc:939] successful NUMA node read from SysFS had negative value (-1), but there must be at least one NUMA node, so returning NUMA node zero\n",
      "2022-01-12 00:50:07.110678: I tensorflow/core/common_runtime/gpu/gpu_device.cc:1525] Created device /device:GPU:0 with 6227 MB memory:  -> device: 0, name: NVIDIA GeForce RTX 2080, pci bus id: 0000:01:00.0, compute capability: 7.5\n",
      "2022-01-12 00:50:07.122121: I tensorflow/stream_executor/cuda/cuda_gpu_executor.cc:939] successful NUMA node read from SysFS had negative value (-1), but there must be at least one NUMA node, so returning NUMA node zero\n",
      "2022-01-12 00:50:07.122434: I tensorflow/stream_executor/cuda/cuda_gpu_executor.cc:939] successful NUMA node read from SysFS had negative value (-1), but there must be at least one NUMA node, so returning NUMA node zero\n",
      "2022-01-12 00:50:07.122631: I tensorflow/stream_executor/cuda/cuda_gpu_executor.cc:939] successful NUMA node read from SysFS had negative value (-1), but there must be at least one NUMA node, so returning NUMA node zero\n",
      "2022-01-12 00:50:07.122880: I tensorflow/stream_executor/cuda/cuda_gpu_executor.cc:939] successful NUMA node read from SysFS had negative value (-1), but there must be at least one NUMA node, so returning NUMA node zero\n",
      "2022-01-12 00:50:07.123089: I tensorflow/stream_executor/cuda/cuda_gpu_executor.cc:939] successful NUMA node read from SysFS had negative value (-1), but there must be at least one NUMA node, so returning NUMA node zero\n",
      "2022-01-12 00:50:07.123250: I tensorflow/core/common_runtime/gpu/gpu_device.cc:1525] Created device /device:GPU:0 with 6227 MB memory:  -> device: 0, name: NVIDIA GeForce RTX 2080, pci bus id: 0000:01:00.0, compute capability: 7.5\n"
     ]
    }
   ],
   "source": [
    "from model.GAiA_network import GAiA_Network, coeff_determination\n",
    "from lib.dataset_utils import read_many_hdf5, board_shape\n",
    "\n",
    "import pickle\n",
    "import tensorflow as tf\n",
    "import matplotlib.pyplot as plt\n",
    "\n",
    "import platform\n",
    "if platform.system() == \"Darwin\":\n",
    "    %config InlineBackend.figure_format=\"retina\"  # For high DPI display\n",
    "\n",
    "if tf.test.gpu_device_name(): \n",
    "  print(f\"Default GPU Device: {tf.test.gpu_device_name()}\")"
   ]
  },
  {
   "cell_type": "markdown",
   "metadata": {},
   "source": [
    "We load our training dataset."
   ]
  },
  {
   "cell_type": "code",
   "execution_count": 2,
   "metadata": {},
   "outputs": [],
   "source": [
    "directory = \"/media/gaetan/HDD/IA/Chess/Datasets/SE_ResNet/\"\n",
    "positions_train, scores_train = read_many_hdf5(1389333, directory, \"_train\")\n",
    "positions_valid, scores_valid = read_many_hdf5(19849, directory, \"_validation\")"
   ]
  },
  {
   "cell_type": "markdown",
   "metadata": {},
   "source": [
    "We retrieve the model's optimal hyperparameters from the `choose_hyperparameters` notebook."
   ]
  },
  {
   "cell_type": "code",
   "execution_count": 3,
   "metadata": {},
   "outputs": [
    {
     "name": "stdout",
     "output_type": "stream",
     "text": [
      "{'nb_blocks': 4, 'filters': 64}\n"
     ]
    }
   ],
   "source": [
    "input_file = open(\"model/hyperparameters.pickle\", \"rb\")\n",
    "hyperparams = pickle.load(input_file)\n",
    "input_file.close()\n",
    "print(hyperparams)"
   ]
  },
  {
   "cell_type": "markdown",
   "metadata": {},
   "source": [
    "We create a model with these hyperparameters."
   ]
  },
  {
   "cell_type": "code",
   "execution_count": 4,
   "metadata": {},
   "outputs": [
    {
     "name": "stdout",
     "output_type": "stream",
     "text": [
      "Model: \"GAiA\"\n",
      "__________________________________________________________________________________________________\n",
      " Layer (type)                   Output Shape         Param #     Connected to                     \n",
      "==================================================================================================\n",
      " input (InputLayer)             [(None, 8, 8, 15)]   0           []                               \n",
      "                                                                                                  \n",
      " conv2d (Conv2D)                (None, 8, 8, 64)     1024        ['input[0][0]']                  \n",
      "                                                                                                  \n",
      " batch_normalization (BatchNorm  (None, 8, 8, 64)    256         ['conv2d[0][0]']                 \n",
      " alization)                                                                                       \n",
      "                                                                                                  \n",
      " conv2d_1 (Conv2D)              (None, 8, 8, 64)     4160        ['batch_normalization[0][0]']    \n",
      "                                                                                                  \n",
      " batch_normalization_1 (BatchNo  (None, 8, 8, 64)    256         ['conv2d_1[0][0]']               \n",
      " rmalization)                                                                                     \n",
      "                                                                                                  \n",
      " re_lu (ReLU)                   (None, 8, 8, 64)     0           ['batch_normalization_1[0][0]']  \n",
      "                                                                                                  \n",
      " conv2d_2 (Conv2D)              (None, 8, 8, 64)     4160        ['re_lu[0][0]']                  \n",
      "                                                                                                  \n",
      " batch_normalization_2 (BatchNo  (None, 8, 8, 64)    256         ['conv2d_2[0][0]']               \n",
      " rmalization)                                                                                     \n",
      "                                                                                                  \n",
      " global_average_pooling2d (Glob  (None, 64)          0           ['batch_normalization_2[0][0]']  \n",
      " alAveragePooling2D)                                                                              \n",
      "                                                                                                  \n",
      " dense (Dense)                  (None, 4)            260         ['global_average_pooling2d[0][0]'\n",
      "                                                                 ]                                \n",
      "                                                                                                  \n",
      " dense_1 (Dense)                (None, 64)           320         ['dense[0][0]']                  \n",
      "                                                                                                  \n",
      " multiply (Multiply)            (None, 8, 8, 64)     0           ['batch_normalization_2[0][0]',  \n",
      "                                                                  'dense_1[0][0]']                \n",
      "                                                                                                  \n",
      " add (Add)                      (None, 8, 8, 64)     0           ['multiply[0][0]',               \n",
      "                                                                  'batch_normalization[0][0]']    \n",
      "                                                                                                  \n",
      " re_lu_1 (ReLU)                 (None, 8, 8, 64)     0           ['add[0][0]']                    \n",
      "                                                                                                  \n",
      " conv2d_3 (Conv2D)              (None, 8, 8, 64)     4160        ['re_lu_1[0][0]']                \n",
      "                                                                                                  \n",
      " batch_normalization_3 (BatchNo  (None, 8, 8, 64)    256         ['conv2d_3[0][0]']               \n",
      " rmalization)                                                                                     \n",
      "                                                                                                  \n",
      " re_lu_2 (ReLU)                 (None, 8, 8, 64)     0           ['batch_normalization_3[0][0]']  \n",
      "                                                                                                  \n",
      " conv2d_4 (Conv2D)              (None, 8, 8, 64)     4160        ['re_lu_2[0][0]']                \n",
      "                                                                                                  \n",
      " batch_normalization_4 (BatchNo  (None, 8, 8, 64)    256         ['conv2d_4[0][0]']               \n",
      " rmalization)                                                                                     \n",
      "                                                                                                  \n",
      " global_average_pooling2d_1 (Gl  (None, 64)          0           ['batch_normalization_4[0][0]']  \n",
      " obalAveragePooling2D)                                                                            \n",
      "                                                                                                  \n",
      " dense_2 (Dense)                (None, 4)            260         ['global_average_pooling2d_1[0][0\n",
      "                                                                 ]']                              \n",
      "                                                                                                  \n",
      " dense_3 (Dense)                (None, 64)           320         ['dense_2[0][0]']                \n",
      "                                                                                                  \n",
      " multiply_1 (Multiply)          (None, 8, 8, 64)     0           ['batch_normalization_4[0][0]',  \n",
      "                                                                  'dense_3[0][0]']                \n",
      "                                                                                                  \n",
      " add_1 (Add)                    (None, 8, 8, 64)     0           ['multiply_1[0][0]',             \n",
      "                                                                  're_lu_1[0][0]']                \n",
      "                                                                                                  \n",
      " re_lu_3 (ReLU)                 (None, 8, 8, 64)     0           ['add_1[0][0]']                  \n",
      "                                                                                                  \n",
      " conv2d_5 (Conv2D)              (None, 8, 8, 64)     4160        ['re_lu_3[0][0]']                \n",
      "                                                                                                  \n",
      " batch_normalization_5 (BatchNo  (None, 8, 8, 64)    256         ['conv2d_5[0][0]']               \n",
      " rmalization)                                                                                     \n",
      "                                                                                                  \n",
      " re_lu_4 (ReLU)                 (None, 8, 8, 64)     0           ['batch_normalization_5[0][0]']  \n",
      "                                                                                                  \n",
      " conv2d_6 (Conv2D)              (None, 8, 8, 64)     4160        ['re_lu_4[0][0]']                \n",
      "                                                                                                  \n",
      " batch_normalization_6 (BatchNo  (None, 8, 8, 64)    256         ['conv2d_6[0][0]']               \n",
      " rmalization)                                                                                     \n",
      "                                                                                                  \n",
      " global_average_pooling2d_2 (Gl  (None, 64)          0           ['batch_normalization_6[0][0]']  \n",
      " obalAveragePooling2D)                                                                            \n",
      "                                                                                                  \n",
      " dense_4 (Dense)                (None, 4)            260         ['global_average_pooling2d_2[0][0\n",
      "                                                                 ]']                              \n",
      "                                                                                                  \n",
      " dense_5 (Dense)                (None, 64)           320         ['dense_4[0][0]']                \n",
      "                                                                                                  \n",
      " multiply_2 (Multiply)          (None, 8, 8, 64)     0           ['batch_normalization_6[0][0]',  \n",
      "                                                                  'dense_5[0][0]']                \n",
      "                                                                                                  \n",
      " add_2 (Add)                    (None, 8, 8, 64)     0           ['multiply_2[0][0]',             \n",
      "                                                                  're_lu_3[0][0]']                \n",
      "                                                                                                  \n",
      " re_lu_5 (ReLU)                 (None, 8, 8, 64)     0           ['add_2[0][0]']                  \n",
      "                                                                                                  \n",
      " conv2d_7 (Conv2D)              (None, 8, 8, 64)     4160        ['re_lu_5[0][0]']                \n",
      "                                                                                                  \n",
      " batch_normalization_7 (BatchNo  (None, 8, 8, 64)    256         ['conv2d_7[0][0]']               \n",
      " rmalization)                                                                                     \n",
      "                                                                                                  \n",
      " re_lu_6 (ReLU)                 (None, 8, 8, 64)     0           ['batch_normalization_7[0][0]']  \n",
      "                                                                                                  \n",
      " conv2d_8 (Conv2D)              (None, 8, 8, 64)     4160        ['re_lu_6[0][0]']                \n",
      "                                                                                                  \n",
      " batch_normalization_8 (BatchNo  (None, 8, 8, 64)    256         ['conv2d_8[0][0]']               \n",
      " rmalization)                                                                                     \n",
      "                                                                                                  \n",
      " global_average_pooling2d_3 (Gl  (None, 64)          0           ['batch_normalization_8[0][0]']  \n",
      " obalAveragePooling2D)                                                                            \n",
      "                                                                                                  \n",
      " dense_6 (Dense)                (None, 4)            260         ['global_average_pooling2d_3[0][0\n",
      "                                                                 ]']                              \n",
      "                                                                                                  \n",
      " dense_7 (Dense)                (None, 64)           320         ['dense_6[0][0]']                \n",
      "                                                                                                  \n",
      " multiply_3 (Multiply)          (None, 8, 8, 64)     0           ['batch_normalization_8[0][0]',  \n",
      "                                                                  'dense_7[0][0]']                \n",
      "                                                                                                  \n",
      " add_3 (Add)                    (None, 8, 8, 64)     0           ['multiply_3[0][0]',             \n",
      "                                                                  're_lu_5[0][0]']                \n",
      "                                                                                                  \n",
      " re_lu_7 (ReLU)                 (None, 8, 8, 64)     0           ['add_3[0][0]']                  \n",
      "                                                                                                  \n",
      " conv2d_9 (Conv2D)              (None, 8, 8, 64)     4160        ['re_lu_7[0][0]']                \n",
      "                                                                                                  \n",
      " batch_normalization_9 (BatchNo  (None, 8, 8, 64)    256         ['conv2d_9[0][0]']               \n",
      " rmalization)                                                                                     \n",
      "                                                                                                  \n",
      " re_lu_8 (ReLU)                 (None, 8, 8, 64)     0           ['batch_normalization_9[0][0]']  \n",
      "                                                                                                  \n",
      " flatten (Flatten)              (None, 4096)         0           ['re_lu_8[0][0]']                \n",
      "                                                                                                  \n",
      " output (Dense)                 (None, 1)            4097        ['flatten[0][0]']                \n",
      "                                                                                                  \n",
      "==================================================================================================\n",
      "Total params: 47,441\n",
      "Trainable params: 46,161\n",
      "Non-trainable params: 1,280\n",
      "__________________________________________________________________________________________________\n"
     ]
    },
    {
     "name": "stderr",
     "output_type": "stream",
     "text": [
      "2022-01-11 20:12:02.160472: I tensorflow/stream_executor/cuda/cuda_gpu_executor.cc:939] successful NUMA node read from SysFS had negative value (-1), but there must be at least one NUMA node, so returning NUMA node zero\n",
      "2022-01-11 20:12:02.160742: I tensorflow/stream_executor/cuda/cuda_gpu_executor.cc:939] successful NUMA node read from SysFS had negative value (-1), but there must be at least one NUMA node, so returning NUMA node zero\n",
      "2022-01-11 20:12:02.160943: I tensorflow/stream_executor/cuda/cuda_gpu_executor.cc:939] successful NUMA node read from SysFS had negative value (-1), but there must be at least one NUMA node, so returning NUMA node zero\n",
      "2022-01-11 20:12:02.161349: I tensorflow/stream_executor/cuda/cuda_gpu_executor.cc:939] successful NUMA node read from SysFS had negative value (-1), but there must be at least one NUMA node, so returning NUMA node zero\n",
      "2022-01-11 20:12:02.161776: I tensorflow/stream_executor/cuda/cuda_gpu_executor.cc:939] successful NUMA node read from SysFS had negative value (-1), but there must be at least one NUMA node, so returning NUMA node zero\n",
      "2022-01-11 20:12:02.162046: I tensorflow/stream_executor/cuda/cuda_gpu_executor.cc:939] successful NUMA node read from SysFS had negative value (-1), but there must be at least one NUMA node, so returning NUMA node zero\n",
      "2022-01-11 20:12:02.162265: I tensorflow/stream_executor/cuda/cuda_gpu_executor.cc:939] successful NUMA node read from SysFS had negative value (-1), but there must be at least one NUMA node, so returning NUMA node zero\n",
      "2022-01-11 20:12:02.162440: I tensorflow/stream_executor/cuda/cuda_gpu_executor.cc:939] successful NUMA node read from SysFS had negative value (-1), but there must be at least one NUMA node, so returning NUMA node zero\n",
      "2022-01-11 20:12:02.162574: I tensorflow/core/common_runtime/gpu/gpu_device.cc:1525] Created device /job:localhost/replica:0/task:0/device:GPU:0 with 6266 MB memory:  -> device: 0, name: NVIDIA GeForce RTX 2080, pci bus id: 0000:01:00.0, compute capability: 7.5\n"
     ]
    }
   ],
   "source": [
    "model = GAiA_Network(board_shape, hyperparams)\n",
    "model.compile(loss=\"mean_absolute_error\", optimizer=\"adam\", metrics=[coeff_determination])\n",
    "model.summary()"
   ]
  },
  {
   "cell_type": "markdown",
   "metadata": {},
   "source": [
    "It's time to train! You can take a coffee or two (maybe more)."
   ]
  },
  {
   "cell_type": "code",
   "execution_count": 5,
   "metadata": {},
   "outputs": [
    {
     "name": "stderr",
     "output_type": "stream",
     "text": [
      "2022-01-11 20:12:02.454869: W tensorflow/core/framework/cpu_allocator_impl.cc:82] Allocation of 5335038720 exceeds 10% of free system memory.\n",
      "2022-01-11 20:12:05.545495: W tensorflow/core/framework/cpu_allocator_impl.cc:82] Allocation of 5335038720 exceeds 10% of free system memory.\n"
     ]
    },
    {
     "name": "stdout",
     "output_type": "stream",
     "text": [
      "Epoch 1/60\n"
     ]
    },
    {
     "name": "stderr",
     "output_type": "stream",
     "text": [
      "2022-01-11 20:12:09.974139: I tensorflow/stream_executor/cuda/cuda_dnn.cc:366] Loaded cuDNN version 8301\n"
     ]
    },
    {
     "name": "stdout",
     "output_type": "stream",
     "text": [
      "1357/1357 [==============================] - 35s 24ms/step - loss: 317.0996 - coeff_determination: 0.4034 - val_loss: 215.8225 - val_coeff_determination: 0.6115\n",
      "Epoch 2/60\n",
      "1357/1357 [==============================] - 32s 24ms/step - loss: 255.2379 - coeff_determination: 0.5311 - val_loss: 394.3698 - val_coeff_determination: 0.1828\n",
      "Epoch 3/60\n",
      "1357/1357 [==============================] - 32s 23ms/step - loss: 224.0176 - coeff_determination: 0.6893 - val_loss: 613.6008 - val_coeff_determination: -0.5653\n",
      "Epoch 4/60\n",
      "1357/1357 [==============================] - 32s 23ms/step - loss: 189.1844 - coeff_determination: 0.8416 - val_loss: 191.6759 - val_coeff_determination: 0.7386\n",
      "Epoch 5/60\n",
      "1357/1357 [==============================] - 32s 24ms/step - loss: 169.8745 - coeff_determination: 0.8953 - val_loss: 415.4188 - val_coeff_determination: -0.1790\n",
      "Epoch 6/60\n",
      "1357/1357 [==============================] - 32s 24ms/step - loss: 166.3674 - coeff_determination: 0.8985 - val_loss: 396.5187 - val_coeff_determination: 0.2515\n",
      "Epoch 7/60\n",
      "1357/1357 [==============================] - 32s 23ms/step - loss: 163.4137 - coeff_determination: 0.9014 - val_loss: 318.9640 - val_coeff_determination: 0.4815\n",
      "Epoch 8/60\n",
      "1357/1357 [==============================] - 32s 23ms/step - loss: 160.1483 - coeff_determination: 0.9058 - val_loss: 304.4498 - val_coeff_determination: 0.4328\n",
      "Epoch 9/60\n",
      "1357/1357 [==============================] - 32s 24ms/step - loss: 158.3594 - coeff_determination: 0.9070 - val_loss: 414.8730 - val_coeff_determination: 0.0257\n",
      "Epoch 10/60\n",
      "1357/1357 [==============================] - 32s 24ms/step - loss: 156.3970 - coeff_determination: 0.9097 - val_loss: 394.5649 - val_coeff_determination: 0.0856\n",
      "Epoch 11/60\n",
      "1357/1357 [==============================] - 32s 24ms/step - loss: 155.2597 - coeff_determination: 0.9099 - val_loss: 206.8802 - val_coeff_determination: 0.7616\n",
      "Epoch 12/60\n",
      "1357/1357 [==============================] - 32s 23ms/step - loss: 154.2030 - coeff_determination: 0.9107 - val_loss: 259.8568 - val_coeff_determination: 0.5989\n",
      "Epoch 13/60\n",
      "1357/1357 [==============================] - 32s 24ms/step - loss: 152.2241 - coeff_determination: 0.9134 - val_loss: 206.7599 - val_coeff_determination: 0.7546\n",
      "Epoch 14/60\n",
      "1357/1357 [==============================] - 32s 24ms/step - loss: 151.4071 - coeff_determination: 0.9139 - val_loss: 367.9053 - val_coeff_determination: 0.1766\n",
      "Epoch 15/60\n",
      "1357/1357 [==============================] - 32s 24ms/step - loss: 151.8111 - coeff_determination: 0.9112 - val_loss: 269.3847 - val_coeff_determination: 0.5338\n",
      "Epoch 16/60\n",
      "1357/1357 [==============================] - 32s 24ms/step - loss: 149.8340 - coeff_determination: 0.9149 - val_loss: 173.1242 - val_coeff_determination: 0.8263\n",
      "Epoch 17/60\n",
      "1357/1357 [==============================] - 32s 24ms/step - loss: 149.8630 - coeff_determination: 0.9139 - val_loss: 820.5475 - val_coeff_determination: -3.0251\n",
      "Epoch 18/60\n",
      "1357/1357 [==============================] - 32s 24ms/step - loss: 148.1148 - coeff_determination: 0.9170 - val_loss: 335.7478 - val_coeff_determination: 0.2945\n",
      "Epoch 19/60\n",
      "1357/1357 [==============================] - 32s 24ms/step - loss: 147.3671 - coeff_determination: 0.9173 - val_loss: 150.1225 - val_coeff_determination: 0.8484\n",
      "Epoch 20/60\n",
      "1357/1357 [==============================] - 32s 23ms/step - loss: 147.9599 - coeff_determination: 0.9147 - val_loss: 194.0382 - val_coeff_determination: 0.7569\n",
      "Epoch 21/60\n",
      "1357/1357 [==============================] - 29s 21ms/step - loss: 146.2683 - coeff_determination: 0.9181 - val_loss: 185.9837 - val_coeff_determination: 0.8007\n",
      "Epoch 22/60\n",
      "1357/1357 [==============================] - 29s 21ms/step - loss: 146.1241 - coeff_determination: 0.9176 - val_loss: 285.2157 - val_coeff_determination: 0.5383\n",
      "Epoch 23/60\n",
      "1357/1357 [==============================] - 29s 21ms/step - loss: 145.2202 - coeff_determination: 0.9186 - val_loss: 216.1646 - val_coeff_determination: 0.7473\n",
      "Epoch 24/60\n",
      "1357/1357 [==============================] - 29s 21ms/step - loss: 145.4407 - coeff_determination: 0.9179 - val_loss: 184.9184 - val_coeff_determination: 0.7938\n",
      "Epoch 25/60\n",
      "1357/1357 [==============================] - 29s 21ms/step - loss: 144.6306 - coeff_determination: 0.9189 - val_loss: 180.2582 - val_coeff_determination: 0.8155\n",
      "Epoch 26/60\n",
      "1357/1357 [==============================] - 29s 21ms/step - loss: 144.0074 - coeff_determination: 0.9194 - val_loss: 141.5598 - val_coeff_determination: 0.8592\n",
      "Epoch 27/60\n",
      "1357/1357 [==============================] - 29s 21ms/step - loss: 143.7480 - coeff_determination: 0.9197 - val_loss: 180.8354 - val_coeff_determination: 0.7979\n",
      "Epoch 28/60\n",
      "1357/1357 [==============================] - 29s 21ms/step - loss: 143.9373 - coeff_determination: 0.9186 - val_loss: 195.3352 - val_coeff_determination: 0.7964\n",
      "Epoch 29/60\n",
      "1357/1357 [==============================] - 29s 21ms/step - loss: 143.5002 - coeff_determination: 0.9193 - val_loss: 165.9821 - val_coeff_determination: 0.8288\n",
      "Epoch 30/60\n",
      "1357/1357 [==============================] - 29s 21ms/step - loss: 142.6777 - coeff_determination: 0.9203 - val_loss: 296.1087 - val_coeff_determination: 0.5092\n",
      "Epoch 31/60\n",
      "1357/1357 [==============================] - 29s 21ms/step - loss: 142.5832 - coeff_determination: 0.9200 - val_loss: 281.4237 - val_coeff_determination: 0.5053\n",
      "Epoch 32/60\n",
      "1357/1357 [==============================] - 29s 21ms/step - loss: 142.3239 - coeff_determination: 0.9209 - val_loss: 193.5659 - val_coeff_determination: 0.7778\n",
      "Epoch 33/60\n",
      "1357/1357 [==============================] - 29s 21ms/step - loss: 142.0514 - coeff_determination: 0.9209 - val_loss: 132.0846 - val_coeff_determination: 0.8725\n",
      "Epoch 34/60\n",
      "1357/1357 [==============================] - 29s 21ms/step - loss: 141.6230 - coeff_determination: 0.9214 - val_loss: 200.6555 - val_coeff_determination: 0.7710\n",
      "Epoch 35/60\n",
      "1357/1357 [==============================] - 29s 21ms/step - loss: 141.5719 - coeff_determination: 0.9211 - val_loss: 151.8738 - val_coeff_determination: 0.8507\n",
      "Epoch 36/60\n",
      "1357/1357 [==============================] - 29s 21ms/step - loss: 141.4305 - coeff_determination: 0.9206 - val_loss: 209.6780 - val_coeff_determination: 0.7393\n",
      "Epoch 37/60\n",
      "1357/1357 [==============================] - 29s 21ms/step - loss: 141.2747 - coeff_determination: 0.9209 - val_loss: 140.5829 - val_coeff_determination: 0.8651\n",
      "Epoch 38/60\n",
      "1357/1357 [==============================] - 29s 21ms/step - loss: 140.6825 - coeff_determination: 0.9217 - val_loss: 235.0459 - val_coeff_determination: 0.6531\n",
      "Epoch 39/60\n",
      "1357/1357 [==============================] - 29s 21ms/step - loss: 140.5799 - coeff_determination: 0.9218 - val_loss: 174.8724 - val_coeff_determination: 0.8212\n",
      "Epoch 40/60\n",
      "1357/1357 [==============================] - 29s 21ms/step - loss: 140.7420 - coeff_determination: 0.9205 - val_loss: 172.3452 - val_coeff_determination: 0.8283\n",
      "Epoch 41/60\n",
      "1357/1357 [==============================] - 29s 21ms/step - loss: 140.0782 - coeff_determination: 0.9222 - val_loss: 140.3268 - val_coeff_determination: 0.8660\n",
      "Epoch 42/60\n",
      "1357/1357 [==============================] - 29s 21ms/step - loss: 139.8688 - coeff_determination: 0.9219 - val_loss: 189.4933 - val_coeff_determination: 0.7928\n",
      "Epoch 43/60\n",
      "1357/1357 [==============================] - 29s 21ms/step - loss: 140.1450 - coeff_determination: 0.9208 - val_loss: 147.9161 - val_coeff_determination: 0.8533\n",
      "Epoch 44/60\n",
      "1357/1357 [==============================] - 29s 21ms/step - loss: 139.2794 - coeff_determination: 0.9227 - val_loss: 236.8446 - val_coeff_determination: 0.6608\n",
      "Epoch 45/60\n",
      "1357/1357 [==============================] - 29s 21ms/step - loss: 139.4255 - coeff_determination: 0.9221 - val_loss: 214.8016 - val_coeff_determination: 0.7271\n",
      "Epoch 46/60\n",
      "1357/1357 [==============================] - 29s 21ms/step - loss: 139.2436 - coeff_determination: 0.9221 - val_loss: 141.0557 - val_coeff_determination: 0.8635\n",
      "Epoch 47/60\n",
      "1357/1357 [==============================] - 29s 21ms/step - loss: 138.8530 - coeff_determination: 0.9229 - val_loss: 166.5644 - val_coeff_determination: 0.8290\n",
      "Epoch 48/60\n",
      "1357/1357 [==============================] - 29s 21ms/step - loss: 138.6831 - coeff_determination: 0.9229 - val_loss: 154.4559 - val_coeff_determination: 0.8413\n",
      "Epoch 49/60\n",
      "1357/1357 [==============================] - 29s 21ms/step - loss: 138.3675 - coeff_determination: 0.9234 - val_loss: 148.2645 - val_coeff_determination: 0.8619\n",
      "Epoch 50/60\n",
      "1357/1357 [==============================] - 29s 21ms/step - loss: 138.3856 - coeff_determination: 0.9232 - val_loss: 144.5243 - val_coeff_determination: 0.8603\n",
      "Epoch 51/60\n",
      "1357/1357 [==============================] - 29s 21ms/step - loss: 138.4455 - coeff_determination: 0.9230 - val_loss: 151.2250 - val_coeff_determination: 0.8558\n",
      "Epoch 52/60\n",
      "1357/1357 [==============================] - 29s 21ms/step - loss: 138.0807 - coeff_determination: 0.9233 - val_loss: 150.9054 - val_coeff_determination: 0.8559\n",
      "Epoch 53/60\n",
      "1357/1357 [==============================] - 29s 21ms/step - loss: 137.8871 - coeff_determination: 0.9231 - val_loss: 146.6195 - val_coeff_determination: 0.8629\n",
      "Epoch 54/60\n",
      "1357/1357 [==============================] - 29s 21ms/step - loss: 137.7307 - coeff_determination: 0.9237 - val_loss: 246.8289 - val_coeff_determination: 0.6235\n",
      "Epoch 55/60\n",
      "1357/1357 [==============================] - 29s 21ms/step - loss: 137.7406 - coeff_determination: 0.9232 - val_loss: 131.3572 - val_coeff_determination: 0.8707\n",
      "Epoch 56/60\n",
      "1357/1357 [==============================] - 29s 21ms/step - loss: 137.2978 - coeff_determination: 0.9239 - val_loss: 130.2319 - val_coeff_determination: 0.8752\n",
      "Epoch 57/60\n",
      "1357/1357 [==============================] - 29s 21ms/step - loss: 137.3786 - coeff_determination: 0.9237 - val_loss: 141.6056 - val_coeff_determination: 0.8625\n",
      "Epoch 58/60\n",
      "1357/1357 [==============================] - 29s 21ms/step - loss: 137.0784 - coeff_determination: 0.9244 - val_loss: 135.9277 - val_coeff_determination: 0.8670\n",
      "Epoch 59/60\n",
      "1357/1357 [==============================] - 29s 21ms/step - loss: 137.1286 - coeff_determination: 0.9238 - val_loss: 161.7452 - val_coeff_determination: 0.8445\n",
      "Epoch 60/60\n",
      "1357/1357 [==============================] - 29s 21ms/step - loss: 136.9451 - coeff_determination: 0.9237 - val_loss: 147.9230 - val_coeff_determination: 0.8610\n"
     ]
    }
   ],
   "source": [
    "valid_data = (positions_valid, scores_valid)\n",
    "nb_epochs = 60\n",
    "history = model.fit(positions_train, scores_train, validation_data=valid_data, verbose=1, epochs=nb_epochs, batch_size=1024)"
   ]
  },
  {
   "cell_type": "markdown",
   "metadata": {},
   "source": [
    "We save the model."
   ]
  },
  {
   "cell_type": "code",
   "execution_count": 6,
   "metadata": {},
   "outputs": [
    {
     "name": "stderr",
     "output_type": "stream",
     "text": [
      "/home/gaetan/.local/lib/python3.9/site-packages/keras/engine/functional.py:1410: CustomMaskWarning: Custom mask layers require a config and must override get_config. When loading, the custom mask layer must be passed to the custom_objects argument.\n",
      "  layer_config = serialize_layer_fn(layer)\n"
     ]
    }
   ],
   "source": [
    "model.save(\"model/GAiA_Network.h5\")"
   ]
  },
  {
   "cell_type": "markdown",
   "metadata": {},
   "source": [
    "We convert the model to onnx format so that the engine can use it."
   ]
  },
  {
   "cell_type": "code",
   "execution_count": 10,
   "metadata": {},
   "outputs": [
    {
     "name": "stdout",
     "output_type": "stream",
     "text": [
      "INFO:tensorflow:Assets written to: model/GAiA_Network/assets\n",
      "/usr/lib/python3.9/runpy.py:127: RuntimeWarning: 'tf2onnx.convert' found in sys.modules after import of package 'tf2onnx', but prior to execution of 'tf2onnx.convert'; this may result in unpredictable behaviour\n",
      "  warn(RuntimeWarning(msg))\n",
      "2022-01-11 21:00:21,915 - WARNING - '--tag' not specified for saved_model. Using --tag serve\n",
      "2022-01-11 21:00:24,120 - INFO - Signatures found in model: [serving_default].\n",
      "2022-01-11 21:00:24,120 - WARNING - '--signature_def' not specified, using first signature: serving_default\n",
      "2022-01-11 21:00:24,121 - INFO - Output names: ['output']\n",
      "WARNING:tensorflow:From /home/gaetan/.local/lib/python3.9/site-packages/tf2onnx/tf_loader.py:706: extract_sub_graph (from tensorflow.python.framework.graph_util_impl) is deprecated and will be removed in a future version.\n",
      "Instructions for updating:\n",
      "Use `tf.compat.v1.graph_util.extract_sub_graph`\n",
      "2022-01-11 21:00:24,436 - WARNING - From /home/gaetan/.local/lib/python3.9/site-packages/tf2onnx/tf_loader.py:706: extract_sub_graph (from tensorflow.python.framework.graph_util_impl) is deprecated and will be removed in a future version.\n",
      "Instructions for updating:\n",
      "Use `tf.compat.v1.graph_util.extract_sub_graph`\n",
      "2022-01-11 21:00:24,560 - INFO - Using tensorflow=2.7.0, onnx=1.10.2, tf2onnx=1.9.3/1190aa\n",
      "2022-01-11 21:00:24,560 - INFO - Using opset <onnx, 9>\n",
      "2022-01-11 21:00:24,806 - INFO - Computed 0 values for constant folding\n",
      "2022-01-11 21:00:24,909 - INFO - Optimizing ONNX model\n",
      "2022-01-11 21:00:25,169 - INFO - After optimization: BatchNormalization -9 (10->1), Cast -1 (1->0), Const -48 (91->43), GlobalAveragePool +4 (0->4), Identity -5 (5->0), ReduceMean -4 (4->0), Squeeze +4 (0->4), Transpose -30 (40->10)\n",
      "2022-01-11 21:00:25,174 - INFO - \n",
      "2022-01-11 21:00:25,174 - INFO - Successfully converted TensorFlow model model/GAiA_Network to ONNX\n",
      "2022-01-11 21:00:25,174 - INFO - Model inputs: ['input']\n",
      "2022-01-11 21:00:25,174 - INFO - Model outputs: ['output']\n",
      "2022-01-11 21:00:25,174 - INFO - ONNX model is saved at ../Engine/build/network.onnx\n"
     ]
    }
   ],
   "source": [
    "tf.saved_model.save(model, \"model/GAiA_Network\")\n",
    "!python3.9 -m tf2onnx.convert --saved-model model/GAiA_Network --output ../Engine/build/network.onnx"
   ]
  },
  {
   "cell_type": "code",
   "execution_count": 1,
   "metadata": {},
   "outputs": [],
   "source": [
    "def plot_history(history, path=None):\n",
    "  epochs = range(1, nb_epochs + 1)\n",
    "\n",
    "  _, axs = plt.subplots(1, 2, figsize=(20, 5))\n",
    "  loss = history.history[\"loss\"]\n",
    "  score = history.history[\"coeff_determination\"]\n",
    "\n",
    "  axs[0].plot(epochs, loss, \"r-.\")\n",
    "  axs[0].set_xlabel(\"Epoch\")\n",
    "  axs[0].set_ylabel(\"Mean Absolute Error\")\n",
    "  axs[0].set_title(\"Training loss\")\n",
    "\n",
    "  axs[1].plot(epochs, score, \"g-.\")\n",
    "  axs[1].set_xlabel(\"Epoch\")\n",
    "  axs[1].set_ylabel(\"$R^2$\")\n",
    "  axs[1].set_title(\"Training score\")\n",
    "  \n",
    "  if path:\n",
    "    plt.savefig(path)"
   ]
  },
  {
   "cell_type": "markdown",
   "metadata": {},
   "source": [
    "We plot the loss and accuracy of each epoch."
   ]
  },
  {
   "cell_type": "code",
   "execution_count": 12,
   "metadata": {},
   "outputs": [
    {
     "data": {
      "image/png": "[encoded data removed]",
      "text/plain": [
       "<Figure size 1440x360 with 2 Axes>"
      ]
     },
     "metadata": {
      "needs_background": "light"
     },
     "output_type": "display_data"
    }
   ],
   "source": [
    "plot_history(history, path=\"results/GAiA_history\")"
   ]
  },
  {
   "cell_type": "code",
   "execution_count": null,
   "metadata": {},
   "outputs": [],
   "source": []
  }
 ],
 "metadata": {
  "interpreter": {
   "hash": "0f75f4719866b1a07819bd6ea6d9d48c1f255c430bb3a8b091292950e4ac54e9"
  },
  "kernelspec": {
   "display_name": "Python 3.9.7 64-bit (system)",
   "language": "python",
   "name": "python3"
  },
  "language_info": {
   "codemirror_mode": {
    "name": "ipython",
    "version": 3
   },
   "file_extension": ".py",
   "mimetype": "text/x-python",
   "name": "python",
   "nbconvert_exporter": "python",
   "pygments_lexer": "ipython3",
   "version": "3.9.9"
  },
  "orig_nbformat": 4
 },
 "nbformat": 4,
 "nbformat_minor": 2
}
